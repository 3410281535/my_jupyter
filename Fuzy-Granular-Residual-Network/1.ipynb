{
 "cells": [
  {
   "cell_type": "markdown",
   "id": "9e6a1057-06e0-43c1-a6a4-fb798370ad89",
   "metadata": {},
   "source": [
    "**信息系统** $\\ U\\ =\\  (\\ X\\ ,\\ C\\ ,\\ D\\ )\\ $ , **样本集**$\\ X\\ =\\ ${$\\ x_1\\ ,\\ \\ x_2\\ ,\\ …\\ ,\\ x_n\\ $}  ,  样本对应的**特征集**$\\ C\\ =\\ ${$\\ c_1\\ ,\\ c_2\\ ,\\ …\\ ,\\ c_n\\ $}  ,  $\\ D$ : 样本对应的**决策集** \n",
    "<BR>\n",
    "从$\\ X\\ $中随机选取**参考样本集**$\\ P\\ =\\ ${$\\ p_1\\ ,\\ \\ p_2\\ ,\\ …\\ ,\\ p_n\\ $}$\\ \\subseteq\\ X\\ $\n",
    "<BR>\n",
    "对于给定的样本集中的样本$\\ x\\ \\in\\ X\\ $, 有对应特征$\\ c\\ \\in\\ C$, 样本$\\ x\\ $在特征$\\ c\\ $上**归一化的值**用$\\ v\\ (\\ x\\ ,\\ c\\ )\\ \\in\\ [\\ 0\\ ,\\ 1\\ ]\\ $表示\n",
    "<BR>\n",
    "样本$\\ x\\ $和参考样本$\\ p\\ $在特征$\\ c\\ $上的**相似度**用$\\ S_c(\\ x\\ ,\\ p\\ )\\ =\\ 1\\ -\\ |\\ v\\ (\\ x\\ ,\\ c\\ )\\ -\\ v\\ (\\ p\\ ,\\ c\\ )\\ |\\ $表示\n",
    "<BR>\n",
    "把 样本$\\ x\\ $ 和 参考样本集$\\ P\\ =\\ ${$\\ p_1\\ ,\\ \\ p_2\\ ,\\ …\\ ,\\ p_n\\ $} 在 任意特征$\\ c\\ \\in\\ C\\ $上模糊造粒\n",
    "<BR>\n",
    "样本$\\ x\\ $在 特征$\\ c\\ $上的 **模糊粒** 为 : $\\ g_c(\\ x\\ )\\ =\\ \\{\\ {g_c(\\ x\\ )}_j\\}^k_{j=1}$"
   ]
  }
 ],
 "metadata": {
  "kernelspec": {
   "display_name": "Python 3 (ipykernel)",
   "language": "python",
   "name": "python3"
  },
  "language_info": {
   "codemirror_mode": {
    "name": "ipython",
    "version": 3
   },
   "file_extension": ".py",
   "mimetype": "text/x-python",
   "name": "python",
   "nbconvert_exporter": "python",
   "pygments_lexer": "ipython3",
   "version": "3.11.5"
  },
  "widgets": {
   "application/vnd.jupyter.widget-state+json": {
    "state": {},
    "version_major": 2,
    "version_minor": 0
   }
  }
 },
 "nbformat": 4,
 "nbformat_minor": 5
}
