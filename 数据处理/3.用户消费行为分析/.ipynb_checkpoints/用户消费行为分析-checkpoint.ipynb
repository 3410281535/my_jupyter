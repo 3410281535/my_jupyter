{
 "cells": [
  {
   "cell_type": "code",
   "execution_count": 1,
   "id": "fe9c16b2-7fc0-46bf-935c-16d240b32b48",
   "metadata": {
    "execution": {
     "iopub.execute_input": "2024-08-13T02:36:26.140466Z",
     "iopub.status.busy": "2024-08-13T02:36:26.140466Z",
     "iopub.status.idle": "2024-08-13T02:36:26.145011Z",
     "shell.execute_reply": "2024-08-13T02:36:26.145011Z",
     "shell.execute_reply.started": "2024-08-13T02:36:26.140466Z"
    }
   },
   "outputs": [],
   "source": [
    "# 数据内容\n",
    "# user_id order_date order_num order_account"
   ]
  },
  {
   "cell_type": "code",
   "execution_count": 2,
   "id": "86a7a8e1-28d3-4844-8a92-460112e71fe5",
   "metadata": {
    "execution": {
     "iopub.execute_input": "2024-08-13T02:36:26.146734Z",
     "iopub.status.busy": "2024-08-13T02:36:26.146734Z",
     "iopub.status.idle": "2024-08-13T02:36:27.509532Z",
     "shell.execute_reply": "2024-08-13T02:36:27.509532Z",
     "shell.execute_reply.started": "2024-08-13T02:36:26.146734Z"
    }
   },
   "outputs": [],
   "source": [
    "import numpy as np\n",
    "import pandas as pd \n",
    "import matplotlib.pyplot as plt \n",
    "from datetime import datetime\n",
    "%matplotlib inline\n",
    "plt.style.use('ggplot')\n",
    "plt.rcParams['font.sans-serif'] = ['SimHei']"
   ]
  },
  {
   "cell_type": "code",
   "execution_count": 3,
   "id": "7cc2dea6-b126-4449-8ba8-f371e9f35674",
   "metadata": {
    "execution": {
     "iopub.execute_input": "2024-08-13T02:36:27.510543Z",
     "iopub.status.busy": "2024-08-13T02:36:27.510543Z",
     "iopub.status.idle": "2024-08-13T02:36:27.615929Z",
     "shell.execute_reply": "2024-08-13T02:36:27.615929Z",
     "shell.execute_reply.started": "2024-08-13T02:36:27.510543Z"
    }
   },
   "outputs": [
    {
     "data": {
      "text/html": [
       "<div>\n",
       "<style scoped>\n",
       "    .dataframe tbody tr th:only-of-type {\n",
       "        vertical-align: middle;\n",
       "    }\n",
       "\n",
       "    .dataframe tbody tr th {\n",
       "        vertical-align: top;\n",
       "    }\n",
       "\n",
       "    .dataframe thead th {\n",
       "        text-align: right;\n",
       "    }\n",
       "</style>\n",
       "<table border=\"1\" class=\"dataframe\">\n",
       "  <thead>\n",
       "    <tr style=\"text-align: right;\">\n",
       "      <th></th>\n",
       "      <th>user_id</th>\n",
       "      <th>order_dt</th>\n",
       "      <th>order_num</th>\n",
       "      <th>order_account</th>\n",
       "    </tr>\n",
       "  </thead>\n",
       "  <tbody>\n",
       "    <tr>\n",
       "      <th>0</th>\n",
       "      <td>1</td>\n",
       "      <td>19970101</td>\n",
       "      <td>1</td>\n",
       "      <td>11.77</td>\n",
       "    </tr>\n",
       "    <tr>\n",
       "      <th>1</th>\n",
       "      <td>2</td>\n",
       "      <td>19970112</td>\n",
       "      <td>1</td>\n",
       "      <td>12.00</td>\n",
       "    </tr>\n",
       "    <tr>\n",
       "      <th>2</th>\n",
       "      <td>2</td>\n",
       "      <td>19970112</td>\n",
       "      <td>5</td>\n",
       "      <td>77.00</td>\n",
       "    </tr>\n",
       "    <tr>\n",
       "      <th>3</th>\n",
       "      <td>3</td>\n",
       "      <td>19970102</td>\n",
       "      <td>2</td>\n",
       "      <td>20.76</td>\n",
       "    </tr>\n",
       "    <tr>\n",
       "      <th>4</th>\n",
       "      <td>3</td>\n",
       "      <td>19970330</td>\n",
       "      <td>2</td>\n",
       "      <td>20.76</td>\n",
       "    </tr>\n",
       "  </tbody>\n",
       "</table>\n",
       "</div>"
      ],
      "text/plain": [
       "   user_id  order_dt  order_num  order_account\n",
       "0        1  19970101          1          11.77\n",
       "1        2  19970112          1          12.00\n",
       "2        2  19970112          5          77.00\n",
       "3        3  19970102          2          20.76\n",
       "4        3  19970330          2          20.76"
      ]
     },
     "execution_count": 3,
     "metadata": {},
     "output_type": "execute_result"
    }
   ],
   "source": [
    "# 导入数据\n",
    "columns = ['user_id', 'order_dt', 'order_num', 'order_account']\n",
    "df = pd.read_table('CDNOW_master.txt', names=columns,sep='\\s+')  # sep:'\\s+'：匹配任意个空格\n",
    "df.head()\n",
    "# 1.日期格式转换； 2.存在同一用户一天多次购买"
   ]
  },
  {
   "cell_type": "code",
   "execution_count": 4,
   "id": "930eaa89-033c-4b2a-95b2-335e5d345c54",
   "metadata": {
    "execution": {
     "iopub.execute_input": "2024-08-13T02:36:27.617464Z",
     "iopub.status.busy": "2024-08-13T02:36:27.617464Z",
     "iopub.status.idle": "2024-08-13T02:36:27.647671Z",
     "shell.execute_reply": "2024-08-13T02:36:27.647671Z",
     "shell.execute_reply.started": "2024-08-13T02:36:27.617464Z"
    }
   },
   "outputs": [
    {
     "data": {
      "text/html": [
       "<div>\n",
       "<style scoped>\n",
       "    .dataframe tbody tr th:only-of-type {\n",
       "        vertical-align: middle;\n",
       "    }\n",
       "\n",
       "    .dataframe tbody tr th {\n",
       "        vertical-align: top;\n",
       "    }\n",
       "\n",
       "    .dataframe thead th {\n",
       "        text-align: right;\n",
       "    }\n",
       "</style>\n",
       "<table border=\"1\" class=\"dataframe\">\n",
       "  <thead>\n",
       "    <tr style=\"text-align: right;\">\n",
       "      <th></th>\n",
       "      <th>user_id</th>\n",
       "      <th>order_dt</th>\n",
       "      <th>order_num</th>\n",
       "      <th>order_account</th>\n",
       "    </tr>\n",
       "  </thead>\n",
       "  <tbody>\n",
       "    <tr>\n",
       "      <th>count</th>\n",
       "      <td>69659.000000</td>\n",
       "      <td>6.965900e+04</td>\n",
       "      <td>69659.000000</td>\n",
       "      <td>69659.000000</td>\n",
       "    </tr>\n",
       "    <tr>\n",
       "      <th>mean</th>\n",
       "      <td>11470.854592</td>\n",
       "      <td>1.997228e+07</td>\n",
       "      <td>2.410040</td>\n",
       "      <td>35.893648</td>\n",
       "    </tr>\n",
       "    <tr>\n",
       "      <th>std</th>\n",
       "      <td>6819.904848</td>\n",
       "      <td>3.837735e+03</td>\n",
       "      <td>2.333924</td>\n",
       "      <td>36.281942</td>\n",
       "    </tr>\n",
       "    <tr>\n",
       "      <th>min</th>\n",
       "      <td>1.000000</td>\n",
       "      <td>1.997010e+07</td>\n",
       "      <td>1.000000</td>\n",
       "      <td>0.000000</td>\n",
       "    </tr>\n",
       "    <tr>\n",
       "      <th>25%</th>\n",
       "      <td>5506.000000</td>\n",
       "      <td>1.997022e+07</td>\n",
       "      <td>1.000000</td>\n",
       "      <td>14.490000</td>\n",
       "    </tr>\n",
       "    <tr>\n",
       "      <th>50%</th>\n",
       "      <td>11410.000000</td>\n",
       "      <td>1.997042e+07</td>\n",
       "      <td>2.000000</td>\n",
       "      <td>25.980000</td>\n",
       "    </tr>\n",
       "    <tr>\n",
       "      <th>75%</th>\n",
       "      <td>17273.000000</td>\n",
       "      <td>1.997111e+07</td>\n",
       "      <td>3.000000</td>\n",
       "      <td>43.700000</td>\n",
       "    </tr>\n",
       "    <tr>\n",
       "      <th>max</th>\n",
       "      <td>23570.000000</td>\n",
       "      <td>1.998063e+07</td>\n",
       "      <td>99.000000</td>\n",
       "      <td>1286.010000</td>\n",
       "    </tr>\n",
       "  </tbody>\n",
       "</table>\n",
       "</div>"
      ],
      "text/plain": [
       "            user_id      order_dt     order_num  order_account\n",
       "count  69659.000000  6.965900e+04  69659.000000   69659.000000\n",
       "mean   11470.854592  1.997228e+07      2.410040      35.893648\n",
       "std     6819.904848  3.837735e+03      2.333924      36.281942\n",
       "min        1.000000  1.997010e+07      1.000000       0.000000\n",
       "25%     5506.000000  1.997022e+07      1.000000      14.490000\n",
       "50%    11410.000000  1.997042e+07      2.000000      25.980000\n",
       "75%    17273.000000  1.997111e+07      3.000000      43.700000\n",
       "max    23570.000000  1.998063e+07     99.000000    1286.010000"
      ]
     },
     "execution_count": 4,
     "metadata": {},
     "output_type": "execute_result"
    }
   ],
   "source": [
    "df.describe()"
   ]
  },
  {
   "cell_type": "code",
   "execution_count": 5,
   "id": "cca4669e-6748-4525-9739-48684c4ddb3f",
   "metadata": {
    "execution": {
     "iopub.execute_input": "2024-08-13T02:36:27.649740Z",
     "iopub.status.busy": "2024-08-13T02:36:27.648706Z",
     "iopub.status.idle": "2024-08-13T02:36:27.665861Z",
     "shell.execute_reply": "2024-08-13T02:36:27.665861Z",
     "shell.execute_reply.started": "2024-08-13T02:36:27.649740Z"
    }
   },
   "outputs": [
    {
     "name": "stdout",
     "output_type": "stream",
     "text": [
      "<class 'pandas.core.frame.DataFrame'>\n",
      "RangeIndex: 69659 entries, 0 to 69658\n",
      "Data columns (total 4 columns):\n",
      " #   Column         Non-Null Count  Dtype  \n",
      "---  ------         --------------  -----  \n",
      " 0   user_id        69659 non-null  int64  \n",
      " 1   order_dt       69659 non-null  int64  \n",
      " 2   order_num      69659 non-null  int64  \n",
      " 3   order_account  69659 non-null  float64\n",
      "dtypes: float64(1), int64(3)\n",
      "memory usage: 2.1 MB\n"
     ]
    }
   ],
   "source": [
    "df.info()"
   ]
  },
  {
   "cell_type": "markdown",
   "id": "3f693e0d-e3b3-41b6-bf0d-a309e644301d",
   "metadata": {},
   "source": [
    "#### 数据预处理 ####"
   ]
  },
  {
   "cell_type": "code",
   "execution_count": 6,
   "id": "abc7208f-b680-45b3-860d-97694ac4ffce",
   "metadata": {
    "execution": {
     "iopub.execute_input": "2024-08-13T02:36:27.670418Z",
     "iopub.status.busy": "2024-08-13T02:36:27.668921Z",
     "iopub.status.idle": "2024-08-13T02:36:27.703485Z",
     "shell.execute_reply": "2024-08-13T02:36:27.703485Z",
     "shell.execute_reply.started": "2024-08-13T02:36:27.668921Z"
    }
   },
   "outputs": [
    {
     "data": {
      "text/html": [
       "<div>\n",
       "<style scoped>\n",
       "    .dataframe tbody tr th:only-of-type {\n",
       "        vertical-align: middle;\n",
       "    }\n",
       "\n",
       "    .dataframe tbody tr th {\n",
       "        vertical-align: top;\n",
       "    }\n",
       "\n",
       "    .dataframe thead th {\n",
       "        text-align: right;\n",
       "    }\n",
       "</style>\n",
       "<table border=\"1\" class=\"dataframe\">\n",
       "  <thead>\n",
       "    <tr style=\"text-align: right;\">\n",
       "      <th></th>\n",
       "      <th>user_id</th>\n",
       "      <th>order_dt</th>\n",
       "      <th>order_num</th>\n",
       "      <th>order_account</th>\n",
       "      <th>order_date</th>\n",
       "      <th>month</th>\n",
       "    </tr>\n",
       "  </thead>\n",
       "  <tbody>\n",
       "    <tr>\n",
       "      <th>0</th>\n",
       "      <td>1</td>\n",
       "      <td>19970101</td>\n",
       "      <td>1</td>\n",
       "      <td>11.77</td>\n",
       "      <td>1997-01-01</td>\n",
       "      <td>1997-01-01</td>\n",
       "    </tr>\n",
       "    <tr>\n",
       "      <th>1</th>\n",
       "      <td>2</td>\n",
       "      <td>19970112</td>\n",
       "      <td>1</td>\n",
       "      <td>12.00</td>\n",
       "      <td>1997-01-12</td>\n",
       "      <td>1997-01-01</td>\n",
       "    </tr>\n",
       "    <tr>\n",
       "      <th>2</th>\n",
       "      <td>2</td>\n",
       "      <td>19970112</td>\n",
       "      <td>5</td>\n",
       "      <td>77.00</td>\n",
       "      <td>1997-01-12</td>\n",
       "      <td>1997-01-01</td>\n",
       "    </tr>\n",
       "    <tr>\n",
       "      <th>3</th>\n",
       "      <td>3</td>\n",
       "      <td>19970102</td>\n",
       "      <td>2</td>\n",
       "      <td>20.76</td>\n",
       "      <td>1997-01-02</td>\n",
       "      <td>1997-01-01</td>\n",
       "    </tr>\n",
       "    <tr>\n",
       "      <th>4</th>\n",
       "      <td>3</td>\n",
       "      <td>19970330</td>\n",
       "      <td>2</td>\n",
       "      <td>20.76</td>\n",
       "      <td>1997-03-30</td>\n",
       "      <td>1997-03-01</td>\n",
       "    </tr>\n",
       "  </tbody>\n",
       "</table>\n",
       "</div>"
      ],
      "text/plain": [
       "   user_id  order_dt  order_num  order_account order_date      month\n",
       "0        1  19970101          1          11.77 1997-01-01 1997-01-01\n",
       "1        2  19970112          1          12.00 1997-01-12 1997-01-01\n",
       "2        2  19970112          5          77.00 1997-01-12 1997-01-01\n",
       "3        3  19970102          2          20.76 1997-01-02 1997-01-01\n",
       "4        3  19970330          2          20.76 1997-03-30 1997-03-01"
      ]
     },
     "execution_count": 6,
     "metadata": {},
     "output_type": "execute_result"
    }
   ],
   "source": [
    "df['order_date'] = pd.to_datetime(df['order_dt'],format='%Y%m%d')\n",
    "# 转换为按月精度的时间戳\n",
    "df['month'] = df['order_date'].dt.to_period('M').dt.to_timestamp()  # 精度转化为月\n",
    "df.head()"
   ]
  },
  {
   "cell_type": "code",
   "execution_count": 7,
   "id": "0ad65aa4-f6ca-45d5-8348-e5be295db732",
   "metadata": {
    "execution": {
     "iopub.execute_input": "2024-08-13T02:36:27.705495Z",
     "iopub.status.busy": "2024-08-13T02:36:27.704495Z",
     "iopub.status.idle": "2024-08-13T02:36:27.710165Z",
     "shell.execute_reply": "2024-08-13T02:36:27.710165Z",
     "shell.execute_reply.started": "2024-08-13T02:36:27.705495Z"
    }
   },
   "outputs": [
    {
     "data": {
      "text/plain": [
       "user_id                   int64\n",
       "order_dt                  int64\n",
       "order_num                 int64\n",
       "order_account           float64\n",
       "order_date       datetime64[ns]\n",
       "month            datetime64[ns]\n",
       "dtype: object"
      ]
     },
     "execution_count": 7,
     "metadata": {},
     "output_type": "execute_result"
    }
   ],
   "source": [
    "df.dtypes"
   ]
  },
  {
   "cell_type": "code",
   "execution_count": 8,
   "id": "5daa9973-4ab9-417b-b7c8-d676375f53cb",
   "metadata": {
    "execution": {
     "iopub.execute_input": "2024-08-13T02:36:27.711705Z",
     "iopub.status.busy": "2024-08-13T02:36:27.711705Z",
     "iopub.status.idle": "2024-08-13T02:36:28.439296Z",
     "shell.execute_reply": "2024-08-13T02:36:28.439296Z",
     "shell.execute_reply.started": "2024-08-13T02:36:27.711705Z"
    }
   },
   "outputs": [
    {
     "data": {
      "text/plain": [
       "Text(0.5, 1.0, '每月的消费人数')"
      ]
     },
     "execution_count": 8,
     "metadata": {},
     "output_type": "execute_result"
    },
    {
     "data": {
      "image/png": "[encoded data removed]",
      "text/plain": [
       "<Figure size 2000x1500 with 4 Axes>"
      ]
     },
     "metadata": {},
     "output_type": "display_data"
    }
   ],
   "source": [
    "# 按月份统计\n",
    "plt.figure(figsize=(20, 15))\n",
    "#每月产品购买数量\n",
    "plt.subplot(221)  # 两行两列，占据第一个位置\n",
    "df.groupby(by='month')['order_num'].sum().plot()\n",
    "plt.title('每月的产品购买数量')\n",
    "\n",
    "#每月消费金额\n",
    "plt.subplot(222)\n",
    "df.groupby(by='month')['order_account'].sum().plot()\n",
    "plt.title('每月的消费金额')\n",
    "#  每月消费次数\n",
    "plt.subplot(223)\n",
    "df.groupby(by='month')['user_id'].count().plot()\n",
    "plt.title('每月的消费次数')\n",
    "#  每月消费人数\n",
    "plt.subplot(224)\n",
    "df.groupby(by='month')['user_id'].apply(lambda x:len(x.drop_duplicates())).plot()\n",
    "plt.title('每月的消费人数')"
   ]
  },
  {
   "cell_type": "code",
   "execution_count": 9,
   "id": "b494ef98-512a-4c73-96a2-e580c6d08db5",
   "metadata": {
    "execution": {
     "iopub.execute_input": "2024-08-13T02:36:28.440845Z",
     "iopub.status.busy": "2024-08-13T02:36:28.440845Z",
     "iopub.status.idle": "2024-08-13T02:36:28.468658Z",
     "shell.execute_reply": "2024-08-13T02:36:28.468658Z",
     "shell.execute_reply.started": "2024-08-13T02:36:28.440845Z"
    }
   },
   "outputs": [
    {
     "name": "stdout",
     "output_type": "stream",
     "text": [
      "user_id                   int64\n",
      "order_dt                  int64\n",
      "order_num                 int64\n",
      "order_account           float64\n",
      "order_date       datetime64[ns]\n",
      "month            datetime64[ns]\n",
      "dtype: object\n",
      "           order_dt     order_num  order_account\n",
      "count  2.357000e+04  23570.000000   23570.000000\n",
      "mean   5.902627e+07      7.122656     106.080426\n",
      "std    9.460684e+07     16.983531     240.925195\n",
      "min    1.997010e+07      1.000000       0.000000\n",
      "25%    1.997021e+07      1.000000      19.970000\n",
      "50%    1.997032e+07      3.000000      43.395000\n",
      "75%    5.992125e+07      7.000000     106.475000\n",
      "max    4.334408e+09   1033.000000   13990.930000\n",
      "用户数量： 23570\n"
     ]
    }
   ],
   "source": [
    "# 用户个体维度\n",
    "print(df.dtypes)\n",
    "df_numeric = df.drop(columns=['order_date', 'month'])\n",
    "user_grouped = df_numeric.groupby(by='user_id').sum()\n",
    "print(user_grouped.describe())\n",
    "print('用户数量：',len(user_grouped))"
   ]
  },
  {
   "cell_type": "code",
   "execution_count": 10,
   "id": "09f65803-e7c8-494c-a25d-b812862d00b0",
   "metadata": {
    "execution": {
     "iopub.execute_input": "2024-08-13T02:36:28.469696Z",
     "iopub.status.busy": "2024-08-13T02:36:28.469696Z",
     "iopub.status.idle": "2024-08-13T02:36:28.731976Z",
     "shell.execute_reply": "2024-08-13T02:36:28.731976Z",
     "shell.execute_reply.started": "2024-08-13T02:36:28.469696Z"
    }
   },
   "outputs": [
    {
     "data": {
      "text/plain": [
       "<Axes: xlabel='order_num', ylabel='order_account'>"
      ]
     },
     "execution_count": 10,
     "metadata": {},
     "output_type": "execute_result"
    },
    {
     "data": {
      "image/png": "[encoded data removed]",
      "text/plain": [
       "<Figure size 640x480 with 1 Axes>"
      ]
     },
     "metadata": {},
     "output_type": "display_data"
    }
   ],
   "source": [
    "df.plot(kind='scatter', x='order_num', y='order_account')"
   ]
  },
  {
   "cell_type": "code",
   "execution_count": 11,
   "id": "19f382bf-9f19-4b01-a720-f80e4b81f523",
   "metadata": {
    "execution": {
     "iopub.execute_input": "2024-08-13T02:36:28.733088Z",
     "iopub.status.busy": "2024-08-13T02:36:28.733088Z",
     "iopub.status.idle": "2024-08-13T02:36:28.983185Z",
     "shell.execute_reply": "2024-08-13T02:36:28.983185Z",
     "shell.execute_reply.started": "2024-08-13T02:36:28.733088Z"
    }
   },
   "outputs": [
    {
     "data": {
      "text/plain": [
       "<Axes: ylabel='Frequency'>"
      ]
     },
     "execution_count": 11,
     "metadata": {},
     "output_type": "execute_result"
    },
    {
     "data": {
      "image/png": "[encoded data removed]",
      "text/plain": [
       "<Figure size 1200x400 with 2 Axes>"
      ]
     },
     "metadata": {},
     "output_type": "display_data"
    }
   ],
   "source": [
    "# 用户消费分布图\n",
    "plt.figure(figsize=(12,4))\n",
    "plt.subplot(121) \n",
    "plt.xlabel('每个订单消费金额')\n",
    "df['order_account'].plot(kind='hist',bins=50)  # bins:区间分数，影响柱子宽度，宽度 = (列最大值 - 最小值) / bins\n",
    "\n",
    "plt.subplot(122)\n",
    "plt.xlabel('每个uid购买数量') \n",
    "df.groupby(by='user_id')['order_num'].sum().plot(kind='hist',bins=50)"
   ]
  },
  {
   "cell_type": "code",
   "execution_count": 12,
   "id": "722a47d7-1b0b-4db2-8823-6bdf4897af93",
   "metadata": {
    "execution": {
     "iopub.execute_input": "2024-08-13T02:36:28.983805Z",
     "iopub.status.busy": "2024-08-13T02:36:28.983805Z",
     "iopub.status.idle": "2024-08-13T02:36:29.001854Z",
     "shell.execute_reply": "2024-08-13T02:36:29.001854Z",
     "shell.execute_reply.started": "2024-08-13T02:36:28.983805Z"
    }
   },
   "outputs": [
    {
     "data": {
      "text/html": [
       "<div>\n",
       "<style scoped>\n",
       "    .dataframe tbody tr th:only-of-type {\n",
       "        vertical-align: middle;\n",
       "    }\n",
       "\n",
       "    .dataframe tbody tr th {\n",
       "        vertical-align: top;\n",
       "    }\n",
       "\n",
       "    .dataframe thead th {\n",
       "        text-align: right;\n",
       "    }\n",
       "</style>\n",
       "<table border=\"1\" class=\"dataframe\">\n",
       "  <thead>\n",
       "    <tr style=\"text-align: right;\">\n",
       "      <th></th>\n",
       "      <th>user_id</th>\n",
       "      <th>order_account</th>\n",
       "    </tr>\n",
       "  </thead>\n",
       "  <tbody>\n",
       "    <tr>\n",
       "      <th>0</th>\n",
       "      <td>10175</td>\n",
       "      <td>0.00</td>\n",
       "    </tr>\n",
       "    <tr>\n",
       "      <th>1</th>\n",
       "      <td>4559</td>\n",
       "      <td>0.00</td>\n",
       "    </tr>\n",
       "    <tr>\n",
       "      <th>2</th>\n",
       "      <td>1948</td>\n",
       "      <td>0.00</td>\n",
       "    </tr>\n",
       "    <tr>\n",
       "      <th>3</th>\n",
       "      <td>925</td>\n",
       "      <td>0.00</td>\n",
       "    </tr>\n",
       "    <tr>\n",
       "      <th>4</th>\n",
       "      <td>10798</td>\n",
       "      <td>0.00</td>\n",
       "    </tr>\n",
       "    <tr>\n",
       "      <th>...</th>\n",
       "      <td>...</td>\n",
       "      <td>...</td>\n",
       "    </tr>\n",
       "    <tr>\n",
       "      <th>23565</th>\n",
       "      <td>7931</td>\n",
       "      <td>6497.18</td>\n",
       "    </tr>\n",
       "    <tr>\n",
       "      <th>23566</th>\n",
       "      <td>19339</td>\n",
       "      <td>6552.70</td>\n",
       "    </tr>\n",
       "    <tr>\n",
       "      <th>23567</th>\n",
       "      <td>7983</td>\n",
       "      <td>6973.07</td>\n",
       "    </tr>\n",
       "    <tr>\n",
       "      <th>23568</th>\n",
       "      <td>14048</td>\n",
       "      <td>8976.33</td>\n",
       "    </tr>\n",
       "    <tr>\n",
       "      <th>23569</th>\n",
       "      <td>7592</td>\n",
       "      <td>13990.93</td>\n",
       "    </tr>\n",
       "  </tbody>\n",
       "</table>\n",
       "<p>23570 rows × 2 columns</p>\n",
       "</div>"
      ],
      "text/plain": [
       "       user_id  order_account\n",
       "0        10175           0.00\n",
       "1         4559           0.00\n",
       "2         1948           0.00\n",
       "3          925           0.00\n",
       "4        10798           0.00\n",
       "...        ...            ...\n",
       "23565     7931        6497.18\n",
       "23566    19339        6552.70\n",
       "23567     7983        6973.07\n",
       "23568    14048        8976.33\n",
       "23569     7592       13990.93\n",
       "\n",
       "[23570 rows x 2 columns]"
      ]
     },
     "execution_count": 12,
     "metadata": {},
     "output_type": "execute_result"
    }
   ],
   "source": [
    "# 用户累计消费金额占比分析\n",
    "user_cumsum = df.groupby(by='user_id')['order_account'].sum().sort_values().reset_index()\n",
    "user_cumsum"
   ]
  },
  {
   "cell_type": "code",
   "execution_count": 13,
   "id": "d9fde225-aa1e-413b-8ce2-ef1dd4936a4b",
   "metadata": {
    "execution": {
     "iopub.execute_input": "2024-08-13T02:36:29.003364Z",
     "iopub.status.busy": "2024-08-13T02:36:29.001854Z",
     "iopub.status.idle": "2024-08-13T02:36:29.012652Z",
     "shell.execute_reply": "2024-08-13T02:36:29.012652Z",
     "shell.execute_reply.started": "2024-08-13T02:36:29.003364Z"
    }
   },
   "outputs": [
    {
     "data": {
      "text/html": [
       "<div>\n",
       "<style scoped>\n",
       "    .dataframe tbody tr th:only-of-type {\n",
       "        vertical-align: middle;\n",
       "    }\n",
       "\n",
       "    .dataframe tbody tr th {\n",
       "        vertical-align: top;\n",
       "    }\n",
       "\n",
       "    .dataframe thead th {\n",
       "        text-align: right;\n",
       "    }\n",
       "</style>\n",
       "<table border=\"1\" class=\"dataframe\">\n",
       "  <thead>\n",
       "    <tr style=\"text-align: right;\">\n",
       "      <th></th>\n",
       "      <th>user_id</th>\n",
       "      <th>order_account</th>\n",
       "      <th>num_cumsum</th>\n",
       "    </tr>\n",
       "  </thead>\n",
       "  <tbody>\n",
       "    <tr>\n",
       "      <th>23565</th>\n",
       "      <td>7931</td>\n",
       "      <td>6497.18</td>\n",
       "      <td>2463822.60</td>\n",
       "    </tr>\n",
       "    <tr>\n",
       "      <th>23566</th>\n",
       "      <td>19339</td>\n",
       "      <td>6552.70</td>\n",
       "      <td>2470375.30</td>\n",
       "    </tr>\n",
       "    <tr>\n",
       "      <th>23567</th>\n",
       "      <td>7983</td>\n",
       "      <td>6973.07</td>\n",
       "      <td>2477348.37</td>\n",
       "    </tr>\n",
       "    <tr>\n",
       "      <th>23568</th>\n",
       "      <td>14048</td>\n",
       "      <td>8976.33</td>\n",
       "      <td>2486324.70</td>\n",
       "    </tr>\n",
       "    <tr>\n",
       "      <th>23569</th>\n",
       "      <td>7592</td>\n",
       "      <td>13990.93</td>\n",
       "      <td>2500315.63</td>\n",
       "    </tr>\n",
       "  </tbody>\n",
       "</table>\n",
       "</div>"
      ],
      "text/plain": [
       "       user_id  order_account  num_cumsum\n",
       "23565     7931        6497.18  2463822.60\n",
       "23566    19339        6552.70  2470375.30\n",
       "23567     7983        6973.07  2477348.37\n",
       "23568    14048        8976.33  2486324.70\n",
       "23569     7592       13990.93  2500315.63"
      ]
     },
     "execution_count": 13,
     "metadata": {},
     "output_type": "execute_result"
    }
   ],
   "source": [
    "# 每个用户消费金额累加\n",
    "user_cumsum['num_cumsum'] = user_cumsum['order_account'].cumsum()\n",
    "user_cumsum.tail()"
   ]
  },
  {
   "cell_type": "code",
   "execution_count": 14,
   "id": "929376a1-ac8b-4f25-aea3-800f4545a0b5",
   "metadata": {
    "execution": {
     "iopub.execute_input": "2024-08-13T02:36:29.013873Z",
     "iopub.status.busy": "2024-08-13T02:36:29.013873Z",
     "iopub.status.idle": "2024-08-13T02:36:29.085871Z",
     "shell.execute_reply": "2024-08-13T02:36:29.085871Z",
     "shell.execute_reply.started": "2024-08-13T02:36:29.013873Z"
    }
   },
   "outputs": [
    {
     "data": {
      "text/html": [
       "<div>\n",
       "<style scoped>\n",
       "    .dataframe tbody tr th:only-of-type {\n",
       "        vertical-align: middle;\n",
       "    }\n",
       "\n",
       "    .dataframe tbody tr th {\n",
       "        vertical-align: top;\n",
       "    }\n",
       "\n",
       "    .dataframe thead th {\n",
       "        text-align: right;\n",
       "    }\n",
       "</style>\n",
       "<table border=\"1\" class=\"dataframe\">\n",
       "  <thead>\n",
       "    <tr style=\"text-align: right;\">\n",
       "      <th></th>\n",
       "      <th>user_id</th>\n",
       "      <th>order_account</th>\n",
       "      <th>num_cumsum</th>\n",
       "      <th>prop</th>\n",
       "    </tr>\n",
       "  </thead>\n",
       "  <tbody>\n",
       "    <tr>\n",
       "      <th>23565</th>\n",
       "      <td>7931</td>\n",
       "      <td>6497.18</td>\n",
       "      <td>2463822.60</td>\n",
       "      <td>0.985405</td>\n",
       "    </tr>\n",
       "    <tr>\n",
       "      <th>23566</th>\n",
       "      <td>19339</td>\n",
       "      <td>6552.70</td>\n",
       "      <td>2470375.30</td>\n",
       "      <td>0.988025</td>\n",
       "    </tr>\n",
       "    <tr>\n",
       "      <th>23567</th>\n",
       "      <td>7983</td>\n",
       "      <td>6973.07</td>\n",
       "      <td>2477348.37</td>\n",
       "      <td>0.990814</td>\n",
       "    </tr>\n",
       "    <tr>\n",
       "      <th>23568</th>\n",
       "      <td>14048</td>\n",
       "      <td>8976.33</td>\n",
       "      <td>2486324.70</td>\n",
       "      <td>0.994404</td>\n",
       "    </tr>\n",
       "    <tr>\n",
       "      <th>23569</th>\n",
       "      <td>7592</td>\n",
       "      <td>13990.93</td>\n",
       "      <td>2500315.63</td>\n",
       "      <td>1.000000</td>\n",
       "    </tr>\n",
       "  </tbody>\n",
       "</table>\n",
       "</div>"
      ],
      "text/plain": [
       "       user_id  order_account  num_cumsum      prop\n",
       "23565     7931        6497.18  2463822.60  0.985405\n",
       "23566    19339        6552.70  2470375.30  0.988025\n",
       "23567     7983        6973.07  2477348.37  0.990814\n",
       "23568    14048        8976.33  2486324.70  0.994404\n",
       "23569     7592       13990.93  2500315.63  1.000000"
      ]
     },
     "execution_count": 14,
     "metadata": {},
     "output_type": "execute_result"
    }
   ],
   "source": [
    "num_total = user_cumsum['num_cumsum'].max()  # 消费金额总值\n",
    "user_cumsum['prop'] = user_cumsum.apply(lambda x:x['num_cumsum'] / num_total,axis=1)  # 前x名用户的总贡献率\n",
    "user_cumsum.tail()"
   ]
  },
  {
   "cell_type": "code",
   "execution_count": 15,
   "id": "b96a54f7-01fb-4f5c-95f6-1544f546ea8e",
   "metadata": {
    "execution": {
     "iopub.execute_input": "2024-08-13T02:36:29.086879Z",
     "iopub.status.busy": "2024-08-13T02:36:29.085871Z",
     "iopub.status.idle": "2024-08-13T02:36:29.173649Z",
     "shell.execute_reply": "2024-08-13T02:36:29.173649Z",
     "shell.execute_reply.started": "2024-08-13T02:36:29.086879Z"
    }
   },
   "outputs": [
    {
     "data": {
      "text/plain": [
       "<Axes: >"
      ]
     },
     "execution_count": 15,
     "metadata": {},
     "output_type": "execute_result"
    },
    {
     "data": {
      "image/png": "[encoded data removed]",
      "text/plain": [
       "<Figure size 640x480 with 1 Axes>"
      ]
     },
     "metadata": {},
     "output_type": "display_data"
    }
   ],
   "source": [
    "user_cumsum['prop'].plot()"
   ]
  },
  {
   "cell_type": "markdown",
   "id": "7f8fbe4a-6fe6-4279-b071-8e4038f4c185",
   "metadata": {},
   "source": [
    "### 用户消费行为"
   ]
  },
  {
   "cell_type": "code",
   "execution_count": 16,
   "id": "d08bc976-7d02-4e5f-b275-6fc2723f606b",
   "metadata": {
    "execution": {
     "iopub.execute_input": "2024-08-13T02:36:29.174733Z",
     "iopub.status.busy": "2024-08-13T02:36:29.173649Z",
     "iopub.status.idle": "2024-08-13T02:36:29.303740Z",
     "shell.execute_reply": "2024-08-13T02:36:29.303740Z",
     "shell.execute_reply.started": "2024-08-13T02:36:29.174733Z"
    }
   },
   "outputs": [
    {
     "data": {
      "text/plain": [
       "<Axes: xlabel='order_date'>"
      ]
     },
     "execution_count": 16,
     "metadata": {},
     "output_type": "execute_result"
    },
    {
     "data": {
      "image/png": "[encoded data removed]",
      "text/plain": [
       "<Figure size 640x480 with 1 Axes>"
      ]
     },
     "metadata": {},
     "output_type": "display_data"
    }
   ],
   "source": [
    "# 用户分组\n",
    "# 1.首购时间\n",
    "df.groupby(by='user_id')['order_date'].min().value_counts().plot()"
   ]
  },
  {
   "cell_type": "code",
   "execution_count": 17,
   "id": "02e7b28a-3d61-4f38-b8d2-a9eb159f6864",
   "metadata": {
    "execution": {
     "iopub.execute_input": "2024-08-13T02:36:29.305842Z",
     "iopub.status.busy": "2024-08-13T02:36:29.304814Z",
     "iopub.status.idle": "2024-08-13T02:36:29.475258Z",
     "shell.execute_reply": "2024-08-13T02:36:29.475258Z",
     "shell.execute_reply.started": "2024-08-13T02:36:29.305842Z"
    }
   },
   "outputs": [
    {
     "data": {
      "text/plain": [
       "<Axes: xlabel='order_date'>"
      ]
     },
     "execution_count": 17,
     "metadata": {},
     "output_type": "execute_result"
    },
    {
     "data": {
      "image/png": "[encoded data removed]",
      "text/plain": [
       "<Figure size 640x480 with 1 Axes>"
      ]
     },
     "metadata": {},
     "output_type": "display_data"
    }
   ],
   "source": [
    "# 最后一次购买时间\n",
    "df.groupby(by='user_id')['order_date'].max().value_counts().plot()"
   ]
  },
  {
   "cell_type": "markdown",
   "id": "b5186f06-8d71-48e7-bb35-4bf3fb0dd990",
   "metadata": {},
   "source": [
    "### 用户分层\n",
    "1. 构建RFM模型\n",
    "   为了精细化运营，可利用RFM模型对用户价值指数进行计算。\n",
    "    - **R** ( Recency ) : 最近一次消费\n",
    "    - **F** ( Frequency ) : 消费频率\n",
    "    - **M** ( Monetary ) : 消费金额"
   ]
  },
  {
   "cell_type": "markdown",
   "id": "ea110fc7-701b-41e5-9e33-d7c48fd59971",
   "metadata": {},
   "source": [
    "2. 透视表\n",
    "   一种可以对数据动态排布并且分类汇总的表格格式，可在pandas库中用pivot_table函数实现。"
   ]
  },
  {
   "cell_type": "code",
   "execution_count": 18,
   "id": "8865f212-06b0-4956-92c4-d270d2f6a2ba",
   "metadata": {
    "execution": {
     "iopub.execute_input": "2024-08-13T02:36:29.475258Z",
     "iopub.status.busy": "2024-08-13T02:36:29.475258Z",
     "iopub.status.idle": "2024-08-13T02:36:29.496877Z",
     "shell.execute_reply": "2024-08-13T02:36:29.496877Z",
     "shell.execute_reply.started": "2024-08-13T02:36:29.475258Z"
    }
   },
   "outputs": [
    {
     "data": {
      "text/html": [
       "<div>\n",
       "<style scoped>\n",
       "    .dataframe tbody tr th:only-of-type {\n",
       "        vertical-align: middle;\n",
       "    }\n",
       "\n",
       "    .dataframe tbody tr th {\n",
       "        vertical-align: top;\n",
       "    }\n",
       "\n",
       "    .dataframe thead th {\n",
       "        text-align: right;\n",
       "    }\n",
       "</style>\n",
       "<table border=\"1\" class=\"dataframe\">\n",
       "  <thead>\n",
       "    <tr style=\"text-align: right;\">\n",
       "      <th></th>\n",
       "      <th>order_account</th>\n",
       "      <th>order_date</th>\n",
       "      <th>order_num</th>\n",
       "    </tr>\n",
       "    <tr>\n",
       "      <th>user_id</th>\n",
       "      <th></th>\n",
       "      <th></th>\n",
       "      <th></th>\n",
       "    </tr>\n",
       "  </thead>\n",
       "  <tbody>\n",
       "    <tr>\n",
       "      <th>1</th>\n",
       "      <td>11.77</td>\n",
       "      <td>1997-01-01</td>\n",
       "      <td>1</td>\n",
       "    </tr>\n",
       "    <tr>\n",
       "      <th>2</th>\n",
       "      <td>89.00</td>\n",
       "      <td>1997-01-12</td>\n",
       "      <td>6</td>\n",
       "    </tr>\n",
       "    <tr>\n",
       "      <th>3</th>\n",
       "      <td>156.46</td>\n",
       "      <td>1998-05-28</td>\n",
       "      <td>16</td>\n",
       "    </tr>\n",
       "    <tr>\n",
       "      <th>4</th>\n",
       "      <td>100.50</td>\n",
       "      <td>1997-12-12</td>\n",
       "      <td>7</td>\n",
       "    </tr>\n",
       "    <tr>\n",
       "      <th>5</th>\n",
       "      <td>385.61</td>\n",
       "      <td>1998-01-03</td>\n",
       "      <td>29</td>\n",
       "    </tr>\n",
       "  </tbody>\n",
       "</table>\n",
       "</div>"
      ],
      "text/plain": [
       "         order_account order_date  order_num\n",
       "user_id                                     \n",
       "1                11.77 1997-01-01          1\n",
       "2                89.00 1997-01-12          6\n",
       "3               156.46 1998-05-28         16\n",
       "4               100.50 1997-12-12          7\n",
       "5               385.61 1998-01-03         29"
      ]
     },
     "execution_count": 18,
     "metadata": {},
     "output_type": "execute_result"
    }
   ],
   "source": [
    "# 用户分层\n",
    "# 1.构建RFM模型\n",
    "rfm = df.pivot_table(index='user_id',  # 相当于groupby\n",
    "                    values=['order_num', 'order_account', 'order_date'],\n",
    "                     aggfunc={  # key值必须存在于values列中\n",
    "                         'order_date':'max',  # 最后一次购买\n",
    "                         'order_num':'sum',  # 购买产品的总数量\n",
    "                         'order_account':'sum'  # 消费总金额\n",
    "                     })\n",
    "rfm.head()"
   ]
  },
  {
   "cell_type": "code",
   "execution_count": 23,
   "id": "981f2f4a-f5d0-4217-9f60-e619be363ff4",
   "metadata": {
    "execution": {
     "iopub.execute_input": "2024-08-13T02:45:15.849949Z",
     "iopub.status.busy": "2024-08-13T02:45:15.849949Z",
     "iopub.status.idle": "2024-08-13T02:45:15.856847Z",
     "shell.execute_reply": "2024-08-13T02:45:15.856847Z",
     "shell.execute_reply.started": "2024-08-13T02:45:15.849949Z"
    }
   },
   "outputs": [
    {
     "data": {
      "text/html": [
       "<div>\n",
       "<style scoped>\n",
       "    .dataframe tbody tr th:only-of-type {\n",
       "        vertical-align: middle;\n",
       "    }\n",
       "\n",
       "    .dataframe tbody tr th {\n",
       "        vertical-align: top;\n",
       "    }\n",
       "\n",
       "    .dataframe thead th {\n",
       "        text-align: right;\n",
       "    }\n",
       "</style>\n",
       "<table border=\"1\" class=\"dataframe\">\n",
       "  <thead>\n",
       "    <tr style=\"text-align: right;\">\n",
       "      <th></th>\n",
       "      <th>M</th>\n",
       "      <th>order_date</th>\n",
       "      <th>F</th>\n",
       "      <th>R</th>\n",
       "    </tr>\n",
       "    <tr>\n",
       "      <th>user_id</th>\n",
       "      <th></th>\n",
       "      <th></th>\n",
       "      <th></th>\n",
       "      <th></th>\n",
       "    </tr>\n",
       "  </thead>\n",
       "  <tbody>\n",
       "    <tr>\n",
       "      <th>1</th>\n",
       "      <td>11.77</td>\n",
       "      <td>1997-01-01</td>\n",
       "      <td>1</td>\n",
       "      <td>545.0</td>\n",
       "    </tr>\n",
       "    <tr>\n",
       "      <th>2</th>\n",
       "      <td>89.00</td>\n",
       "      <td>1997-01-12</td>\n",
       "      <td>6</td>\n",
       "      <td>534.0</td>\n",
       "    </tr>\n",
       "    <tr>\n",
       "      <th>3</th>\n",
       "      <td>156.46</td>\n",
       "      <td>1998-05-28</td>\n",
       "      <td>16</td>\n",
       "      <td>33.0</td>\n",
       "    </tr>\n",
       "    <tr>\n",
       "      <th>4</th>\n",
       "      <td>100.50</td>\n",
       "      <td>1997-12-12</td>\n",
       "      <td>7</td>\n",
       "      <td>200.0</td>\n",
       "    </tr>\n",
       "    <tr>\n",
       "      <th>5</th>\n",
       "      <td>385.61</td>\n",
       "      <td>1998-01-03</td>\n",
       "      <td>29</td>\n",
       "      <td>178.0</td>\n",
       "    </tr>\n",
       "  </tbody>\n",
       "</table>\n",
       "</div>"
      ],
      "text/plain": [
       "              M order_date   F      R\n",
       "user_id                              \n",
       "1         11.77 1997-01-01   1  545.0\n",
       "2         89.00 1997-01-12   6  534.0\n",
       "3        156.46 1998-05-28  16   33.0\n",
       "4        100.50 1997-12-12   7  200.0\n",
       "5        385.61 1998-01-03  29  178.0"
      ]
     },
     "execution_count": 23,
     "metadata": {},
     "output_type": "execute_result"
    }
   ],
   "source": [
    "rfm['R'] = (rfm['order_date'].max() - rfm['order_date']) / np.timedelta64(1, 'D')\n",
    "rfm.rename(columns={'order_num':'F', 'order_account':'M'},inplace=True)\n",
    "rfm.head()"
   ]
  },
  {
   "cell_type": "code",
   "execution_count": 31,
   "id": "b435029c-30ff-40ab-b577-ca4d80aa9d4b",
   "metadata": {
    "execution": {
     "iopub.execute_input": "2024-08-13T02:57:34.661058Z",
     "iopub.status.busy": "2024-08-13T02:57:34.660063Z",
     "iopub.status.idle": "2024-08-13T02:57:35.484232Z",
     "shell.execute_reply": "2024-08-13T02:57:35.484232Z",
     "shell.execute_reply.started": "2024-08-13T02:57:34.661058Z"
    }
   },
   "outputs": [
    {
     "data": {
      "text/html": [
       "<div>\n",
       "<style scoped>\n",
       "    .dataframe tbody tr th:only-of-type {\n",
       "        vertical-align: middle;\n",
       "    }\n",
       "\n",
       "    .dataframe tbody tr th {\n",
       "        vertical-align: top;\n",
       "    }\n",
       "\n",
       "    .dataframe thead th {\n",
       "        text-align: right;\n",
       "    }\n",
       "</style>\n",
       "<table border=\"1\" class=\"dataframe\">\n",
       "  <thead>\n",
       "    <tr style=\"text-align: right;\">\n",
       "      <th></th>\n",
       "      <th>M</th>\n",
       "      <th>order_date</th>\n",
       "      <th>F</th>\n",
       "      <th>R</th>\n",
       "      <th>label</th>\n",
       "    </tr>\n",
       "    <tr>\n",
       "      <th>user_id</th>\n",
       "      <th></th>\n",
       "      <th></th>\n",
       "      <th></th>\n",
       "      <th></th>\n",
       "      <th></th>\n",
       "    </tr>\n",
       "  </thead>\n",
       "  <tbody>\n",
       "    <tr>\n",
       "      <th>1</th>\n",
       "      <td>11.77</td>\n",
       "      <td>1997-01-01</td>\n",
       "      <td>1</td>\n",
       "      <td>545.0</td>\n",
       "      <td>一般发展客户</td>\n",
       "    </tr>\n",
       "    <tr>\n",
       "      <th>2</th>\n",
       "      <td>89.00</td>\n",
       "      <td>1997-01-12</td>\n",
       "      <td>6</td>\n",
       "      <td>534.0</td>\n",
       "      <td>一般发展客户</td>\n",
       "    </tr>\n",
       "    <tr>\n",
       "      <th>3</th>\n",
       "      <td>156.46</td>\n",
       "      <td>1998-05-28</td>\n",
       "      <td>16</td>\n",
       "      <td>33.0</td>\n",
       "      <td>重要保持客户</td>\n",
       "    </tr>\n",
       "    <tr>\n",
       "      <th>4</th>\n",
       "      <td>100.50</td>\n",
       "      <td>1997-12-12</td>\n",
       "      <td>7</td>\n",
       "      <td>200.0</td>\n",
       "      <td>一般挽留客户</td>\n",
       "    </tr>\n",
       "    <tr>\n",
       "      <th>5</th>\n",
       "      <td>385.61</td>\n",
       "      <td>1998-01-03</td>\n",
       "      <td>29</td>\n",
       "      <td>178.0</td>\n",
       "      <td>重要保持客户</td>\n",
       "    </tr>\n",
       "  </tbody>\n",
       "</table>\n",
       "</div>"
      ],
      "text/plain": [
       "              M order_date   F      R   label\n",
       "user_id                                      \n",
       "1         11.77 1997-01-01   1  545.0  一般发展客户\n",
       "2         89.00 1997-01-12   6  534.0  一般发展客户\n",
       "3        156.46 1998-05-28  16   33.0  重要保持客户\n",
       "4        100.50 1997-12-12   7  200.0  一般挽留客户\n",
       "5        385.61 1998-01-03  29  178.0  重要保持客户"
      ]
     },
     "execution_count": 31,
     "metadata": {},
     "output_type": "execute_result"
    }
   ],
   "source": [
    "# RFM计算方式：每一列数据减去数据所在列平均值，若 ≥ 1，则设为 1，否则为 0\n",
    "def rfm_func(x):\n",
    "    level = x.apply(lambda x:'1' if x>=1 else '0')\n",
    "    label = level['R'] + level['F'] + level['M']\n",
    "    d = {\n",
    "        '111':\"重要价值客户\",\n",
    "        '110':\"一般价值客户\",\n",
    "        '101':\"重要发展客户\",\n",
    "        '100':\"一般发展客户\",\n",
    "        '011':\"重要保持客户\",\n",
    "        '010':\"一般保持客户\",\n",
    "        '001':\"重要挽留客户\",\n",
    "        '000':\"一般挽留客户\",\n",
    "    }\n",
    "    result = d[label]\n",
    "    return result\n",
    "\n",
    "\n",
    "rfm['label'] = rfm[['R', 'F', 'M']].apply(lambda x:x - x.mean()).apply(rfm_func,axis=1)\n",
    "rfm.head()"
   ]
  },
  {
   "cell_type": "code",
   "execution_count": 36,
   "id": "f1af413e-ab76-4fe5-b761-e1fa61f72d27",
   "metadata": {
    "execution": {
     "iopub.execute_input": "2024-08-13T03:05:06.646919Z",
     "iopub.status.busy": "2024-08-13T03:05:06.645910Z",
     "iopub.status.idle": "2024-08-13T03:05:07.019427Z",
     "shell.execute_reply": "2024-08-13T03:05:07.019427Z",
     "shell.execute_reply.started": "2024-08-13T03:05:06.646919Z"
    }
   },
   "outputs": [
    {
     "data": {
      "text/plain": [
       "Text(0, 0.5, 'R')"
      ]
     },
     "execution_count": 36,
     "metadata": {},
     "output_type": "execute_result"
    },
    {
     "data": {
      "image/png": "[encoded data removed]",
      "text/plain": [
       "<Figure size 640x480 with 1 Axes>"
      ]
     },
     "metadata": {},
     "output_type": "display_data"
    }
   ],
   "source": [
    "# 客户分层可视化\n",
    "for label,grouped in rfm.groupby(by='label'):\n",
    "    # print(label,grouped)\n",
    "    x = grouped['F']\n",
    "    y = grouped['R']\n",
    "    plt.scatter(x, y, label=label)\n",
    "plt.legend()\n",
    "plt.xlabel('F')\n",
    "plt.ylabel('R')"
   ]
  },
  {
   "cell_type": "code",
   "execution_count": 39,
   "id": "41a3ff6a-9488-4449-9070-af921eebf6be",
   "metadata": {
    "execution": {
     "iopub.execute_input": "2024-08-13T03:08:49.460384Z",
     "iopub.status.busy": "2024-08-13T03:08:49.460384Z",
     "iopub.status.idle": "2024-08-13T03:08:49.502273Z",
     "shell.execute_reply": "2024-08-13T03:08:49.502273Z",
     "shell.execute_reply.started": "2024-08-13T03:08:49.460384Z"
    }
   },
   "outputs": [
    {
     "data": {
      "text/html": [
       "<div>\n",
       "<style scoped>\n",
       "    .dataframe tbody tr th:only-of-type {\n",
       "        vertical-align: middle;\n",
       "    }\n",
       "\n",
       "    .dataframe tbody tr th {\n",
       "        vertical-align: top;\n",
       "    }\n",
       "\n",
       "    .dataframe thead th {\n",
       "        text-align: right;\n",
       "    }\n",
       "</style>\n",
       "<table border=\"1\" class=\"dataframe\">\n",
       "  <thead>\n",
       "    <tr style=\"text-align: right;\">\n",
       "      <th>month</th>\n",
       "      <th>1997-01-01</th>\n",
       "      <th>1997-02-01</th>\n",
       "      <th>1997-03-01</th>\n",
       "      <th>1997-04-01</th>\n",
       "      <th>1997-05-01</th>\n",
       "      <th>1997-06-01</th>\n",
       "      <th>1997-07-01</th>\n",
       "      <th>1997-08-01</th>\n",
       "      <th>1997-09-01</th>\n",
       "      <th>1997-10-01</th>\n",
       "      <th>1997-11-01</th>\n",
       "      <th>1997-12-01</th>\n",
       "      <th>1998-01-01</th>\n",
       "      <th>1998-02-01</th>\n",
       "      <th>1998-03-01</th>\n",
       "      <th>1998-04-01</th>\n",
       "      <th>1998-05-01</th>\n",
       "      <th>1998-06-01</th>\n",
       "    </tr>\n",
       "    <tr>\n",
       "      <th>user_id</th>\n",
       "      <th></th>\n",
       "      <th></th>\n",
       "      <th></th>\n",
       "      <th></th>\n",
       "      <th></th>\n",
       "      <th></th>\n",
       "      <th></th>\n",
       "      <th></th>\n",
       "      <th></th>\n",
       "      <th></th>\n",
       "      <th></th>\n",
       "      <th></th>\n",
       "      <th></th>\n",
       "      <th></th>\n",
       "      <th></th>\n",
       "      <th></th>\n",
       "      <th></th>\n",
       "      <th></th>\n",
       "    </tr>\n",
       "  </thead>\n",
       "  <tbody>\n",
       "    <tr>\n",
       "      <th>1</th>\n",
       "      <td>1.0</td>\n",
       "      <td>0.0</td>\n",
       "      <td>0.0</td>\n",
       "      <td>0.0</td>\n",
       "      <td>0.0</td>\n",
       "      <td>0.0</td>\n",
       "      <td>0.0</td>\n",
       "      <td>0.0</td>\n",
       "      <td>0.0</td>\n",
       "      <td>0.0</td>\n",
       "      <td>0.0</td>\n",
       "      <td>0.0</td>\n",
       "      <td>0.0</td>\n",
       "      <td>0.0</td>\n",
       "      <td>0.0</td>\n",
       "      <td>0.0</td>\n",
       "      <td>0.0</td>\n",
       "      <td>0.0</td>\n",
       "    </tr>\n",
       "    <tr>\n",
       "      <th>2</th>\n",
       "      <td>2.0</td>\n",
       "      <td>0.0</td>\n",
       "      <td>0.0</td>\n",
       "      <td>0.0</td>\n",
       "      <td>0.0</td>\n",
       "      <td>0.0</td>\n",
       "      <td>0.0</td>\n",
       "      <td>0.0</td>\n",
       "      <td>0.0</td>\n",
       "      <td>0.0</td>\n",
       "      <td>0.0</td>\n",
       "      <td>0.0</td>\n",
       "      <td>0.0</td>\n",
       "      <td>0.0</td>\n",
       "      <td>0.0</td>\n",
       "      <td>0.0</td>\n",
       "      <td>0.0</td>\n",
       "      <td>0.0</td>\n",
       "    </tr>\n",
       "    <tr>\n",
       "      <th>3</th>\n",
       "      <td>1.0</td>\n",
       "      <td>0.0</td>\n",
       "      <td>1.0</td>\n",
       "      <td>1.0</td>\n",
       "      <td>0.0</td>\n",
       "      <td>0.0</td>\n",
       "      <td>0.0</td>\n",
       "      <td>0.0</td>\n",
       "      <td>0.0</td>\n",
       "      <td>0.0</td>\n",
       "      <td>2.0</td>\n",
       "      <td>0.0</td>\n",
       "      <td>0.0</td>\n",
       "      <td>0.0</td>\n",
       "      <td>0.0</td>\n",
       "      <td>0.0</td>\n",
       "      <td>1.0</td>\n",
       "      <td>0.0</td>\n",
       "    </tr>\n",
       "    <tr>\n",
       "      <th>4</th>\n",
       "      <td>2.0</td>\n",
       "      <td>0.0</td>\n",
       "      <td>0.0</td>\n",
       "      <td>0.0</td>\n",
       "      <td>0.0</td>\n",
       "      <td>0.0</td>\n",
       "      <td>0.0</td>\n",
       "      <td>1.0</td>\n",
       "      <td>0.0</td>\n",
       "      <td>0.0</td>\n",
       "      <td>0.0</td>\n",
       "      <td>1.0</td>\n",
       "      <td>0.0</td>\n",
       "      <td>0.0</td>\n",
       "      <td>0.0</td>\n",
       "      <td>0.0</td>\n",
       "      <td>0.0</td>\n",
       "      <td>0.0</td>\n",
       "    </tr>\n",
       "    <tr>\n",
       "      <th>5</th>\n",
       "      <td>2.0</td>\n",
       "      <td>1.0</td>\n",
       "      <td>0.0</td>\n",
       "      <td>1.0</td>\n",
       "      <td>1.0</td>\n",
       "      <td>1.0</td>\n",
       "      <td>1.0</td>\n",
       "      <td>0.0</td>\n",
       "      <td>1.0</td>\n",
       "      <td>0.0</td>\n",
       "      <td>0.0</td>\n",
       "      <td>2.0</td>\n",
       "      <td>1.0</td>\n",
       "      <td>0.0</td>\n",
       "      <td>0.0</td>\n",
       "      <td>0.0</td>\n",
       "      <td>0.0</td>\n",
       "      <td>0.0</td>\n",
       "    </tr>\n",
       "    <tr>\n",
       "      <th>...</th>\n",
       "      <td>...</td>\n",
       "      <td>...</td>\n",
       "      <td>...</td>\n",
       "      <td>...</td>\n",
       "      <td>...</td>\n",
       "      <td>...</td>\n",
       "      <td>...</td>\n",
       "      <td>...</td>\n",
       "      <td>...</td>\n",
       "      <td>...</td>\n",
       "      <td>...</td>\n",
       "      <td>...</td>\n",
       "      <td>...</td>\n",
       "      <td>...</td>\n",
       "      <td>...</td>\n",
       "      <td>...</td>\n",
       "      <td>...</td>\n",
       "      <td>...</td>\n",
       "    </tr>\n",
       "    <tr>\n",
       "      <th>23566</th>\n",
       "      <td>0.0</td>\n",
       "      <td>0.0</td>\n",
       "      <td>1.0</td>\n",
       "      <td>0.0</td>\n",
       "      <td>0.0</td>\n",
       "      <td>0.0</td>\n",
       "      <td>0.0</td>\n",
       "      <td>0.0</td>\n",
       "      <td>0.0</td>\n",
       "      <td>0.0</td>\n",
       "      <td>0.0</td>\n",
       "      <td>0.0</td>\n",
       "      <td>0.0</td>\n",
       "      <td>0.0</td>\n",
       "      <td>0.0</td>\n",
       "      <td>0.0</td>\n",
       "      <td>0.0</td>\n",
       "      <td>0.0</td>\n",
       "    </tr>\n",
       "    <tr>\n",
       "      <th>23567</th>\n",
       "      <td>0.0</td>\n",
       "      <td>0.0</td>\n",
       "      <td>1.0</td>\n",
       "      <td>0.0</td>\n",
       "      <td>0.0</td>\n",
       "      <td>0.0</td>\n",
       "      <td>0.0</td>\n",
       "      <td>0.0</td>\n",
       "      <td>0.0</td>\n",
       "      <td>0.0</td>\n",
       "      <td>0.0</td>\n",
       "      <td>0.0</td>\n",
       "      <td>0.0</td>\n",
       "      <td>0.0</td>\n",
       "      <td>0.0</td>\n",
       "      <td>0.0</td>\n",
       "      <td>0.0</td>\n",
       "      <td>0.0</td>\n",
       "    </tr>\n",
       "    <tr>\n",
       "      <th>23568</th>\n",
       "      <td>0.0</td>\n",
       "      <td>0.0</td>\n",
       "      <td>1.0</td>\n",
       "      <td>2.0</td>\n",
       "      <td>0.0</td>\n",
       "      <td>0.0</td>\n",
       "      <td>0.0</td>\n",
       "      <td>0.0</td>\n",
       "      <td>0.0</td>\n",
       "      <td>0.0</td>\n",
       "      <td>0.0</td>\n",
       "      <td>0.0</td>\n",
       "      <td>0.0</td>\n",
       "      <td>0.0</td>\n",
       "      <td>0.0</td>\n",
       "      <td>0.0</td>\n",
       "      <td>0.0</td>\n",
       "      <td>0.0</td>\n",
       "    </tr>\n",
       "    <tr>\n",
       "      <th>23569</th>\n",
       "      <td>0.0</td>\n",
       "      <td>0.0</td>\n",
       "      <td>1.0</td>\n",
       "      <td>0.0</td>\n",
       "      <td>0.0</td>\n",
       "      <td>0.0</td>\n",
       "      <td>0.0</td>\n",
       "      <td>0.0</td>\n",
       "      <td>0.0</td>\n",
       "      <td>0.0</td>\n",
       "      <td>0.0</td>\n",
       "      <td>0.0</td>\n",
       "      <td>0.0</td>\n",
       "      <td>0.0</td>\n",
       "      <td>0.0</td>\n",
       "      <td>0.0</td>\n",
       "      <td>0.0</td>\n",
       "      <td>0.0</td>\n",
       "    </tr>\n",
       "    <tr>\n",
       "      <th>23570</th>\n",
       "      <td>0.0</td>\n",
       "      <td>0.0</td>\n",
       "      <td>2.0</td>\n",
       "      <td>0.0</td>\n",
       "      <td>0.0</td>\n",
       "      <td>0.0</td>\n",
       "      <td>0.0</td>\n",
       "      <td>0.0</td>\n",
       "      <td>0.0</td>\n",
       "      <td>0.0</td>\n",
       "      <td>0.0</td>\n",
       "      <td>0.0</td>\n",
       "      <td>0.0</td>\n",
       "      <td>0.0</td>\n",
       "      <td>0.0</td>\n",
       "      <td>0.0</td>\n",
       "      <td>0.0</td>\n",
       "      <td>0.0</td>\n",
       "    </tr>\n",
       "  </tbody>\n",
       "</table>\n",
       "<p>23570 rows × 18 columns</p>\n",
       "</div>"
      ],
      "text/plain": [
       "month    1997-01-01  1997-02-01  1997-03-01  1997-04-01  1997-05-01  \\\n",
       "user_id                                                               \n",
       "1               1.0         0.0         0.0         0.0         0.0   \n",
       "2               2.0         0.0         0.0         0.0         0.0   \n",
       "3               1.0         0.0         1.0         1.0         0.0   \n",
       "4               2.0         0.0         0.0         0.0         0.0   \n",
       "5               2.0         1.0         0.0         1.0         1.0   \n",
       "...             ...         ...         ...         ...         ...   \n",
       "23566           0.0         0.0         1.0         0.0         0.0   \n",
       "23567           0.0         0.0         1.0         0.0         0.0   \n",
       "23568           0.0         0.0         1.0         2.0         0.0   \n",
       "23569           0.0         0.0         1.0         0.0         0.0   \n",
       "23570           0.0         0.0         2.0         0.0         0.0   \n",
       "\n",
       "month    1997-06-01  1997-07-01  1997-08-01  1997-09-01  1997-10-01  \\\n",
       "user_id                                                               \n",
       "1               0.0         0.0         0.0         0.0         0.0   \n",
       "2               0.0         0.0         0.0         0.0         0.0   \n",
       "3               0.0         0.0         0.0         0.0         0.0   \n",
       "4               0.0         0.0         1.0         0.0         0.0   \n",
       "5               1.0         1.0         0.0         1.0         0.0   \n",
       "...             ...         ...         ...         ...         ...   \n",
       "23566           0.0         0.0         0.0         0.0         0.0   \n",
       "23567           0.0         0.0         0.0         0.0         0.0   \n",
       "23568           0.0         0.0         0.0         0.0         0.0   \n",
       "23569           0.0         0.0         0.0         0.0         0.0   \n",
       "23570           0.0         0.0         0.0         0.0         0.0   \n",
       "\n",
       "month    1997-11-01  1997-12-01  1998-01-01  1998-02-01  1998-03-01  \\\n",
       "user_id                                                               \n",
       "1               0.0         0.0         0.0         0.0         0.0   \n",
       "2               0.0         0.0         0.0         0.0         0.0   \n",
       "3               2.0         0.0         0.0         0.0         0.0   \n",
       "4               0.0         1.0         0.0         0.0         0.0   \n",
       "5               0.0         2.0         1.0         0.0         0.0   \n",
       "...             ...         ...         ...         ...         ...   \n",
       "23566           0.0         0.0         0.0         0.0         0.0   \n",
       "23567           0.0         0.0         0.0         0.0         0.0   \n",
       "23568           0.0         0.0         0.0         0.0         0.0   \n",
       "23569           0.0         0.0         0.0         0.0         0.0   \n",
       "23570           0.0         0.0         0.0         0.0         0.0   \n",
       "\n",
       "month    1998-04-01  1998-05-01  1998-06-01  \n",
       "user_id                                      \n",
       "1               0.0         0.0         0.0  \n",
       "2               0.0         0.0         0.0  \n",
       "3               0.0         1.0         0.0  \n",
       "4               0.0         0.0         0.0  \n",
       "5               0.0         0.0         0.0  \n",
       "...             ...         ...         ...  \n",
       "23566           0.0         0.0         0.0  \n",
       "23567           0.0         0.0         0.0  \n",
       "23568           0.0         0.0         0.0  \n",
       "23569           0.0         0.0         0.0  \n",
       "23570           0.0         0.0         0.0  \n",
       "\n",
       "[23570 rows x 18 columns]"
      ]
     },
     "execution_count": 39,
     "metadata": {},
     "output_type": "execute_result"
    }
   ],
   "source": [
    "pivoted_counts = df.pivot_table(\n",
    "    index='user_id',\n",
    "    columns='month',\n",
    "    values='order_dt',\n",
    "    aggfunc='count'\n",
    ").fillna(0)\n",
    "pivoted_counts"
   ]
  },
  {
   "cell_type": "code",
   "execution_count": 42,
   "id": "4737b19c-3445-4fb9-aca1-e935f386b043",
   "metadata": {
    "execution": {
     "iopub.execute_input": "2024-08-13T03:15:08.563298Z",
     "iopub.status.busy": "2024-08-13T03:15:08.563298Z",
     "iopub.status.idle": "2024-08-13T03:15:08.647602Z",
     "shell.execute_reply": "2024-08-13T03:15:08.647602Z",
     "shell.execute_reply.started": "2024-08-13T03:15:08.563298Z"
    }
   },
   "outputs": [
    {
     "name": "stdout",
     "output_type": "stream",
     "text": [
      "<class 'pandas.core.frame.DataFrame'>\n",
      "Index: 23570 entries, 1 to 23570\n",
      "Data columns (total 18 columns):\n",
      " #   Column               Non-Null Count  Dtype\n",
      "---  ------               --------------  -----\n",
      " 0   1997-01-01 00:00:00  23570 non-null  int64\n",
      " 1   1997-02-01 00:00:00  23570 non-null  int64\n",
      " 2   1997-03-01 00:00:00  23570 non-null  int64\n",
      " 3   1997-04-01 00:00:00  23570 non-null  int64\n",
      " 4   1997-05-01 00:00:00  23570 non-null  int64\n",
      " 5   1997-06-01 00:00:00  23570 non-null  int64\n",
      " 6   1997-07-01 00:00:00  23570 non-null  int64\n",
      " 7   1997-08-01 00:00:00  23570 non-null  int64\n",
      " 8   1997-09-01 00:00:00  23570 non-null  int64\n",
      " 9   1997-10-01 00:00:00  23570 non-null  int64\n",
      " 10  1997-11-01 00:00:00  23570 non-null  int64\n",
      " 11  1997-12-01 00:00:00  23570 non-null  int64\n",
      " 12  1998-01-01 00:00:00  23570 non-null  int64\n",
      " 13  1998-02-01 00:00:00  23570 non-null  int64\n",
      " 14  1998-03-01 00:00:00  23570 non-null  int64\n",
      " 15  1998-04-01 00:00:00  23570 non-null  int64\n",
      " 16  1998-05-01 00:00:00  23570 non-null  int64\n",
      " 17  1998-06-01 00:00:00  23570 non-null  int64\n",
      "dtypes: int64(18)\n",
      "memory usage: 3.4 MB\n"
     ]
    },
    {
     "name": "stderr",
     "output_type": "stream",
     "text": [
      "C:\\Users\\王晨盛\\AppData\\Local\\Temp\\ipykernel_23808\\3245457400.py:2: FutureWarning: DataFrame.applymap has been deprecated. Use DataFrame.map instead.\n",
      "  df_purchase = pivoted_counts.applymap(lambda x:1 if x > 0 else 0)\n"
     ]
    }
   ],
   "source": [
    "# 转换成是否消费过(0,1)\n",
    "df_purchase = pivoted_counts.applymap(lambda x:1 if x > 0 else 0)\n",
    "# apply:处理整列或者整行\n",
    "# applymap:作用于dataframe数据中每个元素\n",
    "# map:本身是一个series函数，无法用于df结构，作用于series每一个元素\n",
    "df_purchase.info()"
   ]
  },
  {
   "cell_type": "code",
   "execution_count": 44,
   "id": "116eb7ec-98d7-4f5c-a6a4-9bcf789702ee",
   "metadata": {
    "execution": {
     "iopub.execute_input": "2024-08-13T03:29:55.247609Z",
     "iopub.status.busy": "2024-08-13T03:29:55.247102Z",
     "iopub.status.idle": "2024-08-13T03:30:00.172965Z",
     "shell.execute_reply": "2024-08-13T03:30:00.172677Z",
     "shell.execute_reply.started": "2024-08-13T03:29:55.247609Z"
    }
   },
   "outputs": [
    {
     "name": "stderr",
     "output_type": "stream",
     "text": [
      "C:\\Users\\王晨盛\\AppData\\Local\\Temp\\ipykernel_23808\\3349063814.py:5: FutureWarning: Series.__getitem__ treating keys as positions is deprecated. In a future version, integer keys will always be treated as labels (consistent with DataFrame behavior). To access a value by position, use `ser.iloc[pos]`\n",
      "  if data[i] == 0:  # 本月无消费\n"
     ]
    },
    {
     "data": {
      "text/html": [
       "<div>\n",
       "<style scoped>\n",
       "    .dataframe tbody tr th:only-of-type {\n",
       "        vertical-align: middle;\n",
       "    }\n",
       "\n",
       "    .dataframe tbody tr th {\n",
       "        vertical-align: top;\n",
       "    }\n",
       "\n",
       "    .dataframe thead th {\n",
       "        text-align: right;\n",
       "    }\n",
       "</style>\n",
       "<table border=\"1\" class=\"dataframe\">\n",
       "  <thead>\n",
       "    <tr style=\"text-align: right;\">\n",
       "      <th>month</th>\n",
       "      <th>1997-01-01</th>\n",
       "      <th>1997-02-01</th>\n",
       "      <th>1997-03-01</th>\n",
       "      <th>1997-04-01</th>\n",
       "      <th>1997-05-01</th>\n",
       "      <th>1997-06-01</th>\n",
       "      <th>1997-07-01</th>\n",
       "      <th>1997-08-01</th>\n",
       "      <th>1997-09-01</th>\n",
       "      <th>1997-10-01</th>\n",
       "      <th>1997-11-01</th>\n",
       "      <th>1997-12-01</th>\n",
       "      <th>1998-01-01</th>\n",
       "      <th>1998-02-01</th>\n",
       "      <th>1998-03-01</th>\n",
       "      <th>1998-04-01</th>\n",
       "      <th>1998-05-01</th>\n",
       "      <th>1998-06-01</th>\n",
       "    </tr>\n",
       "    <tr>\n",
       "      <th>user_id</th>\n",
       "      <th></th>\n",
       "      <th></th>\n",
       "      <th></th>\n",
       "      <th></th>\n",
       "      <th></th>\n",
       "      <th></th>\n",
       "      <th></th>\n",
       "      <th></th>\n",
       "      <th></th>\n",
       "      <th></th>\n",
       "      <th></th>\n",
       "      <th></th>\n",
       "      <th></th>\n",
       "      <th></th>\n",
       "      <th></th>\n",
       "      <th></th>\n",
       "      <th></th>\n",
       "      <th></th>\n",
       "    </tr>\n",
       "  </thead>\n",
       "  <tbody>\n",
       "    <tr>\n",
       "      <th>1</th>\n",
       "      <td>new</td>\n",
       "      <td>unactive</td>\n",
       "      <td>unactive</td>\n",
       "      <td>unactive</td>\n",
       "      <td>unactive</td>\n",
       "      <td>unactive</td>\n",
       "      <td>unactive</td>\n",
       "      <td>unactive</td>\n",
       "      <td>unactive</td>\n",
       "      <td>unactive</td>\n",
       "      <td>unactive</td>\n",
       "      <td>unactive</td>\n",
       "      <td>unactive</td>\n",
       "      <td>unactive</td>\n",
       "      <td>unactive</td>\n",
       "      <td>unactive</td>\n",
       "      <td>unactive</td>\n",
       "      <td>unactive</td>\n",
       "    </tr>\n",
       "    <tr>\n",
       "      <th>2</th>\n",
       "      <td>new</td>\n",
       "      <td>unactive</td>\n",
       "      <td>unactive</td>\n",
       "      <td>unactive</td>\n",
       "      <td>unactive</td>\n",
       "      <td>unactive</td>\n",
       "      <td>unactive</td>\n",
       "      <td>unactive</td>\n",
       "      <td>unactive</td>\n",
       "      <td>unactive</td>\n",
       "      <td>unactive</td>\n",
       "      <td>unactive</td>\n",
       "      <td>unactive</td>\n",
       "      <td>unactive</td>\n",
       "      <td>unactive</td>\n",
       "      <td>unactive</td>\n",
       "      <td>unactive</td>\n",
       "      <td>unactive</td>\n",
       "    </tr>\n",
       "    <tr>\n",
       "      <th>3</th>\n",
       "      <td>new</td>\n",
       "      <td>unactive</td>\n",
       "      <td>return</td>\n",
       "      <td>active</td>\n",
       "      <td>unactive</td>\n",
       "      <td>unactive</td>\n",
       "      <td>unactive</td>\n",
       "      <td>unactive</td>\n",
       "      <td>unactive</td>\n",
       "      <td>unactive</td>\n",
       "      <td>return</td>\n",
       "      <td>unactive</td>\n",
       "      <td>unactive</td>\n",
       "      <td>unactive</td>\n",
       "      <td>unactive</td>\n",
       "      <td>unactive</td>\n",
       "      <td>return</td>\n",
       "      <td>unactive</td>\n",
       "    </tr>\n",
       "    <tr>\n",
       "      <th>4</th>\n",
       "      <td>new</td>\n",
       "      <td>unactive</td>\n",
       "      <td>unactive</td>\n",
       "      <td>unactive</td>\n",
       "      <td>unactive</td>\n",
       "      <td>unactive</td>\n",
       "      <td>unactive</td>\n",
       "      <td>return</td>\n",
       "      <td>unactive</td>\n",
       "      <td>unactive</td>\n",
       "      <td>unactive</td>\n",
       "      <td>return</td>\n",
       "      <td>unactive</td>\n",
       "      <td>unactive</td>\n",
       "      <td>unactive</td>\n",
       "      <td>unactive</td>\n",
       "      <td>unactive</td>\n",
       "      <td>unactive</td>\n",
       "    </tr>\n",
       "    <tr>\n",
       "      <th>5</th>\n",
       "      <td>new</td>\n",
       "      <td>active</td>\n",
       "      <td>unactive</td>\n",
       "      <td>return</td>\n",
       "      <td>active</td>\n",
       "      <td>active</td>\n",
       "      <td>active</td>\n",
       "      <td>unactive</td>\n",
       "      <td>return</td>\n",
       "      <td>unactive</td>\n",
       "      <td>unactive</td>\n",
       "      <td>return</td>\n",
       "      <td>active</td>\n",
       "      <td>unactive</td>\n",
       "      <td>unactive</td>\n",
       "      <td>unactive</td>\n",
       "      <td>unactive</td>\n",
       "      <td>unactive</td>\n",
       "    </tr>\n",
       "  </tbody>\n",
       "</table>\n",
       "</div>"
      ],
      "text/plain": [
       "month   1997-01-01 1997-02-01 1997-03-01 1997-04-01 1997-05-01 1997-06-01  \\\n",
       "user_id                                                                     \n",
       "1              new   unactive   unactive   unactive   unactive   unactive   \n",
       "2              new   unactive   unactive   unactive   unactive   unactive   \n",
       "3              new   unactive     return     active   unactive   unactive   \n",
       "4              new   unactive   unactive   unactive   unactive   unactive   \n",
       "5              new     active   unactive     return     active     active   \n",
       "\n",
       "month   1997-07-01 1997-08-01 1997-09-01 1997-10-01 1997-11-01 1997-12-01  \\\n",
       "user_id                                                                     \n",
       "1         unactive   unactive   unactive   unactive   unactive   unactive   \n",
       "2         unactive   unactive   unactive   unactive   unactive   unactive   \n",
       "3         unactive   unactive   unactive   unactive     return   unactive   \n",
       "4         unactive     return   unactive   unactive   unactive     return   \n",
       "5           active   unactive     return   unactive   unactive     return   \n",
       "\n",
       "month   1998-01-01 1998-02-01 1998-03-01 1998-04-01 1998-05-01 1998-06-01  \n",
       "user_id                                                                    \n",
       "1         unactive   unactive   unactive   unactive   unactive   unactive  \n",
       "2         unactive   unactive   unactive   unactive   unactive   unactive  \n",
       "3         unactive   unactive   unactive   unactive     return   unactive  \n",
       "4         unactive   unactive   unactive   unactive   unactive   unactive  \n",
       "5           active   unactive   unactive   unactive   unactive   unactive  "
      ]
     },
     "execution_count": 44,
     "metadata": {},
     "output_type": "execute_result"
    }
   ],
   "source": [
    "# 判断用户类型\n",
    "def active_status(data):\n",
    "    status = []  # 存储18个月的状态: unreg/new/active/unactive/return\n",
    "    for i in range(18):\n",
    "        if data[i] == 0:  # 本月无消费\n",
    "            if len(status) == 0:  # 之前无记录\n",
    "                status.append('unreg')\n",
    "            else:\n",
    "                if status[i - 1] =='unreg':  # 一直未消费\n",
    "                    status.append('unreg')\n",
    "                else:\n",
    "                    status.append('unactive')\n",
    "        else:\n",
    "            if len(status) == 0:  # 之前无记录\n",
    "                status.append('new')\n",
    "            else:\n",
    "                if status[i - 1] == 'unactive':\n",
    "                    status.append('return')\n",
    "                elif status[i - 1] == 'unreg':\n",
    "                    status.append('new')\n",
    "                else:\n",
    "                    status.append('active')\n",
    "    return pd.Series(status,df_purchase.columns)  # 值status，列名df_purchase中的列名\n",
    "\n",
    "\n",
    "purchase_states = df_purchase.apply(active_status,axis=1)\n",
    "purchase_states.head()"
   ]
  },
  {
   "cell_type": "code",
   "execution_count": 49,
   "id": "18e4fa93-5383-4b79-9cef-98c786b933f1",
   "metadata": {
    "execution": {
     "iopub.execute_input": "2024-08-13T03:33:33.253619Z",
     "iopub.status.busy": "2024-08-13T03:33:33.253619Z",
     "iopub.status.idle": "2024-08-13T03:33:33.303865Z",
     "shell.execute_reply": "2024-08-13T03:33:33.303865Z",
     "shell.execute_reply.started": "2024-08-13T03:33:33.253619Z"
    }
   },
   "outputs": [
    {
     "data": {
      "text/html": [
       "<div>\n",
       "<style scoped>\n",
       "    .dataframe tbody tr th:only-of-type {\n",
       "        vertical-align: middle;\n",
       "    }\n",
       "\n",
       "    .dataframe tbody tr th {\n",
       "        vertical-align: top;\n",
       "    }\n",
       "\n",
       "    .dataframe thead th {\n",
       "        text-align: right;\n",
       "    }\n",
       "</style>\n",
       "<table border=\"1\" class=\"dataframe\">\n",
       "  <thead>\n",
       "    <tr style=\"text-align: right;\">\n",
       "      <th>month</th>\n",
       "      <th>1997-01-01</th>\n",
       "      <th>1997-02-01</th>\n",
       "      <th>1997-03-01</th>\n",
       "      <th>1997-04-01</th>\n",
       "      <th>1997-05-01</th>\n",
       "      <th>1997-06-01</th>\n",
       "      <th>1997-07-01</th>\n",
       "      <th>1997-08-01</th>\n",
       "      <th>1997-09-01</th>\n",
       "      <th>1997-10-01</th>\n",
       "      <th>1997-11-01</th>\n",
       "      <th>1997-12-01</th>\n",
       "      <th>1998-01-01</th>\n",
       "      <th>1998-02-01</th>\n",
       "      <th>1998-03-01</th>\n",
       "      <th>1998-04-01</th>\n",
       "      <th>1998-05-01</th>\n",
       "      <th>1998-06-01</th>\n",
       "    </tr>\n",
       "  </thead>\n",
       "  <tbody>\n",
       "    <tr>\n",
       "      <th>active</th>\n",
       "      <td>NaN</td>\n",
       "      <td>1157.0</td>\n",
       "      <td>1681</td>\n",
       "      <td>1773.0</td>\n",
       "      <td>852.0</td>\n",
       "      <td>747.0</td>\n",
       "      <td>746.0</td>\n",
       "      <td>604.0</td>\n",
       "      <td>528.0</td>\n",
       "      <td>532.0</td>\n",
       "      <td>624.0</td>\n",
       "      <td>632.0</td>\n",
       "      <td>512.0</td>\n",
       "      <td>472.0</td>\n",
       "      <td>571.0</td>\n",
       "      <td>518.0</td>\n",
       "      <td>459.0</td>\n",
       "      <td>446.0</td>\n",
       "    </tr>\n",
       "    <tr>\n",
       "      <th>new</th>\n",
       "      <td>7846.0</td>\n",
       "      <td>8476.0</td>\n",
       "      <td>7248</td>\n",
       "      <td>NaN</td>\n",
       "      <td>NaN</td>\n",
       "      <td>NaN</td>\n",
       "      <td>NaN</td>\n",
       "      <td>NaN</td>\n",
       "      <td>NaN</td>\n",
       "      <td>NaN</td>\n",
       "      <td>NaN</td>\n",
       "      <td>NaN</td>\n",
       "      <td>NaN</td>\n",
       "      <td>NaN</td>\n",
       "      <td>NaN</td>\n",
       "      <td>NaN</td>\n",
       "      <td>NaN</td>\n",
       "      <td>NaN</td>\n",
       "    </tr>\n",
       "    <tr>\n",
       "      <th>return</th>\n",
       "      <td>NaN</td>\n",
       "      <td>NaN</td>\n",
       "      <td>595</td>\n",
       "      <td>1049.0</td>\n",
       "      <td>1362.0</td>\n",
       "      <td>1592.0</td>\n",
       "      <td>1434.0</td>\n",
       "      <td>1168.0</td>\n",
       "      <td>1211.0</td>\n",
       "      <td>1307.0</td>\n",
       "      <td>1404.0</td>\n",
       "      <td>1232.0</td>\n",
       "      <td>1025.0</td>\n",
       "      <td>1079.0</td>\n",
       "      <td>1489.0</td>\n",
       "      <td>919.0</td>\n",
       "      <td>1029.0</td>\n",
       "      <td>1060.0</td>\n",
       "    </tr>\n",
       "    <tr>\n",
       "      <th>unactive</th>\n",
       "      <td>NaN</td>\n",
       "      <td>6689.0</td>\n",
       "      <td>14046</td>\n",
       "      <td>20748.0</td>\n",
       "      <td>21356.0</td>\n",
       "      <td>21231.0</td>\n",
       "      <td>21390.0</td>\n",
       "      <td>21798.0</td>\n",
       "      <td>21831.0</td>\n",
       "      <td>21731.0</td>\n",
       "      <td>21542.0</td>\n",
       "      <td>21706.0</td>\n",
       "      <td>22033.0</td>\n",
       "      <td>22019.0</td>\n",
       "      <td>21510.0</td>\n",
       "      <td>22133.0</td>\n",
       "      <td>22082.0</td>\n",
       "      <td>22064.0</td>\n",
       "    </tr>\n",
       "  </tbody>\n",
       "</table>\n",
       "</div>"
      ],
      "text/plain": [
       "month     1997-01-01  1997-02-01  1997-03-01  1997-04-01  1997-05-01  \\\n",
       "active           NaN      1157.0        1681      1773.0       852.0   \n",
       "new           7846.0      8476.0        7248         NaN         NaN   \n",
       "return           NaN         NaN         595      1049.0      1362.0   \n",
       "unactive         NaN      6689.0       14046     20748.0     21356.0   \n",
       "\n",
       "month     1997-06-01  1997-07-01  1997-08-01  1997-09-01  1997-10-01  \\\n",
       "active         747.0       746.0       604.0       528.0       532.0   \n",
       "new              NaN         NaN         NaN         NaN         NaN   \n",
       "return        1592.0      1434.0      1168.0      1211.0      1307.0   \n",
       "unactive     21231.0     21390.0     21798.0     21831.0     21731.0   \n",
       "\n",
       "month     1997-11-01  1997-12-01  1998-01-01  1998-02-01  1998-03-01  \\\n",
       "active         624.0       632.0       512.0       472.0       571.0   \n",
       "new              NaN         NaN         NaN         NaN         NaN   \n",
       "return        1404.0      1232.0      1025.0      1079.0      1489.0   \n",
       "unactive     21542.0     21706.0     22033.0     22019.0     21510.0   \n",
       "\n",
       "month     1998-04-01  1998-05-01  1998-06-01  \n",
       "active         518.0       459.0       446.0  \n",
       "new              NaN         NaN         NaN  \n",
       "return         919.0      1029.0      1060.0  \n",
       "unactive     22133.0     22082.0     22064.0  "
      ]
     },
     "execution_count": 49,
     "metadata": {},
     "output_type": "execute_result"
    }
   ],
   "source": [
    "#用 Nan替换 unreg\n",
    "purchase_states_ct = purchase_states.replace('unreg', np.NaN).apply(lambda x:pd.Series.value_counts(x))\n",
    "purchase_states_ct.head(60)"
   ]
  },
  {
   "cell_type": "code",
   "execution_count": 52,
   "id": "12a733c7-08fe-43dc-90ae-e88c9303c0cb",
   "metadata": {
    "execution": {
     "iopub.execute_input": "2024-08-13T03:34:37.498955Z",
     "iopub.status.busy": "2024-08-13T03:34:37.497956Z",
     "iopub.status.idle": "2024-08-13T03:34:37.637066Z",
     "shell.execute_reply": "2024-08-13T03:34:37.637066Z",
     "shell.execute_reply.started": "2024-08-13T03:34:37.498955Z"
    }
   },
   "outputs": [
    {
     "data": {
      "text/plain": [
       "<Axes: xlabel='month'>"
      ]
     },
     "execution_count": 52,
     "metadata": {},
     "output_type": "execute_result"
    },
    {
     "data": {
      "image/png": "[encoded data removed]",
      "text/plain": [
       "<Figure size 640x480 with 1 Axes>"
      ]
     },
     "metadata": {},
     "output_type": "display_data"
    }
   ],
   "source": [
    "purchase_states_ct.T.fillna(0).plot.area()  # .T : 行列变换"
   ]
  }
 ],
 "metadata": {
  "kernelspec": {
   "display_name": "Python 3 (ipykernel)",
   "language": "python",
   "name": "python3"
  },
  "language_info": {
   "codemirror_mode": {
    "name": "ipython",
    "version": 3
   },
   "file_extension": ".py",
   "mimetype": "text/x-python",
   "name": "python",
   "nbconvert_exporter": "python",
   "pygments_lexer": "ipython3",
   "version": "3.11.5"
  },
  "widgets": {
   "application/vnd.jupyter.widget-state+json": {
    "state": {},
    "version_major": 2,
    "version_minor": 0
   }
  }
 },
 "nbformat": 4,
 "nbformat_minor": 5
}
