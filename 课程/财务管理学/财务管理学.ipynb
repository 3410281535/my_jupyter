{
 "cells": [
  {
   "cell_type": "markdown",
   "id": "f32cb5bd-0a93-4c41-b316-ab754e304d5c",
   "metadata": {},
   "source": [
    "财务管理的根本目标：提升企业价值<BR>\n",
    "利润最大化<BR>\n",
    "问题：\n",
    "1. <BR>\n",
    "\n",
    "股东财富最大化<BR>\n",
    "\n",
    "股东财富：股票数量*股票价格=上市公司市值<BR>\n",
    "\n",
    "冲突一：股东与管理层\n",
    "解决：\n",
    "- 激励\n",
    "- 干预\n",
    "- 解聘\n",
    "\n",
    "<BR>\n",
    "\n",
    "冲突二：大股东与中小股东\n",
    "- 关联交易转移利润\n",
    "- 非法占用巨额资金，利用上市公司进行恶意担保和筹资\n",
    "- 发布虚假信息，操纵股价\n",
    "- 为派出的高级管理者支付过高的薪酬\n",
    "- 利用不合理的鼓励政策掠夺中小股东的既得利益\n",
    "<BR>\n",
    "\n",
    "应对\n",
    "- 完善上市公司的**治理结构**使股东大会、董事会和监事会三者有效运作，形成互相制约的机制\n",
    "- 规范上市公司的信息披露制度，保证信息的完整性、真实性和及时性\n",
    "<BR>\n",
    "\n",
    "冲突三：股东与债权人\n",
    "- 股东不征得债权人同意，投资于比债权人期望风险更高的项目\n",
    "- "
   ]
  }
 ],
 "metadata": {
  "kernelspec": {
   "display_name": "Python 3 (ipykernel)",
   "language": "python",
   "name": "python3"
  },
  "language_info": {
   "codemirror_mode": {
    "name": "ipython",
    "version": 3
   },
   "file_extension": ".py",
   "mimetype": "text/x-python",
   "name": "python",
   "nbconvert_exporter": "python",
   "pygments_lexer": "ipython3",
   "version": "3.12.4"
  }
 },
 "nbformat": 4,
 "nbformat_minor": 5
}
