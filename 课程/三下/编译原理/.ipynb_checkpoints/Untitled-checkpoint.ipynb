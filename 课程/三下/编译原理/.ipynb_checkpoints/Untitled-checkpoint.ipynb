{
 "cells": [
  {
   "cell_type": "markdown",
   "id": "c19cf217-2cdc-47aa-99d3-8a717c9ded75",
   "metadata": {},
   "source": [
    "成绩组成\n",
    "- 考勤：5%\n",
    "- 课堂练习 + 平时作业：25%\n",
    "- 课堂测验：20%\n",
    "- 期末考试：50%\n",
    "\n",
    "强及格线：50分"
   ]
  },
  {
   "cell_type": "markdown",
   "id": "65e27875-8823-4182-a78e-755851adc68f",
   "metadata": {},
   "source": [
    "## 引论 ##\n"
   ]
  }
 ],
 "metadata": {
  "kernelspec": {
   "display_name": "Python 3 (ipykernel)",
   "language": "python",
   "name": "python3"
  },
  "language_info": {
   "codemirror_mode": {
    "name": "ipython",
    "version": 3
   },
   "file_extension": ".py",
   "mimetype": "text/x-python",
   "name": "python",
   "nbconvert_exporter": "python",
   "pygments_lexer": "ipython3",
   "version": "3.12.4"
  }
 },
 "nbformat": 4,
 "nbformat_minor": 5
}
