{
 "cells": [
  {
   "cell_type": "code",
   "execution_count": 1,
   "id": "0bc619ce-c15d-4bbd-88ae-74177f3ec093",
   "metadata": {
    "execution": {
     "iopub.execute_input": "2024-07-30T07:07:43.637686Z",
     "iopub.status.busy": "2024-07-30T07:07:43.637686Z",
     "iopub.status.idle": "2024-07-30T07:07:45.726775Z",
     "shell.execute_reply": "2024-07-30T07:07:45.726775Z",
     "shell.execute_reply.started": "2024-07-30T07:07:43.637686Z"
    }
   },
   "outputs": [
    {
     "name": "stdout",
     "output_type": "stream",
     "text": [
      "k_best:  3 \n",
      "accuracy:  0.7421875\n"
     ]
    }
   ],
   "source": [
    "import pandas as pd\n",
    "import numpy as np\n",
    "import sklearn.model_selection\n",
    "from sklearn.neighbors import KNeighborsClassifier\n",
    "from sklearn.metrics import accuracy_score, roc_auc_score\n",
    "from sklearn.metrics import accuracy_score\n",
    "\n",
    "\"\"\"\n",
    "data = pd.read_csv('cancerTrain.csv', header=None)  # 无列名\n",
    "\n",
    "x = data.drop(5, axis=1).to_numpy()\n",
    "y = data[5].to_numpy()\n",
    "\n",
    "np.savetxt('cancer_x_train.csv', x, delimiter=',')\n",
    "np.savetxt('cancer_y_train.csv', y, delimiter=',')\n",
    "\n",
    "\n",
    "data = pd.read_csv('cancerTest.csv', header=None)\n",
    "x = data.drop(5, axis=1).to_numpy()\n",
    "y = data[5].to_numpy()\n",
    "\n",
    "np.savetxt('cancer_x_test.csv', x, delimiter=',')\n",
    "np.savetxt('cancer_y_test.csv', y, delimiter=',')\n",
    "\"\"\"\n",
    "x_train = pd.read_csv('cancer_x_train.csv', header=None)\n",
    "y_train = pd.read_csv('cancer_y_train.csv', header=None).values.ravel()\n",
    "\n",
    "x_test = pd.read_csv('cancer_x_test.csv', header=None)\n",
    "y_test = pd.read_csv('cancer_y_test.csv', header=None).values.ravel()\n",
    "\n",
    "k_best = 1\n",
    "accuracy_best = 0\n",
    "\n",
    "for k in range(1, 101):\n",
    "    knn = KNeighborsClassifier(n_neighbors=k)\n",
    "\n",
    "    knn.fit(x_train, y_train)\n",
    "\n",
    "    y_pred = knn.predict(x_test)\n",
    "    accuracy = accuracy_score(y_test, y_pred)\n",
    "    if accuracy > accuracy_best:\n",
    "        k_best = k\n",
    "        accuracy_best = accuracy\n",
    "print(\"k_best: \", k_best, \"\\naccuracy: \", accuracy_best)\n"
   ]
  },
  {
   "cell_type": "code",
   "execution_count": null,
   "id": "afa309c8-8ab6-41f5-959a-f8a49115c1ed",
   "metadata": {},
   "outputs": [],
   "source": []
  }
 ],
 "metadata": {
  "kernelspec": {
   "display_name": "Python 3 (ipykernel)",
   "language": "python",
   "name": "python3"
  },
  "language_info": {
   "codemirror_mode": {
    "name": "ipython",
    "version": 3
   },
   "file_extension": ".py",
   "mimetype": "text/x-python",
   "name": "python",
   "nbconvert_exporter": "python",
   "pygments_lexer": "ipython3",
   "version": "3.11.5"
  }
 },
 "nbformat": 4,
 "nbformat_minor": 5
}
