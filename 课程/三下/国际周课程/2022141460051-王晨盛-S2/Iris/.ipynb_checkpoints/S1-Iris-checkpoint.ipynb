{
 "cells": [
  {
   "cell_type": "code",
   "execution_count": 1,
   "id": "16178ade-2765-4a2a-9956-f3066b43b7a2",
   "metadata": {},
   "outputs": [
    {
     "name": "stdout",
     "output_type": "stream",
     "text": [
      "accuracy_score:\n",
      "k =  1 : Accuracy:0.94\n",
      "k =  3 : Accuracy:0.94\n",
      "k =  5 : Accuracy:0.94\n",
      "k =  7 : Accuracy:0.96\n",
      "\n",
      "knn.score:\n",
      "k =  1 : Accuracy:0.94\n",
      "k =  3 : Accuracy:0.94\n",
      "k =  5 : Accuracy:0.94\n",
      "k =  7 : Accuracy:0.96\n"
     ]
    }
   ],
   "source": [
    "import pandas as pd\n",
    "import numpy as np\n",
    "import sklearn.model_selection\n",
    "from sklearn.neighbors import KNeighborsClassifier\n",
    "from sklearn.metrics import accuracy_score, roc_auc_score\n",
    "from sklearn.metrics import accuracy_score\n",
    "\n",
    "\n",
    "data = pd.read_csv('IRIS.csv')\n",
    "X = data.drop('species', axis=1)\n",
    "X.to_csv('./自变量', index=False, mode='w')\n",
    "Y = data['species']\n",
    "Y.to_csv('./因变量', index=False, mode='w')\n",
    "\n",
    "\n",
    "x = pd.read_csv('自变量')\n",
    "y = pd.read_csv('因变量').values.ravel()\n",
    "\n",
    "# 归一化处理\n",
    "from sklearn.preprocessing import MinMaxScaler\n",
    "scaler = MinMaxScaler()\n",
    "x = scaler.fit_transform(x)\n",
    "\n",
    "x_train, x_test, y_train, y_test = sklearn.model_selection.train_test_split(x, y, test_size=0.75, random_state=51)\n",
    "\n",
    "\n",
    "print(\"accuracy_score:\")\n",
    "for k in (1, 3, 5, 7):\n",
    "    knn = KNeighborsClassifier(n_neighbors=k)\n",
    "\n",
    "    knn.fit(x_train, y_train)\n",
    "\n",
    "    y_pred = knn.predict(x_test)\n",
    "    accuracy = accuracy_score(y_test, y_pred)\n",
    "    print(\"k = \", k, \": \"f'Accuracy:{accuracy:.2f}')\n",
    "\n",
    "print(\"\\nknn.score:\")\n",
    "for k in (1, 3, 5, 7):\n",
    "    knn = KNeighborsClassifier(n_neighbors=k)\n",
    "    knn.fit(x_train, y_train)\n",
    "    y_pred = knn.predict(x_test)\n",
    "    accuracy = knn.score(x_test, y_test)\n",
    "    print(\"k = \", k, \": \"f'Accuracy:{accuracy:.2f}')\n",
    "\n"
   ]
  },
  {
   "cell_type": "code",
   "execution_count": null,
   "id": "8a1e0e79-11e4-4239-b751-edd177e00324",
   "metadata": {},
   "outputs": [],
   "source": []
  }
 ],
 "metadata": {
  "kernelspec": {
   "display_name": "Python 3 (ipykernel)",
   "language": "python",
   "name": "python3"
  },
  "language_info": {
   "codemirror_mode": {
    "name": "ipython",
    "version": 3
   },
   "file_extension": ".py",
   "mimetype": "text/x-python",
   "name": "python",
   "nbconvert_exporter": "python",
   "pygments_lexer": "ipython3",
   "version": "3.12.4"
  }
 },
 "nbformat": 4,
 "nbformat_minor": 5
}
