{
 "cells": [
  {
   "cell_type": "markdown",
   "id": "add7f8eb-8868-45ad-9cc0-709ab967839a",
   "metadata": {},
   "source": [
    "## 1.基础 ##\n",
    "资产组合理论\n",
    "$\n",
    "\\begin{cases}\n",
    "\\large\n",
    "第六章{\\begin{cases}\n",
    "①风险规避和风险溢价\\\\\n",
    "②效用函数\\\\\n",
    "③资产风险和投资组合风险\n",
    "\\end{cases}}\\\\\n",
    "\\\\\n",
    "\\\\\n",
    "\\large\n",
    "第七章\n",
    "\\end{cases}\n",
    "$"
   ]
  },
  {
   "cell_type": "markdown",
   "id": "8b81003d-05d3-4327-8740-55aa5e5720ca",
   "metadata": {},
   "source": [
    "**持有期收益率** (**HPR** , holding-period-return )\n",
    "$$\n",
    "HPR\\ =\\ \\frac{期末每份价格\\ -\\ 期初价格\\ +\\ 现金股利}{期初价格}\\ =\\ \\frac{P_t\\ -\\ P_0\\ +\\ d_t}{P_0}\n",
    "$$\n",
    "$\n",
    "等价看待\\ :\\ \n",
    "期末每份价格\\ -\\ 期初价格\\ =\\ 资本利得\\ ,\\ 现金股利\\ =\\ 分红收益\n",
    "$\n",
    "<BR>\n",
    "$\n",
    "\\Rightarrow\n",
    "持有期收益率\\ =\\ 资本利得收益率\\ +\\ 股息收益率\n",
    "$"
   ]
  },
  {
   "cell_type": "markdown",
   "id": "21a32b3b-3714-4b3e-a230-e060a8f7552f",
   "metadata": {},
   "source": [
    "**风险 :** 以 ***预期结果为中心*** 的各个可能结果发生概率的 ***离散程度***\n",
    "<BR>\n",
    "**风险溢价($\\ risk\\ premium\\ $)**$\\ =\\ $<u>预期</u>持有期收益率$\\ -\\ $无风险收益率$\\ =\\ E(\\ r_i\\ )\\ -\\ r_f$\n",
    "<BR>\n",
    "**超额收益($\\ excess\\ return\\ $)**$\\ =\\ $风险资产的<u>实际</u>收益率$\\ -\\ $实际无风险收益率$\\ =\\ r_i\\ -\\ r_f$\n",
    "<BR>\n",
    "$\\Rightarrow\\ $风险溢价是超额收益的期望值$\\ ,\\ $超额收益的标准差是其风险的测度\n",
    "<BR><BR>\n",
    "无风险收益率 : 钱投入无风险资产（短期国库券、货币市场基金、银行…）时的利率"
   ]
  },
  {
   "cell_type": "markdown",
   "id": "124540dd-f84c-406c-af22-f6b2f79d689c",
   "metadata": {},
   "source": [
    "**投机** : 承担一定的风险并获取相应的报酬\n",
    "<BR>\n",
    "**赌博** : 为了一个不确定的结果下注$\\qquad\\qquad\\qquad\\qquad\\qquad$——区别在于 , 赌博没有“相应的报酬”\n",
    "<BR>\n",
    "$$\n",
    "\\text{赌博}\\overset{\\text{足够的风险溢价}}{\\Longrightarrow}\\text{投机}\n",
    "$$\n",
    "**公平博弈** : 风险溢价为 0 的风险投资\n",
    "<BR>"
   ]
  },
  {
   "cell_type": "markdown",
   "id": "481ad311-5d7d-406d-8a20-a161e8b58035",
   "metadata": {},
   "source": [
    "**效用函数**\n",
    "$$\n",
    "\\ U\\ =\\ E(\\ r\\ )\\ -\\ \\frac{1}{2}A\\sigma^2\n",
    "$$\n",
    "**U** : 效用值$\\ ,\\qquad$  **A** : 投资者的风险厌恶系数$\\ ,\\qquad\\boldsymbol\\sigma^2$ : 方差 , 用于表示风险大小\n",
    "$\\qquad( \\frac{1}{2}\\text{是一个约定俗成的数值}\\ ,\\ 使用时\\ ,\\ 收益率\\ E(\\ r\\ )\\ 必须用小数形式而不是百分数形式\\qquad A\\ =\\ 3\\ :\\ 市场平均水平$ )\n",
    "<BR>\n",
    "$\\text{可以把风险资产的效用值看成投资者的}\\textbf{确定等价收益率 : }\\text{无风险资产为了达到和风险资产相同的效用所需要的收益率}$\n",
    "$$\n",
    "E(R_F)\\ =\\ U\\ =\\ E(r_p)\\ -\\ \\frac{1}{2}A\\sigma^2\n",
    "$$"
   ]
  },
  {
   "cell_type": "markdown",
   "id": "9d93e569-8c28-4b2c-bbd8-3860361fdfa8",
   "metadata": {},
   "source": [
    "**风险厌恶** **(A ＞ 0)** 的投资者会放弃公平赌局和更差的投资 , 更愿意考虑无风险资产和有正风险溢价的投资品\n",
    "<BR>\n",
    "**风险中性** **(A = 0)** 的投资者只根据风险资产的期望收益率来判断收益预期$\\ ,\\ $风险高低对其无关$\\ ,\\ $即对风险要求的补偿为 0 \n",
    "<BR>\n",
    "**风险偏好者** **(A ＜ 0)** 更愿意参加公平博弈或其他赌博$\\ ,\\ $将风险考虑在内后提高了其效用水平$\\ ,\\ $更愿意参加公平博弈$\\ ,\\ $因为公平博弈的确定等价收益率高于无风险收益率"
   ]
  },
  {
   "cell_type": "code",
   "execution_count": 2,
   "id": "6ba49581-fae5-40a1-bc25-4d668c12b62c",
   "metadata": {
    "execution": {
     "iopub.execute_input": "2024-08-28T11:20:40.988582Z",
     "iopub.status.busy": "2024-08-28T11:20:40.987572Z",
     "iopub.status.idle": "2024-08-28T11:20:41.166341Z",
     "shell.execute_reply": "2024-08-28T11:20:41.166341Z",
     "shell.execute_reply.started": "2024-08-28T11:20:40.988582Z"
    }
   },
   "outputs": [
    {
     "name": "stdout",
     "output_type": "stream",
     "text": [
      "在 均值 - 标准差 图表中 , 相同效用的所有资产组合构成无差异曲线\n"
     ]
    },
    {
     "data": {
      "application/vnd.jupyter.widget-view+json": {
       "model_id": "451297da4b794876bfd8d219893423c5",
       "version_major": 2,
       "version_minor": 0
      },
      "text/plain": [
       "VBox(children=(FloatSlider(value=0.5, description='$\\\\sigma$', max=2.0), FloatSlider(value=1.0, description='$…"
      ]
     },
     "metadata": {},
     "output_type": "display_data"
    },
    {
     "data": {
      "text/plain": [
       "<module '无差异曲线' from 'E:\\\\jupyter_program\\\\证券投资学\\\\无差异曲线.py'>"
      ]
     },
     "execution_count": 2,
     "metadata": {},
     "output_type": "execute_result"
    }
   ],
   "source": [
    "import importlib\n",
    "import 无差异曲线\n",
    "print(\"在 均值 - 标准差 图表中 , 相同效用的所有资产组合构成无差异曲线\")\n",
    "importlib.reload(无差异曲线)"
   ]
  },
  {
   "cell_type": "markdown",
   "id": "e889ca8e-e0b2-44d7-9b46-8844a70b13a7",
   "metadata": {},
   "source": [
    "**均值 - 方差准则 :**\n",
    "<BR><BR>\n",
    "投资组合$\\ A\\ $优于投资组合$\\ B\\ ,\\ $如果$\\ E(\\ r_A\\ )\\ \\geq\\ E(\\ r_B\\ )\\ $与$\\ \\sigma_A\\ \\leq\\ \\sigma_B\\ $至少有一个条件严格成立 ( 至少有一个不取等号 )"
   ]
  },
  {
   "cell_type": "markdown",
   "id": "d503dd15-abc0-4850-b218-fd0a16aaa83f",
   "metadata": {},
   "source": [
    "1. 一项资产的预期收益是所有情况下的概率加权平均收益\n",
    "$$\n",
    "E(\\ r\\ )\\ =\\ \\underset{s}{\\sum}P(\\ s\\ )r(\\ s\\ )\n",
    "$$\n",
    "2. 资产收益的方差是预期收益与预期收益的偏差平方的期望值。\n",
    "$$\n",
    "\\sigma^2\\ =\\ E\\left[\\ r(\\ s\\ )\\ -\\ E(\\ r\\ )\\ \\right]^2\\ =\\ \\underset{s}P(\\ s\\ )\\left[\\ r(\\ s\\ )\\ -\\ E(\\ r\\ )\\right]^2\n",
    "$$\n",
    "3. 投资组合的预期收益率是组成投资组合的每种资产的预期收益率的加权平均值，以投资组合的比例作为权重\n",
    "$$\n",
    "E(\\ r_P\\ )\\ =\\ E(\\ \\overset{n}{\\underset{i=1}{\\sum}}w_ir_i)\\ =\\ \\overset{n}{\\underset{i=1}{\\sum}}w_i\\ E(\\ r_i\\ )\\ ,\\ \\overset{n}{\\underset{i=1}{\\sum}}w_i\\ =\\ 1\n",
    "$$\n",
    "4. 当风险资产与无风险资产组合时，组合标准差等于风险资产的标准差乘以投资于风险资产的组合比例。\n",
    "$$\n",
    "\\sigma_P\\ =\\ w_{riskyasset}\\ ×\\ \\sigma_{riskyasset}\n",
    "$$"
   ]
  },
  {
   "cell_type": "markdown",
   "id": "670211d2-514c-4114-aa6a-a62466e45fcf",
   "metadata": {},
   "source": [
    "## 2.  一风险资产和一无风险资产的组合 ##"
   ]
  },
  {
   "cell_type": "markdown",
   "id": "33fd1620-28f9-4116-8189-64343756ae16",
   "metadata": {},
   "source": [
    "投资者投资预算中分配给 *风险投资组合* **P** 的比例 **y** , 剩余 **1 - y**部分分配给 *无风险资产* **F**\n",
    "<BR><BR>\n",
    "风险组合 P  **收益率** *$\\ r_P\\ \\ ,\\ $***期望收益***$\\ E(\\ r_P\\ )\\ ,\\ $***标准差***$\\ \\sigma_P\\ $*\n",
    "<BR>\n",
    "无风险资产 **收益率** *$\\ r_f\\ $*\n",
    "<BR><BR>\n",
    "**整个投资组合** *C*$\\quad$**收益率***$\\qquad r_C\\ $*$=\\ y\\ r_P\\ +\\ (\\ 1\\ -\\ y\\ )r_f$\n",
    "<BR><BR>\n",
    "**整个资产组合的*标准差***$\\ \\sigma_C\\ =\\ y\\ \\sigma_P\\ ,\\ $即风险资产的标准差和其在投资组合中比例的乘积"
   ]
  },
  {
   "cell_type": "markdown",
   "id": "513fb57a-95d3-4281-8b37-e548af1b8c6e",
   "metadata": {},
   "source": [
    "<font size=4>**绘制关于标准差的期望收益函数 (投资可行集)**</font>\n",
    "<BR><BR>\n",
    "$$\n",
    "\\begin{align}\n",
    "E(\\ r_c\\ )\\ &=\\ r_f\\ +\\ y\\ \\left[\\ E(\\ r_P\\ )\\ -\\ r_f\\ \\right] \\\\\n",
    "\\\\\n",
    "&=\\ r_f\\ +\\ \\frac{\\sigma_C}{\\sigma_P}\\ \\left[\\ E(\\ r_P\\ )\\ -\\ r_f\\ \\right]\n",
    "\\end{align}\n",
    "$$"
   ]
  },
  {
   "cell_type": "code",
   "execution_count": 1,
   "id": "7f6a0bb3-c318-4b96-9730-52bbdc0d7c88",
   "metadata": {
    "execution": {
     "iopub.execute_input": "2024-08-22T03:58:31.992187Z",
     "iopub.status.busy": "2024-08-22T03:58:31.992187Z",
     "iopub.status.idle": "2024-08-22T03:58:31.998135Z",
     "shell.execute_reply": "2024-08-22T03:58:31.997443Z",
     "shell.execute_reply.started": "2024-08-22T03:58:31.992187Z"
    }
   },
   "outputs": [
    {
     "ename": "IndentationError",
     "evalue": "unexpected indent (869069783.py, line 10)",
     "output_type": "error",
     "traceback": [
      "\u001b[1;36m  Cell \u001b[1;32mIn[1], line 10\u001b[1;36m\u001b[0m\n\u001b[1;33m    绘制期望收益与风险资产标准差之间的关系图。\u001b[0m\n\u001b[1;37m    ^\u001b[0m\n\u001b[1;31mIndentationError\u001b[0m\u001b[1;31m:\u001b[0m unexpected indent\n"
     ]
    }
   ],
   "source": [
    "# efficient_frontier_with_controls.py\n",
    "\"\"\"\"\n",
    "import numpy as np\n",
    "import matplotlib.pyplot as plt\n",
    "from matplotlib.widgets import Slider\n",
    "\n",
    "\n",
    "def plot_efficient_frontier(sigma_P=0.22, r_f=0.07, E_r_P=0.15):\n",
    "    \"\"\"\n",
    "    绘制期望收益与风险资产标准差之间的关系图。\n",
    "\n",
    "    参数:\n",
    "    sigma_P -- 风险资产的标准差（默认值为 0.22）\n",
    "    r_f -- 无风险收益率（默认值为 0.07）\n",
    "    E_r_P -- 风险资产的期望收益率（默认值为 0.15）\n",
    "    \"\"\"\n",
    "\n",
    "    sigma_C_range = np.linspace(0, 0.3, 500)\n",
    "\n",
    "    # 计算期望收益率\n",
    "    E_r = r_f + (sigma_C_range / sigma_P) * (E_r_P - r_f)\n",
    "\n",
    "    # 绘制图形\n",
    "    fig, ax = plt.subplots(figsize=(12, 8))\n",
    "    plt.subplots_adjust(left=0.1, bottom=0.25)\n",
    "    ax.plot(sigma_C_range, E_r, label='资本配置线', color='blue')\n",
    "\n",
    "    # 添加图注\n",
    "    ax.text(0.05, r_f + 0.01, f'$σ_P=22%$\\n$r_f=7%$\\n$E(r_P)=15%$', fontsize=12, verticalalignment='top')\n",
    "\n",
    "    # 绘制点F\n",
    "    F = (0, r_f)\n",
    "    ax.plot(*F, 'ro')  # 点F\n",
    "    ax.annotate('F', xy=F, xytext=(F[0] + 0.01, F[1] + 0.01),\n",
    "                arrowprops=dict(facecolor='red', shrink=0.05))\n",
    "    ax.axhline(y=r_f, color='gray', linestyle='--', xmin=0.02, xmax=0.98)\n",
    "    ax.text(0.02, r_f, 'r_f=7%', verticalalignment='bottom')\n",
    "\n",
    "    # 绘制点P\n",
    "    P = (sigma_P, E_r_P)\n",
    "    ax.plot(*P, 'go')  # 点P\n",
    "    ax.annotate('P', xy=P, xytext=(P[0] + 0.01, P[1] - 0.01),\n",
    "                arrowprops=dict(facecolor='green', shrink=0.05))\n",
    "    ax.axvline(x=sigma_P, color='gray', linestyle='--')\n",
    "    ax.axhline(y=E_r_P, color='gray', linestyle='--')\n",
    "    ax.text(sigma_P + 0.01, 0, f'$σ=22%$\\n$σ_P={sigma_P * 100:.0f}%$\\n$y=1$', verticalalignment='bottom')\n",
    "    ax.text(sigma_P + 0.01, E_r_P, f'$E(r_P)=15%$', verticalalignment='bottom')\n",
    "\n",
    "    # 设置刻度\n",
    "    ax.set_xticks(np.arange(0, 0.31, 0.01))\n",
    "    ax.set_yticks(np.arange(r_f, E_r_P + 0.01, 0.01))\n",
    "\n",
    "    ax.set_xlabel('风险资产标准差 $σ_C$')\n",
    "    ax.set_ylabel('期望收益率 $E(r_c)$')\n",
    "    ax.set_title('期望收益率与风险资产标准差的关系')\n",
    "    ax.legend()\n",
    "    ax.grid(True)\n",
    "\n",
    "    # 添加控件\n",
    "    ax_slider = plt.axes([0.1, 0.1, 0.65, 0.03], facecolor='lightgoldenrodyellow')\n",
    "    slider = Slider(ax_slider, 'σ_P', 0.01, 0.30, valinit=sigma_P, valstep=0.01, valfmt='%1.2f')\n",
    "\n",
    "    def update(val):\n",
    "        ax.clear()\n",
    "        sigma_P = slider.val\n",
    "        plot_efficient_frontier(sigma_P=sigma_P, r_f=r_f, E_r_P=E_r_P)\n",
    "        plt.draw()\n",
    "\n",
    "    slider.on_changed(update)\n",
    "    plt.show()\n",
    "\n",
    "plot_efficient_frontier()\n"
   ]
  },
  {
   "cell_type": "markdown",
   "id": "29ea8ec2-62ae-4276-9e7a-597591b18c51",
   "metadata": {},
   "source": [
    "**夏普比率**($\\ 收益波动性比率\\ $)\n",
    "<BR>\n",
    "$\n",
    "\\text{关于标准差的期望收益函数的斜率为}\n",
    "$\n",
    "夏普比率\n",
    "\n",
    "$$\n",
    "夏普比率\\ =\\ \\frac{风险溢价}{超额收益率的标准差}\\ =\\ \\frac{E(\\ r_i\\ )\\ -\\ r_f}{\\sigma_i}\n",
    "$$"
   ]
  },
  {
   "cell_type": "markdown",
   "id": "b2edf058-0768-4170-8976-d87c95b987a8",
   "metadata": {},
   "source": []
  }
 ],
 "metadata": {
  "kernelspec": {
   "display_name": "Python 3 (ipykernel)",
   "language": "python",
   "name": "python3"
  },
  "language_info": {
   "codemirror_mode": {
    "name": "ipython",
    "version": 3
   },
   "file_extension": ".py",
   "mimetype": "text/x-python",
   "name": "python",
   "nbconvert_exporter": "python",
   "pygments_lexer": "ipython3",
   "version": "3.11.5"
  },
  "widgets": {
   "application/vnd.jupyter.widget-state+json": {
    "state": {},
    "version_major": 2,
    "version_minor": 0
   }
  }
 },
 "nbformat": 4,
 "nbformat_minor": 5
}
