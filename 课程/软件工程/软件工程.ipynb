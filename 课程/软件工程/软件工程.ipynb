{
 "cells": [
  {
   "attachments": {},
   "cell_type": "markdown",
   "id": "53eead0a-6581-4a8b-a1f0-41e1beb14d95",
   "metadata": {},
   "source": [
    "- Part One – The Software Process（3~4 weeks） \n",
    "   (chapter 1-5 )\n",
    "\n",
    "- Part two – Modeling （4~5 weeks）\n",
    "   (chapter 7-12 )\n",
    "\n",
    "- Part Three – Quality Management （2~3 weeks）\n",
    "   (chapter 19-20 )\n",
    "\n",
    "- Web应用不讲"
   ]
  },
  {
   "cell_type": "markdown",
   "id": "c35ab1f4-085c-4073-993b-aacf842e47cb",
   "metadata": {},
   "source": [
    "### Part One: The Software Process ###"
   ]
  },
  {
   "cell_type": "markdown",
   "id": "7433aa56-e193-47a0-8191-e22bd299a0cb",
   "metadata": {},
   "source": [
    "#### Chapter 1: Software and Software Engineering ####"
   ]
  },
  {
   "attachments": {},
   "cell_type": "markdown",
   "id": "168fe7ac-c623-4b25-8ff7-331214ae1d97",
   "metadata": {
    "jp-MarkdownHeadingCollapsed": true
   },
   "source": [
    "1.1<BR>\n",
    "什么是软件？<BR>\n",
    "- 执行时提供所需特征、功能和性能的**指令（计算机程序）**；\n",
    "- 使程序能够充分操作信息的**数据结构**；\n",
    "- 以硬拷贝和虚拟形式描述程序的操作和使用的**描述性信息**。\n",
    "<BR>\n",
    "<BR>\n",
    "\n",
    "硬件和软件的区别?\n",
    "1. 软件是开发或设计的，不是传统意义上的制造；\n",
    "2. **软件不会磨损**（*最根本的不同*）；\n",
    "3. 大多数软件是定制的；\n",
    "4. 软件的可复用程度比硬件低。\n",
    "<BR>\n",
    "<img src=\"img/软件不会磨损.png\" alt=\"磨损曲线\" width=\"300\" height=\"200\" />\n",
    "<BR>\n",
    "\n",
    "1.1.3<BR>\n",
    "*为什么旧软件必须更新？*\n",
    "1. 适应新计算环境（技术）的需求；\n",
    "2. 实现新的业务要求；\n",
    "3. 软件必须进行扩展以适应更现代的系统或数据库；\n",
    "4. 软件必须进行重构以在网络环境中可行。"
   ]
  },
  {
   "cell_type": "markdown",
   "id": "77dc316c-4374-4ceb-ba0d-40507be2fe6c",
   "metadata": {},
   "source": [
    "1.2\n",
    "**软件工程**\n",
    "1. 将**系统化、规范化、可量化的方法**应用于**软件的开发、操作和维护**（即：**将工程化的方法应用与软件开发**）；\n",
    "2. 对 1. 中方法的研究。\n",
    "\n",
    "软件工程是一种层次化的技术。\n",
    "<BR>\n",
    "软件工程的**基础**是**过程层**(process)\n",
    "<BR>\n",
    "<img src=\"img/软件工程是一种层次化的技术.png\" alt=\"层次化的技术\" width=\"300\" height=\"200\" />"
   ]
  },
  {
   "attachments": {},
   "cell_type": "markdown",
   "id": "c4090161-e57b-4507-9d06-b32c89cb680b",
   "metadata": {},
   "source": [
    "1.3**软件过程**：\n",
    "<BR>\n",
    "在工作产品构建中的工作**活动**、**动作**和**任务**的集合。\n",
    "<BR><BR>\n",
    "**活动(activity)**：致力于实现一个广泛的目标，且无论应用领域、项目规模、努力的复杂程度或应用的严谨程度如何，都会被应用。\n",
    "<BR>\n",
    "**动作(action)**:包含一系列产生主要的工作产品的**任务**。\n",
    "<BR>\n",
    "**任务(task)**：专注于一个较小但定义明确的目标，并产生切实的结果。\n",
    "<BR>\n",
    "<BR>\n",
    "**Process framework（框架活动）**\n",
    "- **Framework activities**：基本框架\n",
    "    - 软件开发生命周期中普遍存在的基本活动。\n",
    "    - work tasks\n",
    "    - work products\n",
    "    - milestones & deliverables\n",
    "    - QA checkpoints\n",
    "- **Umbrella activities（普适性活动）**：补充\n",
    "    - 跨越整个软件开发生命周期的活动，不特定于某个阶段。\n",
    "<BR>\n",
    "\n",
    "五个软件过程框架活动\n",
    "Generic Framework Activities\n",
    "1. Communication\n",
    "2. Planning\n",
    "3. Modeling\n",
    "   - Analysis of requirements\n",
    "   - Design \n",
    "4. Construction\n",
    "   - Code generation\n",
    "   - Testing\n",
    "5. Deployment"
   ]
  },
  {
   "attachments": {},
   "cell_type": "markdown",
   "id": "b31428f4-7d66-49f0-8db1-410b589e1a27",
   "metadata": {},
   "source": [
    "1.4**软件工程实践**\n",
    "<BR>\n",
    "1.4.1实践的精髓\n",
    "<BR>\n",
    "\n",
    "**Polya**:\n",
    "1. **Understand the problem**(communicate and analysis)\n",
    "2. **Plan a solution**(modeling and software design)\n",
    "3. **Carry out the plan**(code generation)\n",
    "4. **Examine the result for accuracy**(testing and quality assurance)\n",
    "\n",
    "<BR>\n",
    "1.4.2Hooker's 普遍原则\n",
    "\n",
    "1. **The Reason It All Exists**(软件是否存在价值)\n",
    "2. **KISS** (Keep It Simple, Stupid!)（简单）\n",
    "3. **Maintain the Vision**（保持愿景，目标明确）\n",
    "4. **What You Produce, Others Will Consume** （关注使用者）\n",
    "5. **Be Open to the Future**（面向未来）  \n",
    "6. **Plan Ahead for Reuse**（重用）\n",
    "7. **Think!**（认真思考）"
   ]
  },
  {
   "cell_type": "markdown",
   "id": "9b1a1df3-c6cf-4c78-8b6a-8c8301612b98",
   "metadata": {},
   "source": [
    "#### Chapter 2: Process Models ####"
   ]
  },
  {
   "cell_type": "markdown",
   "id": "975128eb-ecd4-413b-b6ce-8139a55eaa04",
   "metadata": {},
   "source": [
    "2.1 通用过程模型(Generic Process Model)\n",
    "<BR>\n",
    "\n",
    "<img src=\"img/Process Model.png\" alt=\"ProcessModel\" width=\"300\" height=\"500\" />\n",
    "<BR>\n",
    "\n",
    "##### <font color = \"red\">**过程流,背,老师爱考** <font> #####\n",
    "<BR>\n",
    "\n",
    "1. **线性过程流(linear process flow)**：\n",
    "   - Communication $\\ \\textrightarrow\\ $ Planning $\\ \\textrightarrow\\ $ Modeling $\\ \\textrightarrow\\ $ Construction $\\ \\textrightarrow\\ $ Deployment\n",
    "   - **顺序执行**五个框架活动\n",
    "   -  针对**需求清楚，风险低**的\n",
    "<BR>\n",
    "<img src=\"img/线性过程流.png\"  width=\"500\" height=\"500\" />\n",
    "2. **迭代过程流(Iterative process flow)**:\n",
    "    - 在执行下一个活动前，**重复执行**之前的一个或多个活动\n",
    "    - **原型模型**原则上是一个**被抛弃**的模型\n",
    "    - 用于**不是很大、需求不太清楚**的项目\n",
    "<BR>\n",
    "<img src=\"img/迭代过程流.png\"  width=\"500\" height=\"500\" />\n",
    "3. **演化过程流(Evolutionary process flow)**\n",
    "    - 采用**循环**的方式执行各个活动\n",
    "<BR>  \n",
    "<img src=\"img/演化过程流.jpg\"  width=\"500\" height=\"500\" />\n",
    "4. **parallel并行过程流(Parallel process flow)**\n",
    "    - **将一个或多个活动与其他活动并行执行**\n",
    "<BR>\n",
    "<img src=\"img/parallel并行过程流.jpg\"  width=\"500\" height=\"500\" />"
   ]
  },
  {
   "cell_type": "markdown",
   "id": "2ae9eae9-afed-44f3-ab5c-1069eb639b87",
   "metadata": {},
   "source": [
    "2.2 定义框架活动\n",
    "<BR>\n",
    "活动的每项任务根据以下因素而有所不同：\n",
    "1. 项目类型\n",
    "2. 项目特点\n",
    "3. 常识\n",
    "4. 团队协作性"
   ]
  },
  {
   "attachments": {},
   "cell_type": "markdown",
   "id": "62359517-d6ba-4166-ad88-049b1c4ff00b",
   "metadata": {},
   "source": [
    "2.3 定义一个任务集\n",
    "<BR>\n",
    "任务集定义了**为完成软件目标而需要的实际工作**\n",
    "<BR>\n",
    "一个软件动作(*action*)由若干个任务集(*task set*)完成"
   ]
  },
  {
   "cell_type": "markdown",
   "id": "4de41632-55c1-4c5e-a5c8-97eab61fe0a0",
   "metadata": {},
   "source": [
    "2.4 过程评价与改进\n",
    "<BR>"
   ]
  },
  {
   "cell_type": "markdown",
   "id": "66665e39-1bd1-4135-86d7-fa2d0c45a16f",
   "metadata": {},
   "source": [
    "**2.5 惯用过程模型<font color=\"red\">（考）<font>**\n",
    "- 提倡有序的工程方法\n",
    "<BR>\n",
    "\n",
    "**2.5.1 瀑布模型(Waterfall Model)（“传统”过程模型）**\n",
    "<BR>\n",
    "<img src=\"img/瀑布模型.png\"  width=\"800\" height=\"500\" />\n",
    "<BR>\n",
    "优点：\n",
    "1. 易于理解和计划\n",
    "2. 适用于易于理解的小型项目\n",
    "3. 分析和测试直截了当\n",
    "<BR>\n",
    "缺点：\n",
    "1. "
   ]
  },
  {
   "cell_type": "markdown",
   "id": "cd8bfdcf-4011-4bde-998c-05b943a613db",
   "metadata": {},
   "source": [
    "\n",
    "- Prescriptive process models\n",
    "- Waterfall Model (linear sequential model)\n",
    "- Incremental model \n",
    "- Evolutionary process models (Prototype/Spiral)\n",
    "- Unified Process\n",
    "- agility  agile\n",
    "- Advocate, coordination and coherence \n",
    "\n",
    "PPT SELecture-Part1 P75——\n",
    "1. 线性过程流（瀑布模型）：从沟通到部署顺序执行五个框架活动\n",
    "    - 针对需求清楚，风险低的\n",
    "2. 迭代过程流：在执行下一个活动前，重复执行之前的一个或多个活动\n",
    "   - 原型模型原则上是一个被抛弃的模型\n",
    "   - 用于项目不是很大、需求不太清楚\n",
    "3. 演化过程流（螺旋模型）：采用循环的方式执行各个活动\n",
    "   -  **螺旋模型是一种演化过程模型，它结合了原型的迭代性质和瀑布模型的系统性和可控性，注重风险控制（里程碑），适合大型项目开发**\n",
    "   -  \n",
    "4. parallel并行过程流：将一个或多个活动与其他活动并行执行\n",
    "\n",
    "\n",
    "\n",
    "2.5\n",
    "Unified Modeling Language(UML),统一建模语言\n",
    "Unified Process:迭代增量过程，用UML进行面向对象软件工程的框架设计和过程开发\n",
    "1. Inception:沟通和交流，对应communication\n",
    "2. Elaboration:建模过程\n",
    "3. Construction:\n",
    "4. Transition:对应deployment\n",
    "5. Production:\n",
    "\n",
    "use-case:用例，一种用于描述系统功能的工具，它以用户的角度来定义系统应如何与外部参与者（用户或其他系统）交互。\n",
    "\n",
    "增量模型：\n",
    "最基础的核是一个东西\n",
    "- 节约时间、减少人力\n",
    "- 每个增量都是可提交运行的版本\n",
    "\n",
    "\n",
    "敏捷宣言\n",
    "- **Individuals and interactions** over **processes and tools**   个体与互动胜过流程与工具\n",
    "- **Working software** over **comprehensive documentation**   工作的软件胜过详尽的文档\n",
    "- **Customer collaboration** over **contract negotiation**   客户合作胜过合同谈判\n",
    "- **Responding to change** over **following a plan**    响应变化胜过遵循计划\n",
    "\n",
    "敏捷宣言三个关键假设\n",
    "-\n",
    "\n",
    "kanban是敏捷模型的一部分\n"
   ]
  },
  {
   "cell_type": "markdown",
   "id": "5d95c281-068a-4a61-be8a-c88a94629ccf",
   "metadata": {},
   "source": [
    "### Part Two: Modeling ###"
   ]
  },
  {
   "cell_type": "markdown",
   "id": "80ab7ac3-7c46-4cde-848f-3e1aa8ae037f",
   "metadata": {},
   "source": [
    "#### Part Two -1:Requirement analysis(需求分析) ####\n"
   ]
  },
  {
   "cell_type": "markdown",
   "id": "103fab99-5c0c-48e6-9cdd-70ddee1cb2f7",
   "metadata": {
    "execution": {
     "iopub.execute_input": "2024-09-26T07:29:57.766571Z",
     "iopub.status.busy": "2024-09-26T07:29:57.764564Z",
     "iopub.status.idle": "2024-09-26T07:29:57.820754Z",
     "shell.execute_reply": "2024-09-26T07:29:57.817751Z",
     "shell.execute_reply.started": "2024-09-26T07:29:57.766571Z"
    }
   },
   "source": [
    "how must be a requirement\n",
    "1. easily identifiable\n",
    "2. unambiguous\n",
    "3. testable\n",
    "\n",
    "Requriement Engeneering<BR>\n",
    "RE is a major **action** starting the communication activity continues into modeling activity<BR>\n",
    "理解\n",
    "- 通往设计和构建的桥梁\n",
    "- 了解项目（产品、人）的需求\n",
    "- 软件是否成败的关键\n",
    "\n",
    "**定义**<BR>\n",
    "需求工程是指致力于不断理解需求的大量任务和技术。<BR>\n",
    "从软件过程的角度，……<BR>\n",
    "完整定义（七个，***背***）：<BR>\n",
    "1. Inception, 起始——建立起对项目的最基本的理解\n",
    "2. Elicitation, 收集——收集所有利益相关者的需求\n",
    "3. Elaboration, 精化——可认为是建模，\n",
    "4. Negotiation, 协商——甲乙方间对于实际的可交付的系统的同意（后面再去重新翻译）\n",
    "5. Specification, 规格说明——包括约束性的功能\n",
    "6. Validation, 确认——技术性评审来看是否满足要求\n",
    "7. Requirements management, 需求管理——\n",
    "\n",
    "##### Inception #####\n",
    "建立起对问题的最基本的理解\n",
    "##### Elicitation #####\n",
    "\n",
    "Scenario = Use Case\n",
    "PPT 7.4Elaboration：Developing Use-Cases整页"
   ]
  },
  {
   "cell_type": "markdown",
   "id": "1e3e23e4-e9f4-4e51-b4c0-a0a2c25d3dc2",
   "metadata": {
    "jp-MarkdownHeadingCollapsed": true
   },
   "source": [
    "#### Part Two -2:Design ####"
   ]
  },
  {
   "cell_type": "markdown",
   "id": "99e86578-4f67-4b64-876f-1c10fdb75430",
   "metadata": {},
   "source": [
    "### Part Three: Quality Management ###"
   ]
  }
 ],
 "metadata": {
  "kernelspec": {
   "display_name": "Python 3 (ipykernel)",
   "language": "python",
   "name": "python3"
  },
  "language_info": {
   "codemirror_mode": {
    "name": "ipython",
    "version": 3
   },
   "file_extension": ".py",
   "mimetype": "text/x-python",
   "name": "python",
   "nbconvert_exporter": "python",
   "pygments_lexer": "ipython3",
   "version": "3.12.4"
  }
 },
 "nbformat": 4,
 "nbformat_minor": 5
}
