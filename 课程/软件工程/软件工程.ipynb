{
 "cells": [
  {
   "cell_type": "markdown",
   "id": "acd4cfad-efab-4081-81ac-1ff8324ef477",
   "metadata": {},
   "source": [
    "软件过程五个框架活动\n",
    "Generic Framework Activities\n",
    "1. Communication\n",
    "2. Planning\n",
    "3. Modeling\n",
    "   - Analysis of requirements\n",
    "   - Design \n",
    "4. Construction\n",
    "   - Code generation\n",
    "   - Testing\n",
    "5. Deployment"
   ]
  },
  {
   "attachments": {},
   "cell_type": "markdown",
   "id": "168fe7ac-c623-4b25-8ff7-331214ae1d97",
   "metadata": {},
   "source": [
    "### Part One###\n",
    "- Prescriptive process models\n",
    "- Waterfall Model (linear sequential model)\n",
    "- Incremental model \n",
    "- Evolutionary process models (Prototype/Spiral)\n",
    "- Unified Process\n",
    "- agility  agile\n",
    "- Advocate, coordination and coherence \n",
    "\n",
    "\n",
    "**过程**：在工作产品构建中的工作活动、动作和任务的集合。\n",
    "\n",
    "umbrella activity\n",
    "\n",
    "\n",
    "\n",
    "PPT SELecture-Part1 P75——背，图书p22有，老师爱考\n",
    "1. 线性过程流（瀑布模型）：从沟通到部署顺序执行五个框架活动\n",
    "    - 针对需求清楚，风险低的\n",
    "2. 迭代过程流：在执行下一个活动前，重复执行之前的一个或多个活动\n",
    "   - 原型模型原则上是一个被抛弃的模型\n",
    "   - 用于项目不是很大、需求不太清楚\n",
    "3. 演化过程流（螺旋模型）：采用循环的方式执行各个活动\n",
    "   -  **螺旋模型是一种演化过程模型，它结合了原型的迭代性质和瀑布模型的系统性和可控性，注重风险控制（里程碑），适合大型项目开发**\n",
    "   -  \n",
    "4. parallel并行过程流：将一个或多个活动与其他活动并行执行\n",
    "\n",
    "2.3 Identifying a Task Set\n",
    "- Activity\n",
    "- Action\n",
    "- Task Set\n",
    "\n",
    "\n",
    "2.5\n",
    "Unified Modeling Language(UML),统一建模语言\n",
    "Unified Process:迭代增量过程，用UML进行面向对象软件工程的框架设计和过程开发\n",
    "1. Inception:沟通和交流，对应communication\n",
    "2. Elaboration:建模过程\n",
    "3. Construction:\n",
    "4. Transition:对应deployment\n",
    "5. Production:\n",
    "\n",
    "use-case:用例，一种用于描述系统功能的工具，它以用户的角度来定义系统应如何与外部参与者（用户或其他系统）交互。\n",
    "\n",
    "增量模型：\n",
    "最基础的核是一个东西\n",
    "- 节约时间、减少人力\n",
    "- 每个增量都是可提交运行的版本\n",
    "\n",
    "\n",
    "敏捷宣言\n",
    "- **Individuals and interactions** over **processes and tools**\n",
    "- **Working software** over **comprehensive documentation** \n",
    "- **Customer collaboration** over **contract negotiation**   和客户的合作胜过谈判\n",
    "- **Responding to change** over **following a plan**\n",
    "\n",
    "\n",
    "kanban是敏捷模型的一部分"
   ]
  }
 ],
 "metadata": {
  "kernelspec": {
   "display_name": "Python 3 (ipykernel)",
   "language": "python",
   "name": "python3"
  },
  "language_info": {
   "codemirror_mode": {
    "name": "ipython",
    "version": 3
   },
   "file_extension": ".py",
   "mimetype": "text/x-python",
   "name": "python",
   "nbconvert_exporter": "python",
   "pygments_lexer": "ipython3",
   "version": "3.12.4"
  }
 },
 "nbformat": 4,
 "nbformat_minor": 5
}
