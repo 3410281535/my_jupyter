{
 "cells": [
  {
   "cell_type": "markdown",
   "id": "acd4cfad-efab-4081-81ac-1ff8324ef477",
   "metadata": {},
   "source": [
    "软件过程五个框架活动\n",
    "Generic Framework Activities\n",
    "1. Communication\n",
    "2. Planning\n",
    "3. Modeling\n",
    "   - Analysis of requirements\n",
    "   - Design \n",
    "4. Construction\n",
    "   - Code generation\n",
    "   - Testing\n",
    "5. Deployment"
   ]
  },
  {
   "attachments": {},
   "cell_type": "markdown",
   "id": "168fe7ac-c623-4b25-8ff7-331214ae1d97",
   "metadata": {},
   "source": [
    "### Part One###\n",
    "- Prescriptive process models\n",
    "- Waterfall Model (linear sequential model)\n",
    "- Incremental model \n",
    "- Evolutionary process models (Prototype/Spiral)\n",
    "- Unified Process\n",
    "- agility  agile\n",
    "- Advocate, coordination and coherence \n",
    "\n",
    "\n",
    "**过程**：在工作产品构建中的工作活动、动作和任务的集合。\n",
    "\n",
    "umbrella activity\n",
    "\n",
    "\n",
    "\n",
    "PPT SELecture-Part1 P75——背，图书p22有，老师爱靠\n",
    "1. 线性过程流：从沟通到部署顺序执行五个框架活动\n",
    "2. 迭代过程流：在执行下一个活动前，重复执行之前的一个或多个活动\n",
    "3. 演化过程流：采用循环的方式执行各个活动\n",
    "4. parallel并行过程流：将一个或多个活动与其他活动并行执行\n",
    "\n",
    "2.3 Identifying a Task Set\n",
    "- Activity\n",
    "- Action\n",
    "- Task Set"
   ]
  }
 ],
 "metadata": {
  "kernelspec": {
   "display_name": "Python 3 (ipykernel)",
   "language": "python",
   "name": "python3"
  },
  "language_info": {
   "codemirror_mode": {
    "name": "ipython",
    "version": 3
   },
   "file_extension": ".py",
   "mimetype": "text/x-python",
   "name": "python",
   "nbconvert_exporter": "python",
   "pygments_lexer": "ipython3",
   "version": "3.12.4"
  }
 },
 "nbformat": 4,
 "nbformat_minor": 5
}
