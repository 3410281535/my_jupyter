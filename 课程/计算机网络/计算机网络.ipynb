{
 "cells": [
  {
   "cell_type": "markdown",
   "id": "3d2b222c-e3d9-47b3-b48a-f1eefec586c3",
   "metadata": {},
   "source": [
    "上到第五章\n",
    "闭卷考\n",
    "平时：签到3次 + 作业 8(9) 次, 课前评讲, 带红笔来。 作业只以有没有交计分。\n"
   ]
  },
  {
   "cell_type": "markdown",
   "id": "99dc7724-e2a1-4831-945f-bc0a29d4dd9c",
   "metadata": {},
   "source": [
    "### 第一章 ###\n",
    "#### 1.1 what is Internet ####\n",
    "#### 1.2 network edge ####\n",
    "#### 1.3 network core ####\n",
    "#### 1.4 ####\n",
    "**重点 考计算题**\n",
    "#### 1.5 ####"
   ]
  },
  {
   "cell_type": "markdown",
   "id": "5fb4933b-6f62-4125-8a51-a8afb754cef3",
   "metadata": {},
   "source": [
    "1.1<BR>\n",
    "$\\bigotimes\\ \\text{router : 路由器}$<BR>\n",
    "$\\boxtimes\\ \\text{switch : 交换机}$<BR>\n",
    "RFC : request of comments, 互联网中所有跟通信有关的协议标准<BR>\n",
    "IETF : Internet Engineering Task Force, 互联网工程专家组<BR>\n",
    "protocol(协议)：就记两个词——format和order，格式和顺序<BR>\n",
    "client : 客户端$\\qquad$SVR : 服务器<BR>\n"
   ]
  },
  {
   "cell_type": "markdown",
   "id": "f5598b48-b732-4d64-93aa-e00c67770c39",
   "metadata": {},
   "source": [
    "1.2<BR>\n",
    "互联网核心部分是<u>路由器网络</u><BR>\n",
    "\n",
    "常记两个问题：\n",
    "- bandwidth of access network?\n",
    "- shared or dedicated?\n",
    "带宽 : 将计算机中的0和1数据转换成对应的信号的转换速度<BR>\n",
    "一条链路的传输率/容量/带宽\n",
    "$$\n",
    "transmission\\ \\ delay(传输延迟)\\ =\\ \\frac{L(bits)}{R(bits/sec)}\n",
    "$$\n",
    "fiber optic fiber : 光纤"
   ]
  },
  {
   "cell_type": "markdown",
   "id": "08fa3b95-0cf5-4162-82c1-0f8a35714921",
   "metadata": {
    "execution": {
     "iopub.execute_input": "2024-09-02T07:46:18.803530Z",
     "iopub.status.busy": "2024-09-02T07:46:18.803530Z",
     "iopub.status.idle": "2024-09-02T07:46:18.835520Z",
     "shell.execute_reply": "2024-09-02T07:46:18.835014Z",
     "shell.execute_reply.started": "2024-09-02T07:46:18.803530Z"
    }
   },
   "source": [
    "1.3<BR>\n",
    "互联网中的数据传输有两种方式:\n",
    "- 包交换(packet switch)\n",
    "- 电路交换(circuit switch)\n",
    "\n",
    "d:delay<BR>\n",
    "nodal  : 节点\n",
    "$$\n",
    "d_{nodal}\\ =\\ d_{proc}\\ +\\ d_{queue}\\ +\\ d_{trans}\\ +\\ d_{prop}\n",
    "$$\n",
    "$d_{proc}\\ :\\ nodal\\ processing 节点处理延迟$<BR>\n",
    "- check bit error\n",
    "- determine output link\n",
    "<BR>\n",
    "\n",
    "$d_{queue}\\ :\\ queueing\\ delay 排队延迟$\n",
    "- 数据包到来的速率高于数据包传出的速率\n",
    "\n",
    "\n",
    "$d_{trans}传输延迟$\n",
    "- L:packet length 数据包长度(bit)\n",
    "- R:link bandwidth 带宽\n",
    "- $d_{trans}\\ =\\ \\frac{L}{R}$\n",
    "\n",
    "$d_{prop}$传播延迟\n",
    "- 与链路的物理距离d有关\n",
    "- 传输速度s有关\n",
    "- $d_{prop}\\ =\\ \\frac{d}{s}$\n",
    "\n",
    "电磁波信号在链路上的长度<BR>\n",
    "假设数据包1bit，带宽10Mb/s，传输速度2$\\times10^8$m/s<BR>\n",
    "$1 / (10\\times10^6)\\ =\\ 1\\times 10^{-7}$<BR>\n",
    "$2\\times10^{8}\\times1\\times10^{-7}\\ =\\ 20m$<<BR>\n",
    "\n",
    "**计算时只盯信号头或信号尾**\n",
    "\n",
    "流量密度$\\ =\\ \\frac{输入速率}{输出速率}$\n",
    "<BR>\n",
    "- R:link bandwidth\n",
    "- L：packet length\n",
    "- a: average packet arrival rate\n",
    "\n",
    "traffic intensity$\\ =\\ \\frac{La}{R}$<BR>\n",
    "- La/R~0:queueing delay small\n",
    "- >\n",
    "- \n",
    "\n",
    "TTL: time-to-live，在数据包包头部分\n",
    "经过一个路由器，TTL -= 1<BR>\n",
    "TTL = 0时还没到达，就认为是数据包目的地的IP地址有问题，抛弃数据包，返回一个通知\n",
    "\n",
    "loop routing：回环路由\n",
    "\n",
    "\n",
    "RTT：往返时延\n",
    "<BR>\n",
    "throughput: 吞吐量\n",
    "发送方和接收方之间传输的比特数"
   ]
  },
  {
   "cell_type": "markdown",
   "id": "661c91d1-d3e3-4671-9e3d-dc39dd746b0e",
   "metadata": {},
   "source": [
    "1.5 分层的TCP/IP协议\n"
   ]
  },
  {
   "attachments": {},
   "cell_type": "markdown",
   "id": "33df81d2-89ae-4945-8e89-bb258f54c7c6",
   "metadata": {},
   "source": [
    "作业3 layering considered harmful?\n",
    "模块化的缺点？"
   ]
  },
  {
   "cell_type": "markdown",
   "id": "a6701158-5b26-4a33-a7e6-f42fd1032f90",
   "metadata": {},
   "source": [
    "考试考\n",
    "TCP/IP的五个协议模块层是什么\n",
    "application layer 应用层\n",
    "用来封装业务数据\n",
    "transport layer\n",
    "提供数据发送和接收的服务，分成两个模块，一部分TCP模块，一部分UDP模块\n",
    "network layer\n",
    "\n",
    "link layer\n",
    "physical layer"
   ]
  },
  {
   "cell_type": "markdown",
   "id": "3ea61824-c0a0-463d-a5e4-30c91afade04",
   "metadata": {},
   "source": [
    "### 第二章 应用层 ###"
   ]
  },
  {
   "cell_type": "markdown",
   "id": "087e5388-8905-4156-8821-49c9ab27e046",
   "metadata": {},
   "source": [
    "2.1principle of network<BR>\n",
    "2.2**Web and HTTP**<BR>\n",
    "2.3electronic main\n",
    "- SMTP、POP3、IMAP<BR>\n",
    "\n",
    "2.4**DNS**<BR>\n",
    "  "
   ]
  },
  {
   "cell_type": "markdown",
   "id": "afc95fc6-4174-4c57-880d-2c09f23944c6",
   "metadata": {},
   "source": [
    "2.2\n",
    "HTTP——p：protocol 协议\n",
    "HTML——l：language 语言\n",
    "\n",
    "\n",
    "HTTP和远端通信时总是选择TCP\n",
    "\n",
    "浏览器进程（browser）向远端服务器（http SVR）发起一个TCP连接，浏览器先向内核中的TCP\n",
    "TCP模块和SVR的TCP模块发起请求\n",
    "\n",
    "计算题\n",
    "HTTP connection（两边TCP之间的链接）\n",
    "1. non-persistent 非持久化，只能传一个HTTP对象，传完后连接close     http1.0\n",
    "2. persistent 持久化，能传多个HTTP对象                             http1.1\n",
    "\n",
    "文件传输有stop & wait和pipelining\n",
    "\n",
    "RTT：round trip time客户端和服务器的往返时间\n",
    "图\n",
    "\n",
    "一个SVR对于一个浏览器开的并发连接进程不会太多\n",
    "\n",
    "HTTP请求包的格式\n",
    "第一行： GET命令或POST命令 文件路径 版本号（HTTP/1.1） \\r\\n（先把光标移回去，再换下一行）\n",
    "- GET：希望去服务器下载\n",
    "- POST：希望上传信息给服务器\n",
    "请求包的最后一行以\\r\\n结束\n",
    "\n",
    "GET请求包包体为空的\n",
    "POST包除了包头Header，还有包体（你要上传的东西）\n",
    "\n",
    "\n",
    "HTTP响应包\n",
    "第一行：服务器跟浏览器确认的版本号（HTTP/1.1） 200（状态码——服务器相应的内容的类型） OK（状态码的文字描述，如果状态码是404则文字描述为Not Found）\\r\\n\n",
    "\n",
    "还有一行：Last Modified\n",
    "\n",
    "cookies看一下，了解\n",
    "\n",
    "Web caches\n",
    "提高Web系统性能\n",
    "- 代理服务器 local proxy\n",
    "- 反向代理 reverse proxy\n",
    "- CDN （content delivery network） 内容分发网络"
   ]
  }
 ],
 "metadata": {
  "kernelspec": {
   "display_name": "Python 3 (ipykernel)",
   "language": "python",
   "name": "python3"
  },
  "language_info": {
   "codemirror_mode": {
    "name": "ipython",
    "version": 3
   },
   "file_extension": ".py",
   "mimetype": "text/x-python",
   "name": "python",
   "nbconvert_exporter": "python",
   "pygments_lexer": "ipython3",
   "version": "3.12.4"
  },
  "widgets": {
   "application/vnd.jupyter.widget-state+json": {
    "state": {},
    "version_major": 2,
    "version_minor": 0
   }
  }
 },
 "nbformat": 4,
 "nbformat_minor": 5
}
