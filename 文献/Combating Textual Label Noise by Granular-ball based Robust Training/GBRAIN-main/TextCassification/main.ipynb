{
 "cells": [
  {
   "cell_type": "code",
   "execution_count": 2,
   "id": "2c88f751-1579-4d7c-a704-a97dca665b2d",
   "metadata": {
    "execution": {
     "iopub.execute_input": "2024-08-15T09:02:42.564682Z",
     "iopub.status.busy": "2024-08-15T09:02:42.563682Z",
     "iopub.status.idle": "2024-08-15T09:03:10.218900Z",
     "shell.execute_reply": "2024-08-15T09:03:10.217498Z",
     "shell.execute_reply.started": "2024-08-15T09:02:42.564682Z"
    }
   },
   "outputs": [
    {
     "name": "stderr",
     "output_type": "stream",
     "text": [
      "usage: ipykernel_launcher.py [-h]\n",
      "                             [--data_type {imdb,newsgroups,reuters,webkb,cade,dbpedia,agnews,yahoo,sogou,yelp,amazon}]\n",
      "                             [--fine_grained] [--text_length TEXT_LENGTH]\n",
      "                             [--print_intervals PRINT_INTERVALS]\n",
      "                             [--routing_type {k_means,dynamic}]\n",
      "                             [--loss_type {margin,focal,GCE,cross,mf,mc,fc,mfc}]\n",
      "                             [--embedding_type {cwc,cc,normal}]\n",
      "                             [--classifier_type {capsule,linear}]\n",
      "                             [--embedding_size EMBEDDING_SIZE]\n",
      "                             [--num_codebook NUM_CODEBOOK]\n",
      "                             [--num_codeword NUM_CODEWORD]\n",
      "                             [--hidden_size HIDDEN_SIZE]\n",
      "                             [--in_length IN_LENGTH] [--out_length OUT_LENGTH]\n",
      "                             [--num_iterations NUM_ITERATIONS]\n",
      "                             [--num_repeat NUM_REPEAT] [--drop_out DROP_OUT]\n",
      "                             [--round ROUND] [--purity PURITY]\n",
      "                             [--recluster RECLUSTER] [--drop_ball DROP_BALL]\n",
      "                             [--noise_p NOISE_P] [--min_ball MIN_BALL]\n",
      "                             [--chunk_ball CHUNK_BALL]\n",
      "                             [--batch_size BATCH_SIZE]\n",
      "                             [--num_epochs NUM_EPOCHS] [--num_steps NUM_STEPS]\n",
      "                             [--pre_model PRE_MODEL]\n",
      "ipykernel_launcher.py: error: unrecognized arguments: -f C:\\Users\\王晨盛\\AppData\\Roaming\\jupyter\\runtime\\kernel-ba99c285-3927-4fb0-8c7b-a6f97e7ff75c.json\n"
     ]
    },
    {
     "ename": "SystemExit",
     "evalue": "2",
     "output_type": "error",
     "traceback": [
      "An exception has occurred, use %tb to see the full traceback.\n",
      "\u001b[1;31mSystemExit\u001b[0m\u001b[1;31m:\u001b[0m 2\n"
     ]
    }
   ],
   "source": [
    "import os\n",
    "os.environ[\"CUDA_VISIBLE_DEVICES\"] = '0'\n",
    "import warnings\n",
    "warnings.filterwarnings(\"ignore\")\n",
    "from torch.utils.tensorboard import SummaryWriter\n",
    "\n",
    "from config.py import opt\n",
    "import random\n",
    "import torch.nn.functional as F  \n",
    "#from visdom import Visdom\n",
    "import pandas as pd\n",
    "import torch\n",
    "import torch.backends.cudnn as cudnn\n",
    "\n",
    "from loss_2 import *\n",
    "from MyDataset import *\n",
    "import torch\n",
    "import numpy as np\n",
    "\n",
    "from torch.nn import CrossEntropyLoss\n",
    "from torch.optim import Adam\n",
    "from torch.optim.lr_scheduler import MultiStepLR\n",
    "from torch.utils.data import DataLoader\n",
    "\n",
    "from torchnlp.samplers import BucketBatchSampler\n",
    "\n",
    "from model import Model\n",
    "from utils import load_data, MarginLoss, collate_fn, FocalLoss ,loadGloveModel,create_embeddings_matrix\n",
    "import time\n",
    "\n",
    "print('gpu数量:',torch.cuda.device_count())\n",
    "\n",
    "cpu_device = torch.device(\"cpu\")\n",
    "device = torch.device(\"cuda\" if torch.cuda.is_available() else \"cpu\")\n"
   ]
  },
  {
   "cell_type": "code",
   "execution_count": null,
   "id": "eaf995ce-3a33-4ecb-a5ec-cb8ff78c7096",
   "metadata": {},
   "outputs": [],
   "source": []
  },
  {
   "cell_type": "code",
   "execution_count": null,
   "id": "7d4113a3-72fb-43ef-827a-989cdf973e93",
   "metadata": {},
   "outputs": [],
   "source": []
  }
 ],
 "metadata": {
  "kernelspec": {
   "display_name": "Python 3 (ipykernel)",
   "language": "python",
   "name": "python3"
  },
  "language_info": {
   "codemirror_mode": {
    "name": "ipython",
    "version": 3
   },
   "file_extension": ".py",
   "mimetype": "text/x-python",
   "name": "python",
   "nbconvert_exporter": "python",
   "pygments_lexer": "ipython3",
   "version": "3.11.5"
  },
  "widgets": {
   "application/vnd.jupyter.widget-state+json": {
    "state": {},
    "version_major": 2,
    "version_minor": 0
   }
  }
 },
 "nbformat": 4,
 "nbformat_minor": 5
}
