{
 "cells": [
  {
   "cell_type": "markdown",
   "id": "4ed64aed-49b7-45ae-afdd-5552e5da229f",
   "metadata": {},
   "source": [
    "### **两个明显问题** : ###\n",
    "***1. 如何在标签噪声下提高文本表示学习的准确性***\n",
    "<BR>\n",
    "***2. 如何保证深度神经网络模型的可扩展性, 以有效处理有大量标签噪声的大数据集***\n",
    "\n",
    "$\\ GB_{RAIN}\\ $由三部分组成 : \n",
    "1. 标记的数据输入文本编码器 , 映射为高位特征向量\n",
    "2. 粒球聚类层适应性地对相似特征向量进行聚类，形成有相似上下文的特征球，并生成每个特征球的中心向量和标签\n",
    "3. 将所有粒球的中心向量和标记视为粗表示的实例和标记，用于训练神经网络\n",
    "<BR>\n",
    "### **主要贡献** ###\n",
    "1. 提出了一种有效的高维向量颗粒球聚类算法，该算法可以嵌入到不同的深度神经网络模型中，在保持数据特征的前提下对相似文本进行聚类\n",
    "2. 提出了一个基于粗粒度表示的鲁棒训练框架，以帮助$\\ DNN\\ $模型对抗$\\ NLP\\ $中的标签噪声\n",
    "3. 对流行的NLP任务的广泛评估表明，比现有的工作有更好的鲁棒性\n"
   ]
  },
  {
   "cell_type": "markdown",
   "id": "e5b83e70-c3f9-40f6-83cf-761fafc06431",
   "metadata": {},
   "source": [
    "**输入** : 带标签噪声的训练集\n",
    "<BR><BR>\n",
    "每个样本是一个带（不一定正确）标签的句子 ，输入文本由编码器（一个表示网络）处理 ， 映射成高维表示空间的特征向量 ， 然后粒球计算层基于特征向量把相近的输入进行聚类 ， 构建多粒度语料库（ 即粒球 ）。所有样本基于粒球重新表示其表现和标签 ， 保留数据特征同时纠正标签噪声 。 重新表示的实例输入分类器 ， 根据输出概率分布来预测标签 。 根据预测和重新表示的标签计算损失值 ， 损失值反映了模型在训练数据上的性能。"
   ]
  },
  {
   "cell_type": "markdown",
   "id": "d0e9e0dd-70ae-43df-a85f-e0ba0ab99c3f",
   "metadata": {},
   "source": [
    "### **用粒球重新表示输入** ###\n",
    "用粗粒度表示学习重新表示输入"
   ]
  },
  {
   "cell_type": "markdown",
   "id": "eaeb5187-98bd-4c91-aaba-14f9d8f8ac73",
   "metadata": {},
   "source": [
    "### **粒球定义** ###\n",
    "$\\text{对于一批样本}\\ \\mathcal{D}\\ =\\ \\left\\{\\ (\\ x_1\\ ,\\ y_1\\ )\\ ,\\ (\\ x_2\\ ,\\ y_2\\ )\\ ,\\ \\dots\\ ,\\ (\\ x_{sm}\\ ,\\ y_{sm}\\ )\\ \\right\\}\\ ,\\ x_i\\ \\text{为样本特征向量}\\ ,\\ y_i\\ \\text{为样本标签}\\ ,\\ $\n",
    "<BR>\n",
    "$$\n",
    "Granular Ball\\ =\\ \\left\\{\\ (\\ x_{s1}\\ ,\\ y_{s1}\\ )\\ ,\\ (\\ x_{s2}\\ ,\\ y_{s2}\\ )\\ ,\\ \\dots\\ ,\\ (\\ x_{sm}\\ ,\\ y_{sm}\\ )\\ \\right\\}\\\\ \n",
    "$$\n",
    "$$\n",
    "Y_{GB}\\ =\\ \\arg\\underset{p}{\\max}\\left(\\ \\frac{count(\\ y_{si})\\ =\\ p}{m}\\right)\n",
    "$$\n",
    "$$\n",
    "C_{GB}\\ =\\ \\frac{1}{N}\\overset{N}{\\underset{i=1}{\\sum}}x_{si}\n",
    "$$\n",
    "$\\text{其中}\\ ,\\ (\\ x_{si}\\ ,\\ y_{si}\\ )\\ \\in\\ \\mathcal{D}\\ \\text{也就是说}\\ ,\\ Granular Ball \\subseteq\\ \\mathcal{D}\\ ,\\ m\\ \\text{为粒球大小}$"
   ]
  }
 ],
 "metadata": {
  "kernelspec": {
   "display_name": "Python 3 (ipykernel)",
   "language": "python",
   "name": "python3"
  },
  "language_info": {
   "codemirror_mode": {
    "name": "ipython",
    "version": 3
   },
   "file_extension": ".py",
   "mimetype": "text/x-python",
   "name": "python",
   "nbconvert_exporter": "python",
   "pygments_lexer": "ipython3",
   "version": "3.11.5"
  },
  "widgets": {
   "application/vnd.jupyter.widget-state+json": {
    "state": {},
    "version_major": 2,
    "version_minor": 0
   }
  }
 },
 "nbformat": 4,
 "nbformat_minor": 5
}
