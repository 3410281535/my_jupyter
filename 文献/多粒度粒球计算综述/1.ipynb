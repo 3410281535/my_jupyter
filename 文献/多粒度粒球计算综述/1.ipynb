{
 "cells": [
  {
   "cell_type": "markdown",
   "id": "55365755-cae5-4dbd-bf35-2a52166933f8",
   "metadata": {},
   "source": [
    "希望设计出更加彻底的多粒度分类器（如图1(b)）\n",
    "1. 不同于简单的数据前期预处理，而是一种**生成方式高效的、 尽量不依赖学习的、 自适应的数据表示**；\n",
    "2. 学习模式为**多粒度学习模式**，基于大范围首先的多粒度认知机制来同时面向高效性、鲁棒性和可解释性；\n",
    "3. 具体地，使用**多粒度粒球**进行多粒度表示，并基于粒球进行计算学习。\n",
    "<figure>\n",
    "  <img src=\"./img/1.png\" alt=\"图1\">\n",
    "  <figcaption style=\"text-align: center;\">图1</figcaption>\n",
    "</figure>\n",
    "\n",
    "\n",
    "使用粒球进行多粒度特征表示的基本方法的**原因**：球体几何形状完全对称，在任何维度空间下都具有最简洁的、统一的数学模型表达形式，\n",
    "即\n",
    "$$\n",
    "\\{\\ x\\ \\mid\\ (\\ x\\ -\\ c\\ )^d\\ \\leq\\ r^d\\ \\}\n",
    "$$\n",
    "其中,x:粒球内样本， c:粒球的中心, r: 粒球的半径\n",
    "任何维度下都只需要两个数据来表征 ：中心 **c** 和半径 **r**"
   ]
  },
  {
   "cell_type": "markdown",
   "id": "133f51e4-7ac9-45ae-a67e-5b94590d7933",
   "metadata": {},
   "source": [
    "多维度粒球计算标准模型：\n",
    "\\begin{equation}\n",
    "f(\\ x\\ ,\\ \\overset{\\textrightarrow}{\\alpha}\\ )\\ \\textrightarrow\\ g(\\ GB\\ ,\\ \\overset{\\textrightarrow}{\\beta})\n",
    "\\end{equation}\n",
    "\n",
    "\\begin{equation}\n",
    "s.\\ t.\\ \\ \\ \\ \\min\\ \\frac{n}{\\overset{k}{\\underset{i=1}{\\sum}}|\\ GB_i\\ |}\\ +\\ k\\ +\\ loss(\\ GB\\ )\n",
    "\\tag{1}\n",
    "\\end{equation}\n",
    "\n",
    "\\begin{equation}\n",
    "s.\\ t.\\ \\ \\ \\ quality(\\ GB_i\\ )\\ \\geq\\ T\n",
    "\\end{equation}\n",
    "- 约束条件第一项：粒球对样本覆盖程度的倒数\n",
    "- 约束条件第二项：粒球的数量\n",
    "- 约束条件第三项：在损失函数中控制粒球的质量\n",
    "- 粒球质量要达到阈值要求\n",
    "\n",
    "$f(\\ x\\ ,\\ \\overset{\\textrightarrow}{\\alpha})$表示现有的以点x为输入的学习模型，$\\overset{\\textrightarrow}{\\alpha}$为模型参数\n",
    "<BR>\n",
    "$g(\\ GB\\ ,\\ \\overset{\\textrightarrow}{\\beta})$表示以粒球 GB 为输入的粒球计算学习模型，$\\overset{\\textrightarrow}{\\beta}$为模型参数"
   ]
  },
  {
   "cell_type": "markdown",
   "id": "0079fb06-af7e-42c9-ab56-3297e4370188",
   "metadata": {},
   "source": [
    "粒球的生成方式\n",
    "1. 粒球的有序生成方式\n",
    "2. 粒球的分裂生成\n",
    "\n"
   ]
  }
 ],
 "metadata": {
  "kernelspec": {
   "display_name": "Python 3 (ipykernel)",
   "language": "python",
   "name": "python3"
  },
  "language_info": {
   "codemirror_mode": {
    "name": "ipython",
    "version": 3
   },
   "file_extension": ".py",
   "mimetype": "text/x-python",
   "name": "python",
   "nbconvert_exporter": "python",
   "pygments_lexer": "ipython3",
   "version": "3.12.4"
  }
 },
 "nbformat": 4,
 "nbformat_minor": 5
}
