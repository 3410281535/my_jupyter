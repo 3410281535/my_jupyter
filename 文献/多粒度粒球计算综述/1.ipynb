{
 "cells": [
  {
   "cell_type": "markdown",
   "id": "55365755-cae5-4dbd-bf35-2a52166933f8",
   "metadata": {},
   "source": [
    "希望设计出更加彻底的多粒度分类器（如图1(b)）\n",
    "1. 不同于简单的数据前期预处理，而是一种**生成方式高效的、 尽量不依赖学习的、 自适应的数据表示**；\n",
    "2. 学习模式为**多粒度学习模式**，基于大范围首先的多粒度认知机制来同时面向高效性、鲁棒性和可解释性；\n",
    "3. 具体地，使用**多粒度粒球**进行多粒度表示，并基于粒球进行计算学习。\n",
    "<figure>\n",
    "  <img src=\"./img/1.png\" alt=\"图1\">\n",
    "  <figcaption style=\"text-align: center;\">图1</figcaption>\n",
    "</figure>\n",
    "\n",
    "\n",
    "使用粒球进行多粒度特征表示的基本方法的**原因**：球体几何形状完全对称，在任何维度空间下都具有最简洁的、统一的数学模型表达形式，\n",
    "即\n",
    "$$\n",
    "\\{\\ x\\ \\mid\\ (\\ x\\ -\\ c\\ )^d\\ \\leq\\ r^d\\ \\}\n",
    "$$\n",
    "其中,x:粒球内样本， c:粒球的中心, r: 粒球的半径\n",
    "任何维度下都只需要两个数据来表征 ：中心 **c** 和半径 **r**"
   ]
  },
  {
   "cell_type": "markdown",
   "id": "133f51e4-7ac9-45ae-a67e-5b94590d7933",
   "metadata": {},
   "source": [
    "多维度粒球计算标准模型：\n",
    "\\begin{equation}\n",
    "f(\\ x\\ ,\\ \\overset{\\textrightarrow}{\\alpha}\\ )\\ \\textrightarrow\\ g(\\ GB\\ ,\\ \\overset{\\textrightarrow}{\\beta})\n",
    "\\end{equation}\n",
    "\n",
    "\\begin{equation}\n",
    "s.\\ t.\\ \\ \\ \\ \\min\\ \\frac{n}{\\overset{k}{\\underset{i=1}{\\sum}}|\\ GB_i\\ |}\\ +\\ k\\ +\\ loss(\\ GB\\ )\n",
    "\\tag{1}\n",
    "\\end{equation}\n",
    "\n",
    "\\begin{equation}\n",
    "s.\\ t.\\ \\ \\ \\ quality(\\ GB_i\\ )\\ \\geq\\ T\n",
    "\\end{equation}\n",
    "- 约束条件第一项：粒球对样本覆盖程度的倒数\n",
    "- 约束条件第二项：粒球的数量\n",
    "- 约束条件第三项：在损失函数中控制粒球的质量\n",
    "- 粒球质量要达到阈值要求\n",
    "\n",
    "$f(\\ x\\ ,\\ \\overset{\\textrightarrow}{\\alpha})$表示现有的以点x为输入的学习模型，$\\overset{\\textrightarrow}{\\alpha}$为模型参数\n",
    "<BR>\n",
    "$g(\\ GB\\ ,\\ \\overset{\\textrightarrow}{\\beta})$表示以粒球 GB 为输入的粒球计算学习模型，$\\overset{\\textrightarrow}{\\beta}$为模型参数"
   ]
  },
  {
   "cell_type": "markdown",
   "id": "0023847c-c27d-4745-bc7a-69c146ea9ed7",
   "metadata": {},
   "source": [
    "基本理论\n",
    "1. 粒球粗糙集\n",
    "2. 粒球分类器\n",
    "3. 粒球神经网络\n",
    "4. 粒球演化计算\n",
    "5. 粒球模糊集\n",
    "<BR><BR><BR><BR>"
   ]
  },
  {
   "cell_type": "markdown",
   "id": "e5d0aad1-9fc7-49df-a3f8-2c3a7e05ed5d",
   "metadata": {},
   "source": [
    "#### 粒球分类模型与方法 ####"
   ]
  },
  {
   "cell_type": "markdown",
   "id": "0079fb06-af7e-42c9-ab56-3297e4370188",
   "metadata": {},
   "source": [
    "粒球分类学习包含两个方面\n",
    "1. 约束中描述的粒球生成\n",
    "2. 基于粒球输入的计算模型\n",
    "<BR><BR>\n",
    "\n",
    "粒球的生成方式\n",
    "1. 粒球的有序生成方式\n",
    "2. 粒球的分裂生成（使用相对多）\n",
    "<BR><BR>\n",
    "\n",
    "分裂生成的初始粒球：<BR>\n",
    "整体数据作为一个粒球$\\ \\textrightarrow\\ $k-means（随机选初始点）$\\ \\textrightarrow\\ $基于划分的方法（？）$\\ \\textrightarrow\\ $将粒球中不同类别中心点作为初始点"
   ]
  },
  {
   "cell_type": "markdown",
   "id": "32e375f9-3906-4e9c-827f-24ba0242961e",
   "metadata": {},
   "source": [
    "约束模型(1)的设计原因，衡量粒球的覆盖效果的因素：\n",
    "1. 覆盖程度\n",
    "    - 覆盖程度$\\textuparrow$：丢失样本信息$\\textdownarrow$，刻画准确度$\\textuparrow$\n",
    "2. 粒球数量\n",
    "    - 粒球数量$\\textdownarrow$：粒球粗细$\\textuparrow$，粒球计算效率$\\textuparrow$，鲁棒性$\\textuparrow$\n",
    "3. 粒球损失（由loss(GB)衡量）\n",
    "4. 粒球质量（由quality(GB)衡量）\n",
    "<BR><BR>\n",
    "\n",
    "粒球计算**核心思想**：使用超球体（部分）覆盖样本空间\n",
    "<BR><BR><BR><BR>"
   ]
  },
  {
   "cell_type": "markdown",
   "id": "37499c27-872b-4050-99f8-76cdce0e0483",
   "metadata": {},
   "source": [
    "#### 粒球支持向量机 ####"
   ]
  },
  {
   "cell_type": "markdown",
   "id": "9ffd86d9-696f-4849-8878-b262e05c3fd6",
   "metadata": {},
   "source": [
    "<figure>\n",
    "  <img src=\"./img/2.png\" alt=\"图2\">\n",
    "  <figcaption style=\"text-align: center;\">图2</figcaption>\n",
    "</figure>\n",
    "<BR>\n",
    "\n",
    "传统SVM和粒球SVM的对比\n",
    "- 传统SVM训练的是点，支持平面由支持向量决定\n",
    "- 粒球SVM训练的是球，支持平面由支持球构成\n",
    "- 粒球SVM中，任意粒球的中心店到支持平面的距离$\\ \\textgreater\\ $该粒球的半径"
   ]
  },
  {
   "cell_type": "markdown",
   "id": "5d8ff6b3-f974-4108-885b-2b87e6786358",
   "metadata": {},
   "source": [
    "两个支持平面表达式：<BR>\n",
    "$$\n",
    "l_1^{'}\\ :\\ \\frac{\\omega}{||\\omega||}\\ \\cdot\\ (c_i\\ -\\ x)\\ \\geq\\ r_i,\\ y_i\\ =\\ +1\n",
    "$$\n",
    "$$\n",
    "\\tag{2}\n",
    "$$\n",
    "$$\n",
    "l_2^{'}\\ :\\ \\frac{\\omega}{||\\omega||}\\ \\cdot\\ (c_i\\ -\\ x)\\ \\leq\\ -r_i,\\ y_i\\ =\\ -1\n",
    "$$\n",
    "其中， $\\ \\omega\\ $为决策边界的法向量，用于确定决策边界的方向\n",
    "<BR><BR>\n",
    "\n",
    "计算两支持平面间的距离，优化目标最大化，转化为凸优化问题$\\ \\rightarrow\\ $粒球SVM的原始模型\n",
    "$$\n",
    "\\underset{\\omega,b}{\\min}\\ \\ \\frac{1}{2}\\ ||\\ \\omega\\ ||^2\n",
    "$$\n",
    "$$\n",
    "\\tag{3}\n",
    "$$\n",
    "$$\n",
    "s\\ .\\ t\\ .\\ \\ y_i(\\ \\omega\\ \\cdot\\ +\\ b\\ )\\ -\\ ||\\ \\omega\\ ||\\ r_i\\ \\geq\\ 1,\\ i\\ =\\ 1,\\ 2,\\ \\dots\n",
    "$$"
   ]
  },
  {
   "cell_type": "markdown",
   "id": "cedad812-156a-4cd5-a103-8f63c0766be0",
   "metadata": {},
   "source": []
  }
 ],
 "metadata": {
  "kernelspec": {
   "display_name": "Python 3 (ipykernel)",
   "language": "python",
   "name": "python3"
  },
  "language_info": {
   "codemirror_mode": {
    "name": "ipython",
    "version": 3
   },
   "file_extension": ".py",
   "mimetype": "text/x-python",
   "name": "python",
   "nbconvert_exporter": "python",
   "pygments_lexer": "ipython3",
   "version": "3.12.4"
  }
 },
 "nbformat": 4,
 "nbformat_minor": 5
}
