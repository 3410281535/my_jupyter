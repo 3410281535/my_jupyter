{
 "cells": [
  {
   "cell_type": "markdown",
   "id": "8b81003d-05d3-4327-8740-55aa5e5720ca",
   "metadata": {},
   "source": [
    "**持有期收益率** (**HPR** , holding-period-return )\n",
    "$$\n",
    "HPR\\ =\\ \\frac{期末每份价格\\ -\\ 期初价格\\ +\\ 现金股利}{期初价格}\\ =\\ \\frac{P_t\\ -\\ P_0\\ +\\ d_t}{P_0}\n",
    "$$\n",
    "$\n",
    "等价看待\\ :\\ \n",
    "期末每份价格\\ -\\ 期初价格\\ =\\ 资本利得\\ ,\\ 现金股利\\ =\\ 分红收益\n",
    "$\n",
    "<BR>\n",
    "$\n",
    "\\Rightarrow\n",
    "持有期收益率\\ =\\ 资本利得收益率\\ +\\ 股息收益率\n",
    "$"
   ]
  },
  {
   "cell_type": "markdown",
   "id": "21a32b3b-3714-4b3e-a230-e060a8f7552f",
   "metadata": {},
   "source": [
    "**风险溢价($\\ risk\\ premium\\ $)**$\\ =\\ $<u>预期</u>持有期收益率$\\ -\\ $无风险收益率$\\ =\\ E(\\ r_i\\ )\\ -\\ r_f$\n",
    "<BR>\n",
    "**超额收益($\\ excess\\ return\\ $)**$\\ =\\ $风险资产的<u>实际</u>收益率$\\ -\\ $实际无风险收益率$\\ =\\ r_i\\ -\\ r_f$\n",
    "<BR>\n",
    "$\\Rightarrow\\ $风险溢价是超额收益的期望值$\\ ,\\ $超额收益的标准差是其风险的测度\n",
    "<BR><BR>\n",
    "无风险收益率 : 钱投入无风险资产（短期国库券、货币市场基金、银行…）时的利率"
   ]
  },
  {
   "cell_type": "markdown",
   "id": "29ea8ec2-62ae-4276-9e7a-597591b18c51",
   "metadata": {},
   "source": [
    "**夏普比率**($\\ 收益波动性比率\\ $)\n",
    "$$\n",
    "夏普比率\\ =\\ \\frac{风险溢价}{超额收益率的标准差}\\ =\\ \\frac{E(\\ r_i\\ )\\ -\\ r_f}{\\sigma}\n",
    "$$"
   ]
  },
  {
   "cell_type": "markdown",
   "id": "124540dd-f84c-406c-af22-f6b2f79d689c",
   "metadata": {},
   "source": [
    "**投机** : 承担一定的风险并获取相应的报酬\n",
    "<BR>\n",
    "**赌博** : 为了一个不确定的结果下注$\\qquad\\qquad\\qquad\\qquad\\qquad$——区别在于 , 赌博没有“相应的报酬”\n",
    "<BR>\n",
    "$$\n",
    "\\text{赌博}\\overset{\\text{足够的风险溢价}}{\\Longrightarrow}\\text{投机}\n",
    "$$\n",
    "**公平博弈** : 风险溢价为 0 的风险投资\n",
    "<BR>"
   ]
  },
  {
   "cell_type": "markdown",
   "id": "481ad311-5d7d-406d-8a20-a161e8b58035",
   "metadata": {},
   "source": [
    "**效用函数**\n",
    "$$\n",
    "\\ U\\ =\\ E(\\ r\\ )\\ -\\ \\frac{1}{2}A\\sigma^2\n",
    "$$\n",
    "**U** : 效用值$\\ ,\\qquad$  **A** : 投资者的风险厌恶系数$\\ ,\\qquad\\boldsymbol\\sigma^2$ : 方差 , 用于表示风险大小\n",
    "$\\qquad( \\frac{1}{2}\\text{是一个约定俗成的数值}\\ ,\\ 使用时\\ ,\\ 收益率\\ E(\\ r\\ )\\ 必须用小数形式而不是百分数形式\\qquad A\\ =\\ 3\\ :\\ 市场平均水平$ )"
   ]
  },
  {
   "cell_type": "markdown",
   "id": "9d93e569-8c28-4b2c-bbd8-3860361fdfa8",
   "metadata": {},
   "source": [
    "**风险厌恶** **(A ＞ 0)** 的投资者会放弃公平赌局和更差的投资 , 更愿意考虑无风险资产和有正风险溢价的投资品\n",
    "<BR>\n",
    "**风险中性** **(A = 0)** 的投资者只根据风险资产的期望收益率来判断收益预期$\\ ,\\ $风险高低对其无关$\\ ,\\ $即对风险要求的补偿为 0 \n",
    "<BR>\n",
    "**风险偏好者** **(A ＜ 0)** 更愿意参加公平博弈或其他赌博$\\ ,\\ $将风险考虑在内后提高了其效用水平$\\ ,\\ $更愿意参加公平博弈$\\ ,\\ $因为公平博弈的确定等价收益率高于无风险收益率"
   ]
  },
  {
   "cell_type": "code",
   "execution_count": 5,
   "id": "2e104b61-77e7-4c94-96e0-73448e39c5c9",
   "metadata": {
    "execution": {
     "iopub.execute_input": "2024-08-14T09:59:23.808374Z",
     "iopub.status.busy": "2024-08-14T09:59:23.807373Z",
     "iopub.status.idle": "2024-08-14T09:59:24.010871Z",
     "shell.execute_reply": "2024-08-14T09:59:24.010871Z",
     "shell.execute_reply.started": "2024-08-14T09:59:23.808374Z"
    }
   },
   "outputs": [
    {
     "data": {
      "application/vnd.jupyter.widget-view+json": {
       "model_id": "188d9f35504f4ce08dd3d1de586e6032",
       "version_major": 2,
       "version_minor": 0
      },
      "text/plain": [
       "VBox(children=(FloatSlider(value=0.5, description='$\\\\sigma$ (Risk)', max=2.0), FloatSlider(value=1.0, descrip…"
      ]
     },
     "metadata": {},
     "output_type": "display_data"
    }
   ],
   "source": [
    "import numpy as np\n",
    "import matplotlib.pyplot as plt\n",
    "from ipywidgets import FloatSlider, HBox, Output, VBox\n",
    "from IPython.display import display\n",
    "\n",
    "# 定义效用函数\n",
    "def utility_function(E_r, sigma, A=5):\n",
    "    return E_r - 0.5 * A * sigma**2\n",
    "\n",
    "# 固定的效用水平\n",
    "A = 5\n",
    "U_fixed = utility_function(1, 0.5, A)  # 使用初始组合点 (sigma=0.5, E_r=1) 计算效用水平\n",
    "\n",
    "# 计算无差异曲线上的E_r值\n",
    "def calculate_E_r(sigma, A=5):\n",
    "    return U_fixed + 0.5 * A * sigma**2\n",
    "\n",
    "# 绘制无差异曲线以及当前点\n",
    "def plot_indifference_curve(sigma_current, E_r_current):\n",
    "    # 创建图形\n",
    "    plt.figure(figsize=(8, 6))\n",
    "    \n",
    "    # 设置sigma的范围\n",
    "    sigma_values = np.linspace(0, 2, 400)\n",
    "    E_r_values = calculate_E_r(sigma_values, A)\n",
    "    \n",
    "    # 绘制无差异曲线\n",
    "    plt.plot(sigma_values, E_r_values, label=f'Indifference Curve (A={A})', color='blue')\n",
    "    \n",
    "    # 绘制当前点\n",
    "    plt.scatter(sigma_current, E_r_current, color='red', zorder=5, label='Current Point')\n",
    "    \n",
    "    # 绘制虚线\n",
    "    plt.axhline(y=E_r_current, color='gray', linestyle='--')\n",
    "    plt.axvline(x=sigma_current, color='gray', linestyle='--')\n",
    "    \n",
    "    # 设置坐标轴范围和刻度\n",
    "    plt.xlim(0, 2.5)\n",
    "    plt.ylim(-0.5, 2.5)\n",
    "    \n",
    "    # 设置坐标轴标签和标题\n",
    "    plt.xlabel('$\\sigma$ (Risk)')\n",
    "    plt.ylabel('$E(r)$ (Expected Return)')\n",
    "    plt.title('Indifference Curve with Current Point')\n",
    "    \n",
    "    # 显示图例\n",
    "    plt.legend()\n",
    "    \n",
    "    # 显示网格\n",
    "    plt.grid(True)\n",
    "    \n",
    "    # 展示图形\n",
    "    plt.show()\n",
    "\n",
    "# 定义更新函数\n",
    "def update_plot(sigma_current, E_r_current, variable):\n",
    "    if variable == 'E_r':\n",
    "        # 当E_r变化时，根据E_r计算sigma\n",
    "        sigma_current = np.sqrt(2 * (E_r_current - U_fixed) / A)\n",
    "    else:\n",
    "        # 当sigma变化时，根据sigma计算E_r\n",
    "        E_r_current = calculate_E_r(sigma_current, A)\n",
    "    \n",
    "    # 清空当前输出\n",
    "    out.clear_output(wait=True)\n",
    "    with out:\n",
    "        plot_indifference_curve(sigma_current, E_r_current)\n",
    "\n",
    "# 创建控件\n",
    "sigma_slider = FloatSlider(min=0, max=2, value=0.5, description='$\\sigma$ (Risk)', orientation='horizontal')\n",
    "E_r_slider = FloatSlider(min=-0.5, max=2, value=1, description='$E(r)$ (Expected Return)', orientation='horizontal')\n",
    "\n",
    "# 创建输出区域\n",
    "out = Output()\n",
    "\n",
    "# 显示控件和输出\n",
    "display(VBox([sigma_slider, E_r_slider, out]))\n",
    "\n",
    "# 绑定控件的变化\n",
    "def on_sigma_change(change):\n",
    "    update_plot(sigma_slider.value, E_r_slider.value, 'sigma')\n",
    "\n",
    "def on_E_r_change(change):\n",
    "    update_plot(sigma_slider.value, E_r_slider.value, 'E_r')\n",
    "\n",
    "sigma_slider.observe(on_sigma_change, names='value')\n",
    "E_r_slider.observe(on_E_r_change, names='value')\n",
    "\n",
    "# 初次绘制图形\n",
    "update_plot(sigma_slider.value, E_r_slider.value, 'sigma')"
   ]
  }
 ],
 "metadata": {
  "kernelspec": {
   "display_name": "Python 3 (ipykernel)",
   "language": "python",
   "name": "python3"
  },
  "language_info": {
   "codemirror_mode": {
    "name": "ipython",
    "version": 3
   },
   "file_extension": ".py",
   "mimetype": "text/x-python",
   "name": "python",
   "nbconvert_exporter": "python",
   "pygments_lexer": "ipython3",
   "version": "3.11.5"
  },
  "widgets": {
   "application/vnd.jupyter.widget-state+json": {
    "state": {},
    "version_major": 2,
    "version_minor": 0
   }
  }
 },
 "nbformat": 4,
 "nbformat_minor": 5
}
