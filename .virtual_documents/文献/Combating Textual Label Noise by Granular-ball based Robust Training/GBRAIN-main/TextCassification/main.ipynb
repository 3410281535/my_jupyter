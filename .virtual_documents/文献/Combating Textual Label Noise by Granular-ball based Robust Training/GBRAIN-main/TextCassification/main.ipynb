import os
os.environ["CUDA_VISIBLE_DEVICES"] = '0'
import warnings
warnings.filterwarnings("ignore")
from torch.utils.tensorboard import SummaryWriter
from config.py import opt  # config.py 文件中导入已经定义的 opt 对象



import random
import torch.nn.functional as F  
#from visdom import Visdom
import pandas as pd
import torch
import torch.backends.cudnn as cudnn




from loss_2 import *
from MyDataset import *
import torch
import numpy as np

from torch.nn import CrossEntropyLoss
from torch.optim import Adam
from torch.optim.lr_scheduler import MultiStepLR
from torch.utils.data import DataLoader

from torchnlp.samplers import BucketBatchSampler

from model import Model
from utils import load_data, MarginLoss, collate_fn, FocalLoss ,loadGloveModel,create_embeddings_matrix
import time

print('gpu数量:',torch.cuda.device_count())

cpu_device = torch.device("cpu")
device = torch.device("cuda" if torch.cuda.is_available() else "cpu")







