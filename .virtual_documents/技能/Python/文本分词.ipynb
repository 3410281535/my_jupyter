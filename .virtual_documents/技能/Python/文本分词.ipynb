data = input().split()
n = int(data[0])
m = int(data[1])
print("n:", n, "m:", m)


string = []
times = []

for i in range(n):
    data = input().split()
    string.append(data[0])
    times.append(int(data[1]))


dict1 = {}
di = []
max_times = 0
max_words = []
for i in range(n):
    for j in range(len(string[i])):
        if string[i][j] in dict1:
            dict1[string[i][j]] += 1
        else:
            dict1[string[i][j]] = 1
            di.append(string[i][j])

di.sort(key= lambda x:x)
dict = {}
for i in di:
    dict[i] = dict1[i]

print(di)


def split_string(string, di):
    di.reverse()
    splited_result = []
    for d in di:
        new_string = []
        for i in range(n):
            splited_string = string[i].split(d)
            new_string.extend(splited_string)
        string = new_string
    return string




splited_result = split_string(string, di)
print(splited_result)


def merge(n, di, dict):
    di = di.reverse()
    for d in di:
        for i in range(n):
            if d in string[i]:
                if d in dict:
                    dict[d] += string[i].count(d)
                else:
                    dict[d] = string[i].count(d)


dict1 = {}
for i in range(n):
    for j in range(len(string[i]) - 1):
        word_tuple = (string[i][j], string[i][j + 1])
        if word_tuple in dict1:
            dict1[word_tuple] += times[i]
        else:
            dict1[word_tuple] = times[i]
        if dict1[word_tuple] > max_times:
            max_times = dict1[word_tuple]
            max_words = []
            max_words.append(word_tuple)
        elif max_times == dict1[word_tuple]:
            max_words.append(word_tuple)


if max_words:
    max_words.sort(key=lambda x: (len(x[0] + x[1]), len(x[0]), x[0], x[1]))

select_word = max_words[0]
print(select_word)
s = select_word[0] + select_word[1]
len_max = len(s)
dict[s] = max_times

print(dict)




