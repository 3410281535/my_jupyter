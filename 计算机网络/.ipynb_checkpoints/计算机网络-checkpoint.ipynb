{
 "cells": [
  {
   "cell_type": "markdown",
   "id": "3d2b222c-e3d9-47b3-b48a-f1eefec586c3",
   "metadata": {},
   "source": [
    "上到第五章\n",
    "闭卷考\n",
    "平时：签到3次 + 作业 8(9) 次, 课前评讲, 带红笔来。 作业只以有没有交计分。\n"
   ]
  },
  {
   "cell_type": "markdown",
   "id": "99dc7724-e2a1-4831-945f-bc0a29d4dd9c",
   "metadata": {},
   "source": [
    "### 第一章 ###\n",
    "#### 1.1 what is Internet ####\n",
    "#### 1.2 network edge ####\n",
    "#### 1.3 network core ####\n",
    "#### 1.4 ####\n",
    "**重点 考计算题**\n",
    "#### 1.5 ####"
   ]
  },
  {
   "cell_type": "markdown",
   "id": "5fb4933b-6f62-4125-8a51-a8afb754cef3",
   "metadata": {},
   "source": [
    "1.1<BR>\n",
    "$\\bigotimes\\ \\text{router : 路由器}$<BR>\n",
    "$\\boxtimes\\ \\text{switch : 交换机}$<BR>\n",
    "RFC : request of comments, 互联网中所有跟通信有关的协议标准<BR>\n",
    "IETF : Internet Engineering Task Force, 互联网工程专家组<BR>\n",
    "protocol(协议)：就记两个词——format和order，格式和顺序<BR>\n",
    "client : 客户端$\\qquad$SVR : 服务器<BR>\n"
   ]
  },
  {
   "cell_type": "markdown",
   "id": "f5598b48-b732-4d64-93aa-e00c67770c39",
   "metadata": {},
   "source": [
    "1.2<BR>\n",
    "互联网核心部分是<u>路由器网络</u><BR>\n",
    "\n",
    "常记两个问题：\n",
    "- bandwidth of access network?\n",
    "- shared or dedicated?\n",
    "带宽 : 将计算机中的0和1数据转换成对应的信号的转换速度<BR>\n",
    "一条链路的传输率/容量/带宽\n",
    "$$\n",
    "transmission\\ \\ delay(传输延迟)\\ =\\ \\frac{L(bits)}{R(bits/sec)}\n",
    "$$\n",
    "fiber optic fiber : 光纤"
   ]
  },
  {
   "cell_type": "markdown",
   "id": "08fa3b95-0cf5-4162-82c1-0f8a35714921",
   "metadata": {
    "execution": {
     "iopub.execute_input": "2024-09-02T07:46:18.803530Z",
     "iopub.status.busy": "2024-09-02T07:46:18.803530Z",
     "iopub.status.idle": "2024-09-02T07:46:18.835520Z",
     "shell.execute_reply": "2024-09-02T07:46:18.835014Z",
     "shell.execute_reply.started": "2024-09-02T07:46:18.803530Z"
    }
   },
   "source": [
    "1.3<BR>\n",
    "互联网中的数据传输有两种方式:\n",
    "- 包交换(packet switch)\n",
    "- 电路交换(circuit switch)\n",
    "\n",
    "d:delay<BR>\n",
    "nodal  : 节点\n",
    "$$\n",
    "d_nodal\\ =\\ d_{proc}\\ +\\ d_{queue}\\ +\\ d_{trans}\\ +\\ d_{prop}\n",
    "$$\n",
    "$d_{proc}\\ :\\ nodal\\ processing 节点处理$<BR>\n",
    "$d_{queue}\\ :\\ queueing\\ delay 排队延迟$"
   ]
  }
 ],
 "metadata": {
  "kernelspec": {
   "display_name": "Python 3 (ipykernel)",
   "language": "python",
   "name": "python3"
  },
  "language_info": {
   "codemirror_mode": {
    "name": "ipython",
    "version": 3
   },
   "file_extension": ".py",
   "mimetype": "text/x-python",
   "name": "python",
   "nbconvert_exporter": "python",
   "pygments_lexer": "ipython3",
   "version": "3.11.5"
  },
  "widgets": {
   "application/vnd.jupyter.widget-state+json": {
    "state": {},
    "version_major": 2,
    "version_minor": 0
   }
  }
 },
 "nbformat": 4,
 "nbformat_minor": 5
}
