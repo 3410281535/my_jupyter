{
 "cells": [
  {
   "cell_type": "markdown",
   "id": "72109d7b-1cbc-4531-8b88-711be04b210b",
   "metadata": {},
   "source": [
    "### 可以转化为线性规划的问题 ### \n",
    "$min \\quad|x_1| + |x_2| + … + |x_n|$<br><br>\n",
    "$s.t. \\quad\\quad\\quad Ax\\quad\\textless\\quad b$<br><br>\n",
    "$x = [x_1 \\quad … \\quad x_n]^T$, A和b为相应维数矩阵和向量。 \n",
    "-\n",
    "- $\\Large\\text{注意到：}$<br>\n",
    "$\n",
    "\\Large\\quad\\text{对任意 }x_i\\text{ ,存在 }u_i\\text{ ,  }v_i\\text{ }\\textgreater \\text{ 0 , 满足 ：}\n",
    "$<br>\n",
    "\n",
    "$$\n",
    "\\Large\n",
    "\\begin{cases}\n",
    "\\ x_i\\ \\ \\ \\ \\text{=}\\ \\ \\ u_i\\ \\ -\\ \\ v_i\\\\\n",
    "|x_i|\\ \\ =\\ \\ u_i\\ \\ +\\ \\ v_i\n",
    "\\end{cases}\n",
    "$$\n",
    "\n",
    "$\n",
    "\\Large\\text{事实上， 取}\\ u\\ \\ =\\ \\ \\frac{x_i\\ \\ +\\ \\ |x_i|}{2}\\ \\text{,}\\ v_i\\ \\ =\\ \\ \\frac{x_i\\ \\ -\\ \\ |x_i|}{2}\\ \\ \\text{即可满足。}\n",
    "$<br><br>\n",
    "\n",
    "$\n",
    "\\Large\\text{记}\\ \\ u\\ \\ =\\ \\ [\\ u_1\\ \\ …\\ \\ u_n\\ ]^T\\ \\ ,\\ \\ v\\ \\ =\\ \\ [\\ v_1\\ \\ …\\ \\ v_n\\ ]^T\\ \\ ,\\ \\ \\text{把问题转化成：}\n",
    "$<br><br>\n",
    "$$\n",
    "\\Large\n",
    "\\text{ min }\\overset{n}{\\underset{i = 1}{\\Sigma}}\\ (\\ u_i\\ \\ +\\ \\ v_i\\ )\n",
    "$$\n",
    "$$\n",
    "\\Large s\\ .\\ t\\ .\\ \\ \n",
    "\\begin{cases}\n",
    "\\Large\n",
    "A\\ (\\ u\\ \\ -\\ \\ v\\ ) \\ \\ \\leq\\ \\ b\\\\\n",
    "\\Large\n",
    "u\\ \\ ,\\ \\ v\\ \\ \\geq\\ \\ 0\n",
    "\\end{cases}\n",
    "$$<br><br>\n",
    "$\n",
    "\\Large eg\\ .\n",
    "$<br><br>\n",
    "$\n",
    "\\Large \\underset{x_i}{\\min}\\ \\{\\underset{y_i}{\\max}\\ |\\ {\\varepsilon}_i\\ |\\}\\ \\ ,\\ \\ {\\varepsilon}_i\\ \\ =\\ \\ x_i\\ \\ -\\ \\ y_i\\ 。\n",
    "$<br><br>\n",
    "$\n",
    "\\Large\\text{取}\\ \\ x\\ \\ =\\ \\ \\underset{y_i}{\\max}\\ |\\ {\\varepsilon}_i\\ |\\ ,\\ \\ \\text{上式变为：}\n",
    "$<BR><BR>\n",
    "$$\n",
    "\\Large\\min\\ \\ x_0\n",
    "$$\n",
    "$$\n",
    "\\Large s\\ .\\ t\\ .\\ x_1\\ \\ -\\ y_1\\ \\ \\leq\\ \\ x_0\\ ,\\ \\ \\ …\\ \\ \\ ,\\ x_n\\ -\\ y_n\\ \\ \\leq\\ \\ x_0\n",
    "$$\n",
    "$\n",
    "\\Large\\text{变为常见线性规划问题。}\n",
    "$<BR><BR>"
   ]
  },
  {
   "cell_type": "code",
   "execution_count": null,
   "id": "1366aa20-1e05-44af-a962-d9afd80ef2d1",
   "metadata": {},
   "outputs": [],
   "source": []
  }
 ],
 "metadata": {
  "kernelspec": {
   "display_name": "Python 3 (ipykernel)",
   "language": "python",
   "name": "python3"
  },
  "language_info": {
   "codemirror_mode": {
    "name": "ipython",
    "version": 3
   },
   "file_extension": ".py",
   "mimetype": "text/x-python",
   "name": "python",
   "nbconvert_exporter": "python",
   "pygments_lexer": "ipython3",
   "version": "3.11.5"
  },
  "widgets": {
   "application/vnd.jupyter.widget-state+json": {
    "state": {},
    "version_major": 2,
    "version_minor": 0
   }
  }
 },
 "nbformat": 4,
 "nbformat_minor": 5
}
