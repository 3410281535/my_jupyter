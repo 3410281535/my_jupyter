{
 "cells": [
  {
   "cell_type": "markdown",
   "id": "bc3e8450-62f2-4f15-ba82-c97b05171b20",
   "metadata": {},
   "source": [
    "## 线性规划 *( Linear Programming, LP )*"
   ]
  },
  {
   "cell_type": "markdown",
   "id": "8827bfbf-9cf0-4549-9257-b5d9389bf815",
   "metadata": {
    "execution": {
     "iopub.execute_input": "2024-08-02T02:32:58.575949Z",
     "iopub.status.busy": "2024-08-02T02:32:58.574950Z",
     "iopub.status.idle": "2024-08-02T02:32:58.578724Z",
     "shell.execute_reply": "2024-08-02T02:32:58.578724Z",
     "shell.execute_reply.started": "2024-08-02T02:32:58.575949Z"
    }
   },
   "source": [
    "<p align=\"center\">\n",
    "    $$\n",
    "    \\text{一般线性规划标准型:}\n",
    "    $$\n",
    "    $$\n",
    "    \\displaystyle max \\text{ }Z = \\underset{j=1}{\\overset{n}{\\Sigma}} c_{j}x_{j}\\quad\\quad\\quad\\quad\\quad\\quad\\quad\\quad\\quad\\quad\\quad\\quad\\quad\\quad\\quad\\text{(1)}\\\\ \n",
    "    $$\n",
    "</p>\n",
    "<br>\n",
    "<p align=\"center\">\n",
    "  $$\n",
    "    \\text{s.t.}\n",
    "    \\begin{cases}\n",
    "    \\overset{n}{\\underset{j=1}{\\Sigma}} a_{ij}x_j = b_i\\quad\\text{,i = 1,2,…,m}\\\\\n",
    "    \\text{ }\\\\\n",
    "    \\quad\\quad\\quad\\quad\\quad\\quad\\quad\\quad\\quad\\quad\\quad\\quad\\quad\\quad\\quad\\quad\\quad\\quad\\quad\\quad\\text{(2)}\\\\\n",
    "    \\text{ }\\\\\n",
    "    x_j \\geq 0 \\quad\\text{,i = 1,2,…,n}\\\\\n",
    "  \\end{cases}\n",
    "  $$\n",
    "</p>"
   ]
  },
  {
   "cell_type": "markdown",
   "id": "aadf4510-2436-4fdf-85bf-46962e2e07c6",
   "metadata": {
    "jp-MarkdownHeadingCollapsed": true
   },
   "source": [
    "### 线性规划问题解的概念 ###\n",
    " 1. 可行解\n",
    "    - 满足(2)的解$x_i\\quad\\quad\\text{i=1,2,…,n}$\n",
    "    - 使(1)达到最大值的可行解——***最优解***\n",
    " 2. 可行域\n",
    "    - 所有可行解构成的集合，记为R\n",
    " 3. 图解法\n",
    "    \n",
    "    $\\quad$ 例1 某机床厂 生产甲、乙两种机床,每台销售后的利润分别为4000元与3000元。生产甲机床需用A、B机器加工，加工时间分别为每台2小时和1小时;生产乙机床需用A、B、C三种机器加工，加工时间为每台各一小时。 若每天可用于加工的机器时数分别为A机器10小时、B机器8小时和C机器7小时，问该厂应生产甲、乙机床各几台，才能使总利润最大?\n",
    "上述问题的数学模型:设该厂生产x台甲机床和x2乙机床时总利润最大，则x应满足：<br>\n",
    "$$\n",
    "    max\\text{ } Z = 4000x_1 + 3000x_2\\quad\\quad\\quad\\quad\\quad\\quad\\quad\\quad\\quad\\quad\\quad\\quad\\quad\\quad\\quad\\text{(1)}\\\\\n",
    "$$\n",
    "$$\n",
    "    \\text{约束条件}\n",
    "    \\begin{cases}\n",
    "        2x_1 + x_2 \\leq 10\\\\\n",
    "        \\\\\n",
    "        x_1 + x_2 \\leq 8\\\\\n",
    "        \\quad\\quad\\quad\\quad\\quad\\quad\\quad\\quad\\quad\\quad\\quad\\quad\\quad\\quad\\quad\\quad\\quad\\quad\\quad\\quad\\quad\\quad\\text{(2)}\\\\\n",
    "        x_2 \\leq 7\\\\\n",
    "        \\\\\n",
    "        x_1, x_2 \\geq 0\n",
    "    \\end{cases}\n",
    "$$\n",
    "    <img src=\"./image/9}N(0[A{35]ZMRM@4$F3197.png\" alt=\"示例图片\" width=\"600\"/>"
   ]
  },
  {
   "cell_type": "markdown",
   "id": "15d30476-ed9a-4289-b211-5b78d75e05e9",
   "metadata": {},
   "source": [
    "### 推广到多维空间： ###\n",
    "1. 可行域R可能为空集或非空集；非空时，R必为若干个半平面的交集（除非是<font color=\"green\">空间维数退化</font>）；R可能是有界区域也可能是无界区域。\n",
    "2. R非空时，线性规划可能有有限最优解，也可能无有限最优解（目标函数值无界）。\n",
    "3. 若线性规划存在有限最优解，则必可找到具有最优目标函数值的可行域R的顶点。\n",
    "\n",
    "$\\text{一般n维空间中，满足线性等式:}$<br>\n",
    "$\\quad\\quad\\quad\\quad\\quad\\quad\\quad\\quad$\n",
    "$\\overset{n}{\\underset{i=1}{\\Sigma}}\\text{ }a_ix_i = b$<br>\n",
    "的点集被称为一个**超平面**;<br><br>\n",
    "$\n",
    "\\overset{n}{\\underset{i=1}{\\Sigma}}\\text{ }a_ix_i \\leq\n",
    "$\n",
    "**<font size=1>$\\text{ (or}\\geq\\text{)}$</font>**\n",
    "b<br>的点集被称为一个半空间，其中$(a_1,a_2,…,a_n)$为一个n维行向量，b为一个实数。<br><br>\n",
    "若干个半空间的交集被称为**多胞形**，有界的多胞形被称为**多面体**   ————线性规划的可行域必为多胞形<br><br>\n",
    "空集$\\emptyset$也被视为多胞体。<br><br> \n"
   ]
  },
  {
   "cell_type": "markdown",
   "id": "6f6a2509-965a-461e-b452-09d6d68ca1e1",
   "metadata": {},
   "source": [
    "### 求解线性规划问题示例 ###\n",
    "- 用scipy.optimize.linprog 函数实现\n",
    "- eg:\n",
    "$$\n",
    "\\text{max }\\text{ }3x_1 + 4x_2\n",
    "$$\n",
    "$$\n",
    "\\begin{cases}\n",
    "2x_1 + 4x_2 \\leq 8\\\\\n",
    "\\\\\n",
    "x_1 + 2x_2 \\leq 6\\\\\n",
    "\\\\\n",
    "x_1 \\geq 0\\\\ \n",
    "\\\\\n",
    "x_2 \\geq 0\\\\\n",
    "\\end{cases}\n",
    "$$"
   ]
  },
  {
   "cell_type": "code",
   "execution_count": 23,
   "id": "d29986fc-2d74-4860-bbd7-d44ae0e9b72e",
   "metadata": {
    "execution": {
     "iopub.execute_input": "2024-08-02T08:44:39.127128Z",
     "iopub.status.busy": "2024-08-02T08:44:39.126129Z",
     "iopub.status.idle": "2024-08-02T08:44:39.132076Z",
     "shell.execute_reply": "2024-08-02T08:44:39.131570Z",
     "shell.execute_reply.started": "2024-08-02T08:44:39.126129Z"
    }
   },
   "outputs": [
    {
     "name": "stdout",
     "output_type": "stream",
     "text": [
      "最优解：x1 = 3.33, x2 = 1.33\n",
      "最大目标函数值：15.33\n"
     ]
    }
   ],
   "source": [
    "from scipy.optimize import linprog\n",
    "\n",
    "# 目标函数系数（注意 linprog 默认是最小化问题，所以目标函数系数要取负数）\n",
    "c = [-3, -4]  # 最大化 3x1 + 4x2 转换为最小化 -3x1 - 4x2\n",
    "\n",
    "# 约束矩阵（每一行表示一个约束）\n",
    "A = [\n",
    "    [2, 1],  # 2x1 + x2\n",
    "    [1, 2]   # x1 + 2x2\n",
    "]\n",
    "\n",
    "# 约束的右边界\n",
    "b = [8, 6]\n",
    "\n",
    "# 变量的范围（非负约束）\n",
    "x_bounds = (0, None)  # x1 和 x2 都是非负的\n",
    "\n",
    "# 求解线性规划问题\n",
    "result = linprog(c, A_ub=A, b_ub=b, bounds=[x_bounds, x_bounds], method='highs')\n",
    "\"\"\"\n",
    "A_ub:不等式约束矩阵\n",
    "b_ub:不等式约束右边界值\n",
    "x_bounds:决策变量取值范围\n",
    "method:算法\n",
    "\"\"\"\n",
    "# 结果输出\n",
    "if result.success:\n",
    "    x1_opt, x2_opt = result.x\n",
    "    max_value = -result.fun  # 目标函数值\n",
    "    print(f'最优解：x1 = {x1_opt:.2f}, x2 = {x2_opt:.2f}')\n",
    "    print(f'最大目标函数值：{max_value:.2f}')\n",
    "else:\n",
    "    print('线性规划问题没有解')"
   ]
  },
  {
   "cell_type": "code",
   "execution_count": 24,
   "id": "9c0c211b-5ae3-4e88-b9ed-a1fb0e538be2",
   "metadata": {
    "execution": {
     "iopub.execute_input": "2024-08-02T08:44:41.007387Z",
     "iopub.status.busy": "2024-08-02T08:44:41.007387Z",
     "iopub.status.idle": "2024-08-02T08:44:41.134563Z",
     "shell.execute_reply": "2024-08-02T08:44:41.134563Z",
     "shell.execute_reply.started": "2024-08-02T08:44:41.007387Z"
    }
   },
   "outputs": [
    {
     "data": {
      "image/png": "[encoded data removed]",
      "text/plain": [
       "<Figure size 400x550 with 1 Axes>"
      ]
     },
     "metadata": {},
     "output_type": "display_data"
    },
    {
     "name": "stdout",
     "output_type": "stream",
     "text": [
      "最大利润为: 26000.00 元\n",
      "生产甲机床数量: 2.00 台\n",
      "生产乙机床数量: 6.00 台\n"
     ]
    }
   ],
   "source": [
    "import numpy as np\n",
    "import matplotlib.pyplot as plt\n",
    "from matplotlib import rcParams\n",
    "from scipy.optimize import linprog\n",
    "\n",
    "# 设置支持中文的字体\n",
    "rcParams['font.sans-serif'] = ['SimHei']  # 或者使用 'Microsoft YaHei'\n",
    "rcParams['axes.unicode_minus'] = False    # 解决负号问题\n",
    "\n",
    "# 设置机器的加工限制\n",
    "A_time = 10  # A机器可用时间\n",
    "B_time = 8   # B机器可用时间\n",
    "C_time = 7   # C机器可用时间\n",
    "\n",
    "# 生产甲机床的时间\n",
    "time_x1 = 2  # 每台甲机床需要2小时\n",
    "# 生产乙机床的时间\n",
    "time_x2_A = 1  # 每台乙机床需要1小时（A）\n",
    "time_x2_B = 1  # 每台乙机床需要1小时（B）\n",
    "time_x2_C = 1  # 每台乙机床需要1小时（C）\n",
    "\n",
    "# 线性规划求解\n",
    "c = [-4000, -3000]  # 目标函数的系数（负号表示最大化问题转化为最小化问题）\n",
    "A = [\n",
    "    [2, 1],   # A机器的约束\n",
    "    [1, 1],   # B机器的约束\n",
    "    [0, 1]    # C机器的约束\n",
    "]\n",
    "b = [A_time, B_time, C_time]  # 约束的右边界\n",
    "\n",
    "# 变量的上下界\n",
    "x_bounds = (0, None)  # x1和x2的非负限制\n",
    "\n",
    "# 求解线性规划\n",
    "res = linprog(c, A_ub=A, b_ub=b, bounds=[x_bounds, x_bounds], method='highs')\n",
    "\n",
    "# 结果\n",
    "x1_opt, x2_opt = res.x\n",
    "max_profit = -res.fun\n",
    "\n",
    "# 创建x1（甲机床）和x2（乙机床）的范围\n",
    "x1_range = np.linspace(0, 8, 100)\n",
    "# 利润平行线（通过最优点）\n",
    "z = max_profit\n",
    "x2_line = (z - 4000 * x1_range) / 3000\n",
    "\n",
    "# 根据约束条件计算x2的限值\n",
    "x2_A_limit = (A_time - time_x1 * x1_range)    # A机器的限制\n",
    "x2_B_limit = (B_time - x1_range)               # B机器的限制\n",
    "x2_C_limit = C_time                           # C机器的限制\n",
    "\n",
    "# 创建图形\n",
    "plt.figure(figsize=(4, 5.5))\n",
    "\n",
    "# 绘制可行区域的限制\n",
    "plt.plot(x1_range, x2_A_limit, label=r'$2x_1 + x_2 \\leq 10$ (A机器)', color='blue')\n",
    "plt.plot(x1_range, x2_B_limit, label=r'$x_1 + x_2 \\leq 8$ (B机器)', color='green')\n",
    "plt.axhline(y=C_time, color='orange', label=r'$x_2 \\leq 7$ (C机器)', linestyle='--')\n",
    "\n",
    "# 设置x2的范围和绘制填充的可行区域\n",
    "x2_range = np.maximum(0, np.minimum(x2_A_limit, np.minimum(x2_B_limit, C_time)))\n",
    "plt.fill_between(x1_range, 0, x2_range, where=(x2_range > 0), interpolate=True, color='lightgrey', alpha=0.5)\n",
    "\n",
    "# 绘制最大利润点的利润平行线\n",
    "plt.plot(x1_range, x2_line, linestyle='--', label=f'利润 = {max_profit:.2f}', color='red')\n",
    "\n",
    "# 添加坐标轴和标题\n",
    "plt.xlim(0, 8)\n",
    "plt.ylim(0, 11)\n",
    "plt.xlabel(r'生产甲机床数量 $x_1$')\n",
    "plt.ylabel(r'生产乙机床数量 $x_2$')\n",
    "plt.title('机床生产的可行区域')\n",
    "plt.axhline(0, color='black', lw=0.8)\n",
    "plt.axvline(0, color='black', lw=0.8)\n",
    "\n",
    "# 设置坐标轴比例一致\n",
    "plt.gca().set_aspect('equal', adjustable='box')\n",
    "\n",
    "# 添加图例\n",
    "plt.legend()\n",
    "\n",
    "# 显示图形\n",
    "plt.grid()\n",
    "plt.show()\n",
    "\n",
    "# 输出结果\n",
    "print(f'最大利润为: {max_profit:.2f} 元')\n",
    "print(f'生产甲机床数量: {x1_opt:.2f} 台')\n",
    "print(f'生产乙机床数量: {x2_opt:.2f} 台')"
   ]
  }
 ],
 "metadata": {
  "kernelspec": {
   "display_name": "Python 3 (ipykernel)",
   "language": "python",
   "name": "python3"
  },
  "language_info": {
   "codemirror_mode": {
    "name": "ipython",
    "version": 3
   },
   "file_extension": ".py",
   "mimetype": "text/x-python",
   "name": "python",
   "nbconvert_exporter": "python",
   "pygments_lexer": "ipython3",
   "version": "3.11.5"
  },
  "widgets": {
   "application/vnd.jupyter.widget-state+json": {
    "state": {},
    "version_major": 2,
    "version_minor": 0
   }
  }
 },
 "nbformat": 4,
 "nbformat_minor": 5
}
