{
 "cells": [
  {
   "cell_type": "code",
   "execution_count": 1,
   "id": "0bfe330d-fc4a-4aa9-a443-6d2235a8b3bc",
   "metadata": {
    "execution": {
     "iopub.execute_input": "2024-09-21T09:26:05.745613Z",
     "iopub.status.busy": "2024-09-21T09:26:05.745613Z",
     "iopub.status.idle": "2024-09-21T09:26:08.861405Z",
     "shell.execute_reply": "2024-09-21T09:26:08.861405Z",
     "shell.execute_reply.started": "2024-09-21T09:26:05.745613Z"
    }
   },
   "outputs": [
    {
     "name": "stdin",
     "output_type": "stream",
     "text": [
      " 4 8\n"
     ]
    },
    {
     "name": "stdout",
     "output_type": "stream",
     "text": [
      "n: 4 m: 8\n"
     ]
    }
   ],
   "source": [
    "data = input().split()\n",
    "n = int(data[0])\n",
    "m = int(data[1])\n",
    "print(\"n:\", n, \"m:\", m)"
   ]
  },
  {
   "cell_type": "code",
   "execution_count": 2,
   "id": "cf97f24f-d56e-4daf-a024-e98eeba06ae2",
   "metadata": {
    "execution": {
     "iopub.execute_input": "2024-09-21T09:26:08.863411Z",
     "iopub.status.busy": "2024-09-21T09:26:08.863411Z",
     "iopub.status.idle": "2024-09-21T09:26:44.750850Z",
     "shell.execute_reply": "2024-09-21T09:26:44.750850Z",
     "shell.execute_reply.started": "2024-09-21T09:26:08.863411Z"
    }
   },
   "outputs": [
    {
     "name": "stdin",
     "output_type": "stream",
     "text": [
      " cut 15\n",
      " cute 10\n",
      " but 6\n",
      " execute 3\n"
     ]
    }
   ],
   "source": [
    "string = []\n",
    "times = []\n",
    "\n",
    "for i in range(n):\n",
    "    data = input().split()\n",
    "    string.append(data[0])\n",
    "    times.append(int(data[1]))"
   ]
  },
  {
   "cell_type": "code",
   "execution_count": 7,
   "id": "71546f5e-e779-4653-808b-f1ec60f420b2",
   "metadata": {
    "execution": {
     "iopub.execute_input": "2024-09-21T14:27:49.818851Z",
     "iopub.status.busy": "2024-09-21T14:27:49.817727Z",
     "iopub.status.idle": "2024-09-21T14:27:49.824104Z",
     "shell.execute_reply": "2024-09-21T14:27:49.824104Z",
     "shell.execute_reply.started": "2024-09-21T14:27:49.818851Z"
    }
   },
   "outputs": [
    {
     "name": "stdout",
     "output_type": "stream",
     "text": [
      "['b', 'c', 'e', 't', 'u', 'x']\n"
     ]
    }
   ],
   "source": [
    "dict1 = {}\n",
    "di = []\n",
    "max_times = 0\n",
    "max_words = []\n",
    "for i in range(n):\n",
    "    for j in range(len(string[i])):\n",
    "        if string[i][j] in dict1:\n",
    "            dict1[string[i][j]] += 1\n",
    "        else:\n",
    "            dict1[string[i][j]] = 1\n",
    "            di.append(string[i][j])\n",
    "\n",
    "di.sort(key= lambda x:x)\n",
    "dict = {}\n",
    "for i in di:\n",
    "    dict[i] = dict1[i]\n",
    "\n",
    "print(di)"
   ]
  },
  {
   "cell_type": "code",
   "execution_count": null,
   "id": "bbbea5bd-4840-4873-b0cf-d36d8976e97f",
   "metadata": {},
   "outputs": [],
   "source": [
    "def split_string(strings, di):\n",
    "    splited_result = []\n",
    "    for d in di:\n",
    "        \n",
    "    splited_string\n",
    "    \n",
    "def merge(n, di, dict):\n",
    "    di = di.reverse()\n",
    "    for d in di:\n",
    "        for i in range(n):\n",
    "            if d in string[i]:\n",
    "                if d in dict:\n",
    "                    dict[d] += string[i].count(d)\n",
    "                else:\n",
    "                    dict[d] = string[i].count(d)"
   ]
  },
  {
   "cell_type": "code",
   "execution_count": 6,
   "id": "8c2d82a6-94e7-472f-8479-a0668ede12c2",
   "metadata": {
    "execution": {
     "iopub.execute_input": "2024-09-21T09:26:59.752606Z",
     "iopub.status.busy": "2024-09-21T09:26:59.752606Z",
     "iopub.status.idle": "2024-09-21T09:26:59.757299Z",
     "shell.execute_reply": "2024-09-21T09:26:59.757299Z",
     "shell.execute_reply.started": "2024-09-21T09:26:59.752606Z"
    }
   },
   "outputs": [
    {
     "name": "stdout",
     "output_type": "stream",
     "text": [
      "('u', 't')\n",
      "{'b': 1, 'c': 3, 'e': 4, 't': 4, 'u': 4, 'x': 1, 'ut': 34}\n"
     ]
    }
   ],
   "source": [
    "dict1 = {}\n",
    "for i in range(n):\n",
    "    for j in range(len(string[i]) - 1):\n",
    "        word_tuple = (string[i][j], string[i][j + 1])\n",
    "        if word_tuple in dict1:\n",
    "            dict1[word_tuple] += times[i]\n",
    "        else:\n",
    "            dict1[word_tuple] = times[i]\n",
    "        if dict1[word_tuple] > max_times:\n",
    "            max_times = dict1[word_tuple]\n",
    "            max_words = []\n",
    "            max_words.append(word_tuple)\n",
    "        elif max_times == dict1[word_tuple]:\n",
    "            max_words.append(word_tuple)\n",
    "\n",
    "\n",
    "if max_words:\n",
    "    max_words.sort(key=lambda x: (len(x[0] + x[1]), len(x[0]), x[0], x[1]))\n",
    "\n",
    "select_word = max_words[0]\n",
    "print(select_word)\n",
    "s = select_word[0] + select_word[1]\n",
    "len_max = len(s)\n",
    "dict[s] = max_times\n",
    "\n",
    "print(dict)\n"
   ]
  },
  {
   "cell_type": "code",
   "execution_count": null,
   "id": "b444f160-5567-45e2-b062-322267806b0d",
   "metadata": {},
   "outputs": [],
   "source": []
  }
 ],
 "metadata": {
  "kernelspec": {
   "display_name": "Python 3 (ipykernel)",
   "language": "python",
   "name": "python3"
  },
  "language_info": {
   "codemirror_mode": {
    "name": "ipython",
    "version": 3
   },
   "file_extension": ".py",
   "mimetype": "text/x-python",
   "name": "python",
   "nbconvert_exporter": "python",
   "pygments_lexer": "ipython3",
   "version": "3.12.4"
  }
 },
 "nbformat": 4,
 "nbformat_minor": 5
}
