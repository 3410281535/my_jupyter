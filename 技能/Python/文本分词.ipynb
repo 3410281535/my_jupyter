{
 "cells": [
  {
   "cell_type": "code",
   "execution_count": 6,
   "id": "0bfe330d-fc4a-4aa9-a443-6d2235a8b3bc",
   "metadata": {
    "execution": {
     "iopub.execute_input": "2024-09-21T14:51:15.355716Z",
     "iopub.status.busy": "2024-09-21T14:51:15.355716Z",
     "iopub.status.idle": "2024-09-21T14:51:17.222221Z",
     "shell.execute_reply": "2024-09-21T14:51:17.221208Z",
     "shell.execute_reply.started": "2024-09-21T14:51:15.355716Z"
    }
   },
   "outputs": [
    {
     "name": "stdin",
     "output_type": "stream",
     "text": [
      " 4 8\n"
     ]
    },
    {
     "name": "stdout",
     "output_type": "stream",
     "text": [
      "n: 4 m: 8\n"
     ]
    }
   ],
   "source": [
    "data = input().split()\n",
    "n = int(data[0])\n",
    "m = int(data[1])\n",
    "print(\"n:\", n, \"m:\", m)"
   ]
  },
  {
   "cell_type": "code",
   "execution_count": 7,
   "id": "cf97f24f-d56e-4daf-a024-e98eeba06ae2",
   "metadata": {
    "execution": {
     "iopub.execute_input": "2024-09-21T14:51:28.171029Z",
     "iopub.status.busy": "2024-09-21T14:51:28.170029Z",
     "iopub.status.idle": "2024-09-21T14:51:44.654438Z",
     "shell.execute_reply": "2024-09-21T14:51:44.653436Z",
     "shell.execute_reply.started": "2024-09-21T14:51:28.171029Z"
    }
   },
   "outputs": [
    {
     "name": "stdin",
     "output_type": "stream",
     "text": [
      " cut 15\n",
      " cute 10\n",
      " but 6\n",
      " execute 3\n"
     ]
    }
   ],
   "source": [
    "string = []\n",
    "times = []\n",
    "\n",
    "for i in range(n):\n",
    "    data = input().split()\n",
    "    string.append(data[0])\n",
    "    times.append(int(data[1]))"
   ]
  },
  {
   "cell_type": "code",
   "execution_count": 8,
   "id": "71546f5e-e779-4653-808b-f1ec60f420b2",
   "metadata": {
    "execution": {
     "iopub.execute_input": "2024-09-21T14:51:47.731288Z",
     "iopub.status.busy": "2024-09-21T14:51:47.731288Z",
     "iopub.status.idle": "2024-09-21T14:51:47.738919Z",
     "shell.execute_reply": "2024-09-21T14:51:47.737902Z",
     "shell.execute_reply.started": "2024-09-21T14:51:47.731288Z"
    }
   },
   "outputs": [
    {
     "name": "stdout",
     "output_type": "stream",
     "text": [
      "['b', 'c', 'e', 't', 'u', 'x']\n"
     ]
    }
   ],
   "source": [
    "dict1 = {}\n",
    "di = []\n",
    "max_times = 0\n",
    "max_words = []\n",
    "for i in range(n):\n",
    "    for j in range(len(string[i])):\n",
    "        if string[i][j] in dict1:\n",
    "            dict1[string[i][j]] += 1\n",
    "        else:\n",
    "            dict1[string[i][j]] = 1\n",
    "            di.append(string[i][j])\n",
    "\n",
    "di.sort(key= lambda x:x)\n",
    "dict = {}\n",
    "for i in di:\n",
    "    dict[i] = dict1[i]\n",
    "\n",
    "print(di)"
   ]
  },
  {
   "cell_type": "code",
   "execution_count": 17,
   "id": "bbbea5bd-4840-4873-b0cf-d36d8976e97f",
   "metadata": {
    "execution": {
     "iopub.execute_input": "2024-09-21T15:03:16.820571Z",
     "iopub.status.busy": "2024-09-21T15:03:16.820571Z",
     "iopub.status.idle": "2024-09-21T15:03:16.823725Z",
     "shell.execute_reply": "2024-09-21T15:03:16.823725Z",
     "shell.execute_reply.started": "2024-09-21T15:03:16.820571Z"
    }
   },
   "outputs": [],
   "source": [
    "def split_string(string, di):\n",
    "    di.reverse()\n",
    "    splited_result = []\n",
    "    for d in di:\n",
    "        new_string = []\n",
    "        for i in range(n):\n",
    "            splited_string = string[i].split(d)\n",
    "            new_string.extend(splited_string)\n",
    "        string = new_string\n",
    "    return string\n",
    "\n"
   ]
  },
  {
   "cell_type": "code",
   "execution_count": 18,
   "id": "1d8fcf6d-02ce-4d4f-be9d-0f57abf52b9e",
   "metadata": {
    "execution": {
     "iopub.execute_input": "2024-09-21T15:03:17.388198Z",
     "iopub.status.busy": "2024-09-21T15:03:17.388198Z",
     "iopub.status.idle": "2024-09-21T15:03:17.395345Z",
     "shell.execute_reply": "2024-09-21T15:03:17.394331Z",
     "shell.execute_reply.started": "2024-09-21T15:03:17.388198Z"
    }
   },
   "outputs": [
    {
     "name": "stdout",
     "output_type": "stream",
     "text": [
      "['', '', '', '']\n"
     ]
    }
   ],
   "source": [
    "splited_result = split_string(string, di)\n",
    "print(splited_result)"
   ]
  },
  {
   "cell_type": "code",
   "execution_count": null,
   "id": "1ed31789-434f-4ffe-b90e-fceaf46cc78f",
   "metadata": {},
   "outputs": [],
   "source": [
    "def merge(n, di, dict):\n",
    "    di = di.reverse()\n",
    "    for d in di:\n",
    "        for i in range(n):\n",
    "            if d in string[i]:\n",
    "                if d in dict:\n",
    "                    dict[d] += string[i].count(d)\n",
    "                else:\n",
    "                    dict[d] = string[i].count(d)"
   ]
  },
  {
   "cell_type": "code",
   "execution_count": 6,
   "id": "8c2d82a6-94e7-472f-8479-a0668ede12c2",
   "metadata": {
    "execution": {
     "iopub.execute_input": "2024-09-21T09:26:59.752606Z",
     "iopub.status.busy": "2024-09-21T09:26:59.752606Z",
     "iopub.status.idle": "2024-09-21T09:26:59.757299Z",
     "shell.execute_reply": "2024-09-21T09:26:59.757299Z",
     "shell.execute_reply.started": "2024-09-21T09:26:59.752606Z"
    }
   },
   "outputs": [
    {
     "name": "stdout",
     "output_type": "stream",
     "text": [
      "('u', 't')\n",
      "{'b': 1, 'c': 3, 'e': 4, 't': 4, 'u': 4, 'x': 1, 'ut': 34}\n"
     ]
    }
   ],
   "source": [
    "dict1 = {}\n",
    "for i in range(n):\n",
    "    for j in range(len(string[i]) - 1):\n",
    "        word_tuple = (string[i][j], string[i][j + 1])\n",
    "        if word_tuple in dict1:\n",
    "            dict1[word_tuple] += times[i]\n",
    "        else:\n",
    "            dict1[word_tuple] = times[i]\n",
    "        if dict1[word_tuple] > max_times:\n",
    "            max_times = dict1[word_tuple]\n",
    "            max_words = []\n",
    "            max_words.append(word_tuple)\n",
    "        elif max_times == dict1[word_tuple]:\n",
    "            max_words.append(word_tuple)\n",
    "\n",
    "\n",
    "if max_words:\n",
    "    max_words.sort(key=lambda x: (len(x[0] + x[1]), len(x[0]), x[0], x[1]))\n",
    "\n",
    "select_word = max_words[0]\n",
    "print(select_word)\n",
    "s = select_word[0] + select_word[1]\n",
    "len_max = len(s)\n",
    "dict[s] = max_times\n",
    "\n",
    "print(dict)\n"
   ]
  },
  {
   "cell_type": "code",
   "execution_count": null,
   "id": "b444f160-5567-45e2-b062-322267806b0d",
   "metadata": {},
   "outputs": [],
   "source": []
  }
 ],
 "metadata": {
  "kernelspec": {
   "display_name": "Python 3 (ipykernel)",
   "language": "python",
   "name": "python3"
  },
  "language_info": {
   "codemirror_mode": {
    "name": "ipython",
    "version": 3
   },
   "file_extension": ".py",
   "mimetype": "text/x-python",
   "name": "python",
   "nbconvert_exporter": "python",
   "pygments_lexer": "ipython3",
   "version": "3.12.4"
  }
 },
 "nbformat": 4,
 "nbformat_minor": 5
}
